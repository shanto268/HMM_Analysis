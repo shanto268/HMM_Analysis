{
 "cells": [
  {
   "cell_type": "markdown",
   "id": "c86ec929",
   "metadata": {
    "toc": true
   },
   "source": [
    "<h1>Table of Contents<span class=\"tocSkip\"></span></h1>\n",
    "<div class=\"toc\"><ul class=\"toc-item\"><li><span><a href=\"#Plotting-Code:\" data-toc-modified-id=\"Plotting-Code:-1\"><span class=\"toc-item-num\">1&nbsp;&nbsp;</span>Plotting Code:</a></span><ul class=\"toc-item\"><li><span><a href=\"#Flux-Power-Sweep\" data-toc-modified-id=\"Flux-Power-Sweep-1.1\"><span class=\"toc-item-num\">1.1&nbsp;&nbsp;</span>Flux-Power Sweep</a></span><ul class=\"toc-item\"><li><span><a href=\"#Trap-and-Release-Rate-with-fitting\" data-toc-modified-id=\"Trap-and-Release-Rate-with-fitting-1.1.1\"><span class=\"toc-item-num\">1.1.1&nbsp;&nbsp;</span>Trap and Release Rate with fitting</a></span><ul class=\"toc-item\"><li><span><a href=\"#Fitting\" data-toc-modified-id=\"Fitting-1.1.1.1\"><span class=\"toc-item-num\">1.1.1.1&nbsp;&nbsp;</span>Fitting</a></span></li></ul></li></ul></li><li><span><a href=\"#Trap-Lifetime\" data-toc-modified-id=\"Trap-Lifetime-1.2\"><span class=\"toc-item-num\">1.2&nbsp;&nbsp;</span>Trap Lifetime</a></span></li><li><span><a href=\"#Power-Sweep\" data-toc-modified-id=\"Power-Sweep-1.3\"><span class=\"toc-item-num\">1.3&nbsp;&nbsp;</span>Power Sweep</a></span><ul class=\"toc-item\"><li><span><a href=\"#Mean-Occupations\" data-toc-modified-id=\"Mean-Occupations-1.3.1\"><span class=\"toc-item-num\">1.3.1&nbsp;&nbsp;</span>Mean Occupations</a></span></li><li><span><a href=\"#Probabilities-of-Mode\" data-toc-modified-id=\"Probabilities-of-Mode-1.3.2\"><span class=\"toc-item-num\">1.3.2&nbsp;&nbsp;</span>Probabilities of Mode</a></span></li><li><span><a href=\"#Transition-Rates\" data-toc-modified-id=\"Transition-Rates-1.3.3\"><span class=\"toc-item-num\">1.3.3&nbsp;&nbsp;</span>Transition Rates</a></span></li><li><span><a href=\"#Lifetimes\" data-toc-modified-id=\"Lifetimes-1.3.4\"><span class=\"toc-item-num\">1.3.4&nbsp;&nbsp;</span>Lifetimes</a></span></li></ul></li><li><span><a href=\"#Lifetime-Statistics\" data-toc-modified-id=\"Lifetime-Statistics-1.4\"><span class=\"toc-item-num\">1.4&nbsp;&nbsp;</span>Lifetime Statistics</a></span></li></ul></li></ul></div>"
   ]
  },
  {
   "cell_type": "markdown",
   "id": "580bd3df",
   "metadata": {},
   "source": [
    "# Plotting Code:"
   ]
  },
  {
   "cell_type": "markdown",
   "id": "decdfae3",
   "metadata": {
    "heading_collapsed": true
   },
   "source": [
    "## Flux-Power Sweep\n"
   ]
  },
  {
   "cell_type": "code",
   "execution_count": null,
   "id": "3e79eb09",
   "metadata": {
    "hidden": true
   },
   "outputs": [],
   "source": [
    "import numpy as np\n",
    "import h5py\n",
    "import fitTools.quasiparticleFunctions as qp\n",
    "import matplotlib.pyplot as plt\n",
    "import glob\n",
    "plt.rcParams.update({'axes.labelpad':0.2,\n",
    "                     'axes.linewidth':1.0,\n",
    "                     'figure.dpi':300.0,\n",
    "                     'figure.figsize':[3.325,3.325],\n",
    "                     'legend.frameon':True,\n",
    "                     'legend.handlelength':1.0,\n",
    "                     'xtick.major.pad':2,\n",
    "                     'xtick.minor.pad':2,\n",
    "                     'xtick.major.width':1.0,\n",
    "                     'ytick.major.pad':2,\n",
    "                     'ytick.minor.pad':2,\n",
    "                     'ytick.major.width':1.0,\n",
    "                     'axes.ymargin':0.01,\n",
    "                     'axes.xmargin':0.01})\n",
    "plt.rcParams['pdf.fonttype'] = 42\n",
    "plt.rcParams['font.size'] = 24\n",
    "figurepath = os.path.join(SPATH,'autoPhi\\Figures')\n",
    "\n",
    "if not os.path.exists(figurepath):\n",
    "    os.makedirs(figurepath)\n",
    "\n",
    "import os\n",
    "from matplotlib.colors import LogNorm\n",
    "from matplotlib.patches import Ellipse\n",
    "from time import perf_counter, sleep\n",
    "from hmmlearn import hmm\n",
    "import pickle"
   ]
  },
  {
   "cell_type": "markdown",
   "id": "fe4d8194",
   "metadata": {
    "hidden": true
   },
   "source": [
    "###  Trap and Release Rate with fitting\n"
   ]
  },
  {
   "cell_type": "code",
   "execution_count": null,
   "id": "b0a0936d",
   "metadata": {
    "hidden": true
   },
   "outputs": [],
   "source": [
    "lPhi = np.round(np.arange(0.5,0.3,-0.001),decimals=3)\n",
    "lPowers = np.round(np.arange(-156,-126.9),decimals=0)\n",
    "lRate = np.empty((len(lPhi),len(lPowers)))\n",
    "\n",
    "with h5py.File(savefile,'r') as f:\n",
    "    for phi in lPhi:\n",
    "        g = f[f'PHI{phi*1000:3.0f}']\n",
    "        fullrates = np.empty(lPowers.shape)\n",
    "        fullrates.fill(np.nan)\n",
    "        powers = np.array([g[k].attrs.get('LOpower') for k in g])\n",
    "        psort = np.argsort(powers)\n",
    "        mask = np.intersect1d(lPowers,powers,return_indices=True)[1]\n",
    "        rates = np.array([g[k]['transitionRatesMHz'][0,1] for k in g])\n",
    "        fullrates[mask] = rates[psort]\n",
    "        lRate[lPhi == np.round(g.attrs['phi'],decimals=3),:] = fullrates\n",
    "#         plt.plot(lPowers,fullmeans)\n",
    "#         plt.title(f'phi = {phi}')\n",
    "#         plt.show()\n",
    "#         plt.close()\n",
    "Ea_D = np.sqrt(1-np.sin(np.pi*lPhi/2)**2)\n",
    "trapdepth = (1 - Ea_D)*50\n",
    "XX,YY = np.meshgrid(lPowers,lPhi)\n",
    "\n",
    "fig,ax = plt.subplots(figsize=[9,6],subplot_kw={'projection':'3d'})\n",
    "surf = ax.plot_surface(XX,YY,np.log10(lRate),cmap = cm.coolwarm)\n",
    "ax.zaxis.set_major_formatter(mticker.FuncFormatter(log_tick_formatter))\n",
    "ax.zaxis.set_major_locator(mticker.MaxNLocator(integer=True))\n",
    "ax.set_ylabel('$\\phi$')\n",
    "ax.set_xlabel('Readout power [dBm]')\n",
    "ax.set_zlabel('Trap rate [MHz]')\n",
    "plt.show()"
   ]
  },
  {
   "cell_type": "code",
   "execution_count": null,
   "id": "8f8de435",
   "metadata": {
    "hidden": true
   },
   "outputs": [],
   "source": [
    "Ea_D = np.sqrt(1-np.sin(np.pi*lPhi/2)**2)\n",
    "trapdepth = (1 - Ea_D)*50\n",
    "XX,YY = np.meshgrid(lPowers,trapdepth)\n",
    "\n",
    "fig,ax = plt.subplots(figsize=[9,6],subplot_kw={'projection':'3d'})\n",
    "surf = ax.plot_surface(XX,YY,np.log10(lRate),cmap = cm.coolwarm)\n",
    "ax.zaxis.set_major_formatter(mticker.FuncFormatter(log_tick_formatter))\n",
    "ax.zaxis.set_major_locator(mticker.MaxNLocator(integer=True))\n",
    "ax.set_ylabel('$\\Delta - E_A [GHz]$')\n",
    "ax.set_xlabel('Readout power [dBm]')\n",
    "ax.set_zlabel('Trap rate [MHz]')\n",
    "plt.show()"
   ]
  },
  {
   "cell_type": "code",
   "execution_count": null,
   "id": "f3f6ed74",
   "metadata": {
    "hidden": true
   },
   "outputs": [],
   "source": [
    "import matplotlib.ticker as mticker\n",
    "def log_tick_formatter(val, pos=None):\n",
    "    return f\"$10^{{{np.round(val,decimals=1)}}}$\"  # remove int() if you don't use MaxNLocator\n",
    "    # return f\"{10**val:.2e}\"      # e-Notation\n",
    "\n",
    "lPhi = np.round(np.arange(0.5,0.3,-0.001),decimals=3)\n",
    "lPowers = np.round(np.arange(-156,-126.9),decimals=0)\n",
    "lRate = np.empty((len(lPhi),len(lPowers)))\n",
    "\n",
    "with h5py.File(savefile,'r') as f:\n",
    "    for phi in lPhi:\n",
    "        g = f[f'PHI{phi*1000:3.0f}']\n",
    "        fullrates = np.empty(lPowers.shape)\n",
    "        fullrates.fill(np.nan)\n",
    "        powers = np.array([g[k].attrs.get('LOpower') for k in g])\n",
    "        psort = np.argsort(powers)\n",
    "        mask = np.intersect1d(lPowers,powers,return_indices=True)[1]\n",
    "        rates = np.array([g[k]['transitionRatesMHz'][1,0] for k in g])\n",
    "        fullrates[mask] = rates[psort]\n",
    "        lRate[lPhi == np.round(g.attrs['phi'],decimals=3),:] = fullrates\n",
    "#         plt.plot(lPowers,fullmeans)\n",
    "#         plt.title(f'phi = {phi}')\n",
    "#         plt.show()\n",
    "#         plt.close()\n",
    "Ea_D = np.sqrt(1-np.sin(np.pi*lPhi/2)**2)\n",
    "trapdepth = (1 - Ea_D)*50\n",
    "XX,YY = np.meshgrid(lPowers,lPhi)\n",
    "\n",
    "fig,ax = plt.subplots(figsize=[9,6],subplot_kw={'projection':'3d'})\n",
    "surf = ax.plot_surface(XX,YY,np.log10(lRate),cmap = cm.coolwarm)\n",
    "ax.zaxis.set_major_formatter(mticker.FuncFormatter(log_tick_formatter))\n",
    "ax.zaxis.set_major_locator(mticker.MaxNLocator(integer=True))\n",
    "ax.set_ylabel('$\\phi$')\n",
    "ax.set_xlabel('Readout power [dBm]')\n",
    "ax.set_zlabel('Release rate [MHz]')\n",
    "plt.show()"
   ]
  },
  {
   "cell_type": "code",
   "execution_count": null,
   "id": "2a769e03",
   "metadata": {
    "hidden": true
   },
   "outputs": [],
   "source": [
    "Ea_D = np.sqrt(1-np.sin(np.pi*lPhi/2)**2)\n",
    "trapdepth = (1 - Ea_D)*50\n",
    "XX,YY = np.meshgrid(lPowers,trapdepth)\n",
    "\n",
    "fig,ax = plt.subplots(figsize=[9,6],subplot_kw={'projection':'3d'})\n",
    "surf = ax.plot_surface(XX,YY,np.log10(lRate),cmap = cm.coolwarm)\n",
    "ax.zaxis.set_major_formatter(mticker.FuncFormatter(log_tick_formatter))\n",
    "ax.zaxis.set_major_locator(mticker.MaxNLocator(integer=True))\n",
    "ax.set_ylabel('$\\Delta - E_A [GHz]$')\n",
    "ax.set_xlabel('Readout power [dBm]')\n",
    "ax.set_zlabel('Release rate [MHz]')\n",
    "plt.show()"
   ]
  },
  {
   "cell_type": "markdown",
   "id": "df18c560",
   "metadata": {
    "hidden": true
   },
   "source": [
    "#### Fitting"
   ]
  },
  {
   "cell_type": "code",
   "execution_count": null,
   "id": "e474f01f",
   "metadata": {
    "hidden": true
   },
   "outputs": [],
   "source": [
    "from scipy.optimize import curve_fit\n",
    "def curves(p,a,b,c):\n",
    "    return a + b*p + c*np.sqrt(p)"
   ]
  },
  {
   "cell_type": "code",
   "execution_count": null,
   "id": "9c48b3cd",
   "metadata": {
    "hidden": true
   },
   "outputs": [],
   "source": [
    "lPhi = np.round(np.arange(0.5,0.3,-0.001),decimals=3)\n",
    "lPowers = np.round(np.arange(-156,-126.9),decimals=0)\n",
    "lRate = np.empty((len(lPhi),len(lPowers)))\n",
    "lCurves = np.empty((len(lPhi),len(lPowers)))\n",
    "lPars = np.empty((len(lPhi),3))\n",
    "lError = np.empty_like(lPars)\n",
    "lMask = np.ones(len(lPhi),dtype=bool)\n",
    "with h5py.File(savefile,'r') as f:\n",
    "    for phi in lPhi:\n",
    "        g = f[f'PHI{phi*1000:3.0f}']\n",
    "        fullrates = np.empty(lPowers.shape)\n",
    "        fullrates.fill(np.nan)\n",
    "        powers = np.array([g[k].attrs.get('LOpower') for k in g])\n",
    "        psort = np.argsort(powers)\n",
    "        mask = np.intersect1d(lPowers,powers,return_indices=True)[1]\n",
    "        rates = np.array([g[k]['transitionRatesMHz'][1,0] for k in g])\n",
    "        guess = [0.025,1e12,1e5]\n",
    "        pars,cov = curve_fit(curves,10**(powers[psort]/10),rates[psort],p0=guess,bounds=(1e-3,np.inf),maxfev=5000)\n",
    "        lPars[lPhi == np.round(g.attrs['phi'],decimals=3),:] = pars\n",
    "        lError[lPhi == np.round(g.attrs['phi'],decimals=3),:] = np.sqrt(np.diag(cov))/pars\n",
    "#         if any(np.sqrt(np.diag(cov))/pars > 1):\n",
    "#             lMask[lPhi == np.round(g.attrs['phi'],decimals=3)] = False\n",
    "#         print(pars)\n",
    "#         print(f'{np.sqrt(np.diag(cov))/pars} \\n')\n",
    "        fullrates[mask] = rates[psort]\n",
    "        lCurves[lPhi == np.round(g.attrs['phi'],decimals=3),:] = curves(10**(lPowers/10),*pars)\n",
    "#         fig,ax = plt.subplots(figsize=[9,6])\n",
    "#         ax.plot(powers[psort],rates[psort],label='data')\n",
    "#         ax.plot(lPowers,curves((10**(lPowers/10)),*pars),label=f'{pars}')\n",
    "#         ax.set_yscale('log')\n",
    "#         plt.title(f\"{np.round(g.attrs['phi'],decimals=3)}\")\n",
    "#         plt.legend()\n",
    "#         plt.show()\n",
    "        lRate[lPhi == np.round(g.attrs['phi'],decimals=3),:] = fullrates\n",
    "Ea_D = np.sqrt(1-np.sin(np.pi*lPhi/2)**2)\n",
    "trapdepth = (1 - Ea_D)\n",
    "XX,YY = np.meshgrid(lPowers,lPhi)\n",
    "\n",
    "fig,ax = plt.subplots(figsize=[9,6],subplot_kw={'projection':'3d'})\n",
    "ax.plot_wireframe(XX, YY, np.log10(lCurves), rstride=1, cstride=1,alpha=0.4)\n",
    "surf = ax.plot_surface(XX,YY,np.log10(lRate),cmap = cm.coolwarm)\n",
    "ax.zaxis.set_major_formatter(mticker.FuncFormatter(log_tick_formatter))\n",
    "ax.zaxis.set_major_locator(mticker.MaxNLocator(integer=True))\n",
    "ax.set_ylabel('$\\phi$')\n",
    "ax.set_xlabel('Readout power [dBm]')\n",
    "ax.set_zlabel('release rate [MHz]')\n",
    "plt.show()"
   ]
  },
  {
   "cell_type": "code",
   "execution_count": null,
   "id": "a992574b",
   "metadata": {
    "hidden": true
   },
   "outputs": [],
   "source": [
    "fig,ax = plt.subplots(figsize=[9,6])\n",
    "ax.plot(lPhi[lMask],lPars[:,0][lMask],label='intercept.')\n",
    "ax.plot(lPhi[lMask],lPars[:,1][lMask],label='lin coeff.')\n",
    "ax.plot(lPhi[lMask],lPars[:,2][lMask],label='sqrt coeff.')\n",
    "ax.set_yscale('log')\n",
    "plt.legend()\n",
    "plt.show()"
   ]
  },
  {
   "cell_type": "markdown",
   "id": "0e282c92",
   "metadata": {
    "heading_collapsed": true
   },
   "source": [
    "## Trap Lifetime"
   ]
  },
  {
   "cell_type": "code",
   "execution_count": null,
   "id": "ef3a9241",
   "metadata": {
    "hidden": true
   },
   "outputs": [],
   "source": [
    "lPhi = np.round(np.arange(0.5,0.3,-0.001),decimals=3)\n",
    "lPowers = np.round(np.arange(-156,-126.9),decimals=0)\n",
    "lRate = np.empty((len(lPhi),len(lPowers)))\n",
    "\n",
    "with h5py.File(savefile,'r') as f:\n",
    "    for phi in lPhi:\n",
    "        g = f[f'PHI{phi*1000:3.0f}']\n",
    "        fullrates = np.empty(lPowers.shape)\n",
    "        fullrates.fill(np.nan)\n",
    "        powers = np.array([g[k].attrs.get('LOpower') for k in g])\n",
    "        psort = np.argsort(powers)\n",
    "        mask = np.intersect1d(lPowers,powers,return_indices=True)[1]\n",
    "        rates = np.array([1/g[k]['transitionRatesMHz'][1,1] for k in g])\n",
    "        fullrates[mask] = rates[psort]\n",
    "        lRate[lPhi == np.round(g.attrs['phi'],decimals=3),:] = fullrates\n",
    "#         plt.plot(lPowers,fullmeans)\n",
    "#         plt.title(f'phi = {phi}')\n",
    "#         plt.show()\n",
    "#         plt.close()\n",
    "Ea_D = np.sqrt(1-np.sin(np.pi*lPhi/2)**2)\n",
    "trapdepth = (1 - Ea_D)*50\n",
    "XX,YY = np.meshgrid(lPowers,lPhi)\n",
    "\n",
    "fig,ax = plt.subplots(figsize=[9,6],subplot_kw={'projection':'3d'})\n",
    "surf = ax.plot_surface(XX,YY,np.log10(lRate),cmap = cm.coolwarm)\n",
    "ax.zaxis.set_major_formatter(mticker.FuncFormatter(log_tick_formatter))\n",
    "ax.zaxis.set_major_locator(mticker.MaxNLocator(integer=True))\n",
    "ax.set_ylabel('$\\phi$')\n",
    "ax.set_xlabel('Readout power [dBm]')\n",
    "ax.set_zlabel('trap lifetime [$\\mu$s]')\n",
    "plt.show()"
   ]
  },
  {
   "cell_type": "code",
   "execution_count": null,
   "id": "fd910c6a",
   "metadata": {
    "hidden": true
   },
   "outputs": [],
   "source": [
    "Ea_D = np.sqrt(1-np.sin(np.pi*lPhi/2)**2)\n",
    "trapdepth = (1 - Ea_D)*50\n",
    "XX,YY = np.meshgrid(lPowers,trapdepth)\n",
    "\n",
    "fig,ax = plt.subplots(figsize=[9,6],subplot_kw={'projection':'3d'})\n",
    "surf = ax.plot_surface(XX,YY,np.log10(lRate),cmap = cm.coolwarm)\n",
    "ax.zaxis.set_major_locator(mticker.MaxNLocator(integer=True))\n",
    "ax.zaxis.set_major_formatter(mticker.FuncFormatter(log_tick_formatter))\n",
    "ax.set_ylabel('$\\Delta - E_A$ [GHz]')\n",
    "ax.set_xlabel('Readout power [dBm]')\n",
    "ax.set_zlabel('trap lifetime [$\\mu$s]')\n",
    "plt.show()"
   ]
  },
  {
   "cell_type": "markdown",
   "id": "697da3b8",
   "metadata": {},
   "source": [
    "## Power Sweep"
   ]
  },
  {
   "cell_type": "code",
   "execution_count": null,
   "id": "12044c3e",
   "metadata": {},
   "outputs": [],
   "source": [
    "ints = 0\n",
    "ks = f'{ints}QP'.replace('.','p')\n",
    "dsr = f'{sr}MHz'.replace('.','p')\n",
    "\n",
    "savefile = r\"E:\\NBR07_powerSweeps\\ProcessedData\\cooldown7_dataset1.hdf5\"\n",
    "with h5py.File(savefile,'a') as f:\n",
    "    for key in metainfo:\n",
    "        f.attrs.create(key,metainfo[key])\n",
    "\n",
    "figpath = r\"E:\\NBR07_powerSweeps\\Figures\\cooldown7_dataset1\\{}QP\\\\\".format(ks)\n",
    "import os\n",
    "if not os.path.exists(figpath):\n",
    "    os.makedirs(figpath)"
   ]
  },
  {
   "cell_type": "markdown",
   "id": "44dc2594",
   "metadata": {},
   "source": [
    "### Mean Occupations"
   ]
  },
  {
   "cell_type": "code",
   "execution_count": null,
   "id": "069a4a59",
   "metadata": {},
   "outputs": [],
   "source": [
    "with h5py.File(savefile,'r') as fb:\n",
    "    f = fb[ks]\n",
    "    for key in f:\n",
    "        LOp = f[key].attrs.get('LOpower')\n",
    "        Qmean = f[key].attrs.get('mean')\n",
    "        plt.scatter(LOp,Qmean,color='red')\n",
    "plt.xlabel('LO power [dBm]')\n",
    "plt.ylabel('Mean occupation')\n",
    "plt.title(f'Cooldown 7 | 22 mK | {ints} QP LO')\n",
    "plt.savefig(figpath + 'meanOccupation.png')"
   ]
  },
  {
   "cell_type": "code",
   "execution_count": null,
   "id": "a19cfeb0",
   "metadata": {},
   "outputs": [],
   "source": [
    "with h5py.File(savefile,'r') as fb:\n",
    "    f = fb[ks]\n",
    "    for key in f:\n",
    "        LOp = f[key].attrs.get('LOpower')\n",
    "        Qmean = f[key].attrs.get('mean')\n",
    "        plt.scatter(LOp,Qmean,color='red')\n",
    "plt.xlabel('LO power [dBm]')\n",
    "plt.ylabel('Mean occupation')\n",
    "plt.title(f'Cooldown 7 | 22 mK | {ints} QP LO')\n",
    "plt.yscale('log')\n",
    "plt.savefig(figpath + 'meanOccupation_logscale.png')"
   ]
  },
  {
   "cell_type": "markdown",
   "id": "92917fb6",
   "metadata": {},
   "source": [
    "### Probabilities of Mode"
   ]
  },
  {
   "cell_type": "code",
   "execution_count": null,
   "id": "ba915f37",
   "metadata": {},
   "outputs": [],
   "source": [
    "from matplotlib.lines import Line2D\n",
    "\n",
    "with h5py.File(savefile,'r') as fb:\n",
    "    f = fb[ks]\n",
    "    for key in f:\n",
    "        LOp = f[key].attrs.get('LOpower')\n",
    "        P0 = f[key].attrs.get('P0')\n",
    "        P1 = f[key].attrs.get('P1')\n",
    "        P2 = f[key].attrs.get('P2')\n",
    "        plt.scatter(LOp,P0,color='purple')\n",
    "        plt.scatter(LOp,P1,color='orange')\n",
    "        plt.scatter(LOp,P2,color='green')\n",
    "legend_elements = [Line2D([0], [0], marker='o', color='w',markerfacecolor='purple', label='P0'),\n",
    "                  Line2D([0], [0], marker='o', color='w',markerfacecolor='orange', label='P1'),\n",
    "                  Line2D([0], [0], marker='o', color='w',markerfacecolor='green', label='P2')]\n",
    "plt.xlabel('LO power [dBm]')\n",
    "plt.ylabel('Probability of mode')\n",
    "plt.title(f'Cooldown 7 | 22 mK | {ints} QP LO')\n",
    "plt.legend(handles=legend_elements)\n",
    "plt.savefig(figpath + 'probabilities.png')"
   ]
  },
  {
   "cell_type": "code",
   "execution_count": null,
   "id": "69c6f06c",
   "metadata": {},
   "outputs": [],
   "source": [
    "with h5py.File(savefile,'r') as fb:\n",
    "    f = fb[ks]\n",
    "    for key in f:\n",
    "        LOp = f[key].attrs.get('LOpower')\n",
    "        P0 = f[key].attrs.get('P0')\n",
    "        P1 = f[key].attrs.get('P1')\n",
    "        P2 = f[key].attrs.get('P2')\n",
    "        plt.scatter(LOp,P0,color='purple')\n",
    "        plt.scatter(LOp,P1,color='orange')\n",
    "        plt.scatter(LOp,P2,color='green')\n",
    "legend_elements = [Line2D([0], [0], marker='o', color='w',markerfacecolor='purple', label='P0'),\n",
    "                  Line2D([0], [0], marker='o', color='w',markerfacecolor='orange', label='P1'),\n",
    "                  Line2D([0], [0], marker='o', color='w',markerfacecolor='green', label='P2')]\n",
    "plt.xlabel('LO power [dBm]')\n",
    "plt.ylabel('Probability of mode')\n",
    "plt.yscale('log')\n",
    "plt.title(f'Cooldown 7 | 22 mK | {ints} QP LO')\n",
    "plt.legend(handles=legend_elements)\n",
    "plt.savefig(figpath + 'probabilities_logscale.png')"
   ]
  },
  {
   "cell_type": "markdown",
   "id": "49dd66d6",
   "metadata": {},
   "source": [
    "### Transition Rates"
   ]
  },
  {
   "cell_type": "code",
   "execution_count": null,
   "id": "09d1871f",
   "metadata": {},
   "outputs": [],
   "source": [
    "with h5py.File(savefile,'r') as fb:\n",
    "    f = fb[ks]\n",
    "    for key in f:\n",
    "        LOp = f[key].attrs.get('LOpower')\n",
    "        rates = f[key]['transitionRatesMHz'][:]\n",
    "        plt.scatter(LOp,rates[0,1],color='purple')\n",
    "        plt.scatter(LOp,rates[1,2],color='orange')\n",
    "        plt.scatter(LOp,rates[0,2],color='green')\n",
    "        plt.scatter(LOp,rates[2,1],color='cyan')\n",
    "        plt.scatter(LOp,rates[1,0],color='red')\n",
    "        plt.scatter(LOp,rates[2,0],color='magenta')\n",
    "        \n",
    "legend_elements = [Line2D([0], [0], marker='o', color='w',markerfacecolor='purple', label='$\\\\Gamma_{01}$'),\n",
    "                  Line2D([0], [0], marker='o', color='w',markerfacecolor='orange', label='$\\\\Gamma_{12}$'),\n",
    "                  Line2D([0], [0], marker='o', color='w',markerfacecolor='green', label='$\\\\Gamma_{02}$'),\n",
    "                  Line2D([0], [0], marker='o', color='w',markerfacecolor='cyan', label='$\\\\Gamma_{21}$'),\n",
    "                  Line2D([0], [0], marker='o', color='w',markerfacecolor='red', label='$\\\\Gamma_{10}$'),\n",
    "                  Line2D([0], [0], marker='o', color='w',markerfacecolor='magenta', label='$\\\\Gamma_{20}$')]\n",
    "plt.xlabel('LO power [dBm]')\n",
    "plt.ylabel('Transition rate [MHz]')\n",
    "plt.title(f'Cooldown 7 | 22 mK | {ints} QP LO')\n",
    "plt.legend(handles=legend_elements)\n",
    "plt.ylim(0,0.2)\n",
    "plt.savefig(figpath + 'transitionrates.png')\n",
    "plt.show()\n",
    "plt.close()"
   ]
  },
  {
   "cell_type": "code",
   "execution_count": null,
   "id": "0e2fc0d2",
   "metadata": {},
   "outputs": [],
   "source": [
    "with h5py.File(savefile,'r') as fb:\n",
    "    f = fb[ks]\n",
    "    for key in f:\n",
    "        LOp = f[key].attrs.get('LOpower')\n",
    "        rates = f[key]['transitionRatesMHz'][:]\n",
    "        plt.scatter(LOp,rates[0,1],color='purple')\n",
    "        plt.scatter(LOp,rates[1,2],color='orange')\n",
    "        plt.scatter(LOp,rates[0,2],color='green')\n",
    "        plt.scatter(LOp,rates[2,1],color='cyan')\n",
    "        plt.scatter(LOp,rates[1,0],color='red')\n",
    "        plt.scatter(LOp,rates[2,0],color='magenta')\n",
    "legend_elements = [Line2D([0], [0], marker='o', color='w',markerfacecolor='purple', label='$\\\\Gamma_{01}$'),\n",
    "                  Line2D([0], [0], marker='o', color='w',markerfacecolor='orange', label='$\\\\Gamma_{12}$'),\n",
    "                  Line2D([0], [0], marker='o', color='w',markerfacecolor='green', label='$\\\\Gamma_{02}$'),\n",
    "                  Line2D([0], [0], marker='o', color='w',markerfacecolor='cyan', label='$\\\\Gamma_{21}$'),\n",
    "                  Line2D([0], [0], marker='o', color='w',markerfacecolor='red', label='$\\\\Gamma_{10}$'),\n",
    "                  Line2D([0], [0], marker='o', color='w',markerfacecolor='magenta', label='$\\\\Gamma_{20}$')]\n",
    "plt.xlabel('LO power [dBm]')\n",
    "plt.ylabel('Transition rate [MHz]')\n",
    "plt.title(f'Cooldown 7 | 22 mK | {ints} QP LO')\n",
    "plt.yscale('log')\n",
    "plt.legend(handles=legend_elements)\n",
    "plt.savefig(figpath + 'transitionrates_logscale.png')\n",
    "plt.show()\n",
    "plt.close()"
   ]
  },
  {
   "cell_type": "markdown",
   "id": "6951cc61",
   "metadata": {},
   "source": [
    "### Lifetimes"
   ]
  },
  {
   "cell_type": "code",
   "execution_count": null,
   "id": "a6755046",
   "metadata": {},
   "outputs": [],
   "source": [
    "with h5py.File(savefile,'r') as fb:\n",
    "    f = fb[ks]\n",
    "    for key in f:\n",
    "        LOp = f[key].attrs.get('LOpower')\n",
    "        rates = f[key]['transitionRatesMHz'][:]\n",
    "        plt.scatter(LOp,1/rates[0,0],color='purple')\n",
    "        plt.scatter(LOp,1/rates[1,1],color='orange')\n",
    "        plt.scatter(LOp,1/rates[2,2],color='green')\n",
    "legend_elements = [Line2D([0], [0], marker='o', color='w',markerfacecolor='purple', label='$\\\\tau_{0}$'),\n",
    "                  Line2D([0], [0], marker='o', color='w',markerfacecolor='orange', label='$\\\\tau_{1}$'),\n",
    "                  Line2D([0], [0], marker='o', color='w',markerfacecolor='green', label='$\\\\tau_{2}$')]\n",
    "plt.xlabel('LO power [dBm]')\n",
    "plt.ylabel('lifetime [$\\mu#s]')\n",
    "plt.title(f'Cooldown 7 | 22 mK | {ints} QP LO')\n",
    "plt.legend(handles=legend_elements)\n",
    "plt.savefig(figpath + 'lifetimes.png')\n",
    "plt.show()\n",
    "plt.close()"
   ]
  },
  {
   "cell_type": "code",
   "execution_count": null,
   "id": "5e97ba41",
   "metadata": {},
   "outputs": [],
   "source": [
    "with h5py.File(savefile,'r') as fb:\n",
    "    f = fb[ks]\n",
    "    for key in f:\n",
    "        LOp = f[key].attrs.get('LOpower')\n",
    "        rates = f[key]['transitionRatesMHz'][:]\n",
    "        plt.scatter(LOp,1/rates[0,0],color='purple')\n",
    "        plt.scatter(LOp,1/rates[1,1],color='orange')\n",
    "        plt.scatter(LOp,1/rates[2,2],color='green')\n",
    "legend_elements = [Line2D([0], [0], marker='o', color='w',markerfacecolor='purple', label='$\\\\tau_{0}$'),\n",
    "                  Line2D([0], [0], marker='o', color='w',markerfacecolor='orange', label='$\\\\tau_{1}$'),\n",
    "                  Line2D([0], [0], marker='o', color='w',markerfacecolor='green', label='$\\\\tau_{2}$')]\n",
    "plt.xlabel('LO power [dBm]')\n",
    "plt.ylabel('lifetime [$\\mu#s]')\n",
    "plt.title(f'Cooldown 7 | 22 mK | {ints} QP LO')\n",
    "plt.yscale('log')\n",
    "plt.legend(handles=legend_elements)\n",
    "plt.savefig(figpath + 'lifetimes_logscale.png')\n",
    "plt.show()\n",
    "plt.close()"
   ]
  },
  {
   "cell_type": "markdown",
   "id": "4f78a6fa",
   "metadata": {},
   "source": [
    "## Lifetime Statistics"
   ]
  },
  {
   "cell_type": "code",
   "execution_count": null,
   "id": "1045b3f2",
   "metadata": {},
   "outputs": [],
   "source": []
  }
 ],
 "metadata": {
  "hide_input": false,
  "kernelspec": {
   "display_name": "Python 3 (ipykernel)",
   "language": "python",
   "name": "python3"
  },
  "language_info": {
   "codemirror_mode": {
    "name": "ipython",
    "version": 3
   },
   "file_extension": ".py",
   "mimetype": "text/x-python",
   "name": "python",
   "nbconvert_exporter": "python",
   "pygments_lexer": "ipython3",
   "version": "3.9.12"
  },
  "latex_envs": {
   "LaTeX_envs_menu_present": true,
   "autoclose": false,
   "autocomplete": true,
   "bibliofile": "biblio.bib",
   "cite_by": "apalike",
   "current_citInitial": 1,
   "eqLabelWithNumbers": true,
   "eqNumInitial": 1,
   "hotkeys": {
    "equation": "Ctrl-E",
    "itemize": "Ctrl-I"
   },
   "labels_anchors": false,
   "latex_user_defs": false,
   "report_style_numbering": false,
   "user_envs_cfg": false
  },
  "toc": {
   "base_numbering": 1,
   "nav_menu": {},
   "number_sections": true,
   "sideBar": true,
   "skip_h1_title": false,
   "title_cell": "Table of Contents",
   "title_sidebar": "Contents",
   "toc_cell": true,
   "toc_position": {
    "height": "calc(100% - 180px)",
    "left": "10px",
    "top": "150px",
    "width": "165px"
   },
   "toc_section_display": true,
   "toc_window_display": false
  },
  "varInspector": {
   "cols": {
    "lenName": 16,
    "lenType": 16,
    "lenVar": 40
   },
   "kernels_config": {
    "python": {
     "delete_cmd_postfix": "",
     "delete_cmd_prefix": "del ",
     "library": "var_list.py",
     "varRefreshCmd": "print(var_dic_list())"
    },
    "r": {
     "delete_cmd_postfix": ") ",
     "delete_cmd_prefix": "rm(",
     "library": "var_list.r",
     "varRefreshCmd": "cat(var_dic_list()) "
    }
   },
   "types_to_exclude": [
    "module",
    "function",
    "builtin_function_or_method",
    "instance",
    "_Feature"
   ],
   "window_display": false
  }
 },
 "nbformat": 4,
 "nbformat_minor": 5
}
