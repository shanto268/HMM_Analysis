{
 "cells": [
  {
   "cell_type": "markdown",
   "metadata": {
    "toc": true
   },
   "source": [
    "<h1>Table of Contents<span class=\"tocSkip\"></span></h1>\n",
    "<div class=\"toc\"><ul class=\"toc-item\"><li><span><a href=\"#HMM-Analysis-for-Power-Sweep-Data\" data-toc-modified-id=\"HMM-Analysis-for-Power-Sweep-Data-1\"><span class=\"toc-item-num\">1&nbsp;&nbsp;</span>HMM Analysis for Power Sweep Data</a></span></li></ul></div>"
   ]
  },
  {
   "cell_type": "markdown",
   "metadata": {},
   "source": [
    "# HMM Analysis for Power Sweep Data"
   ]
  },
  {
   "cell_type": "markdown",
   "metadata": {},
   "source": [
    "`project_path` should be the root folder of where all the Alazar data is stored "
   ]
  },
  {
   "cell_type": "code",
   "execution_count": 1,
   "metadata": {
    "ExecuteTime": {
     "end_time": "2022-10-12T18:25:21.072993Z",
     "start_time": "2022-10-12T18:25:19.740064Z"
    }
   },
   "outputs": [],
   "source": [
    "from AlazarPowerSweepData import *\n",
    "\n",
    "%matplotlib qt\n",
    "\n",
    "project_path = r\"G:\\Shared drives\\Quasiparticles_2\\NBR07_Oct2022\\test_power_sweep\" \n",
    "\n",
    "power_sweep_obj = AlazarPowerSweepData(project_path)"
   ]
  },
  {
   "cell_type": "markdown",
   "metadata": {},
   "source": [
    "`createPdf` takes value `True` or `False`. Set to `True` if you want to visually see the downsampled IQ plots (determined by `avgTime`) to determine the **attenuation** below which the system goes non-linear. Set to `False` if the attenuation is known."
   ]
  },
  {
   "cell_type": "code",
   "execution_count": 2,
   "metadata": {
    "ExecuteTime": {
     "end_time": "2022-10-12T18:25:21.545276Z",
     "start_time": "2022-10-12T18:25:21.311350Z"
    }
   },
   "outputs": [
    {
     "name": "stdout",
     "output_type": "stream",
     "text": [
      "Creating figure paths.....\n",
      "Reading and sorting data files.....\n",
      "Data loaded without creating IQ downsampled plots....\n"
     ]
    }
   ],
   "source": [
    "createPdf = False\n",
    "\n",
    "power_sweep_obj.process_Alazar_Data(avgTime=2,plots=createPdf)"
   ]
  },
  {
   "cell_type": "markdown",
   "metadata": {},
   "source": [
    "`intTime` is the starting integration time provied to the HMM fits.\n",
    "`SNRmin` is the minimum SNR cut off constraint to the HMM program."
   ]
  },
  {
   "cell_type": "code",
   "execution_count": 3,
   "metadata": {
    "ExecuteTime": {
     "end_time": "2022-10-12T18:57:16.711428Z",
     "start_time": "2022-10-12T18:25:21.961271Z"
    }
   },
   "outputs": [
    {
     "name": "stdout",
     "output_type": "stream",
     "text": [
      "\n",
      "\n",
      "==========\tHMM ANALYSIS STARTED\t==========\n",
      "\n",
      "Attenuation below which the system goes non-linear: 4\n",
      "Please Ensure the Following Attenuation Configuration is Correct:\n",
      "\n",
      "\n",
      "LO_power = 20\n",
      "Splitter = -3\n",
      "Fixed_attenuator_1 = -20\n",
      "Fixed_attenuator_2 = -30\n",
      "DA_fixed = -10\n",
      "Fridge_attenuation = -75\n",
      "Ecosorb = -3\n",
      "Press Y/y if Correct or N/n if not: y\n",
      "Please Ensure the Following MetaData is Correct:\n",
      "\n",
      "\n",
      "dateOfMeasurement = 20221005\n",
      "Temp = 30\n",
      "eccosorb = True\n",
      "KandL = True\n",
      "rigidCables = True\n",
      "JPA = True\n",
      "TWPA = True\n",
      "ClearingCoupler = False\n",
      "sampleRateMHz = 10\n",
      "durationSeconds = 5\n",
      "f0 = 4.2727\n",
      "LOf = 4.27238\n",
      "phi = 0.47\n",
      "Press Y/y if Correct or N/n if not: y\n",
      "\n",
      "The power to the device is -125 dBM at the chosen attenuation 4\n",
      "\n",
      "Number of Modes you want to fit: 3\n",
      "Extracted Means:\n",
      "[(-32.11627821751411, -20.69843435114177), (7.7317556116018125, 12.773914065315594), (34.95102795025946, -38.72200657538804)]\n",
      "\n",
      "Gussed Covariance:\n",
      "[[[5 1]\n",
      "  [1 5]]\n",
      "\n",
      " [[5 1]\n",
      "  [1 5]]\n",
      "\n",
      " [[5 1]\n",
      "  [1 5]]]\n",
      "\n",
      "\n",
      "Starting HMM Analysis.....\n",
      "\n",
      "\n",
      "HMM fitting concluded on Alazar Data at attenuation: 4 ...\n",
      "HMM fitting concluded on Alazar Data at attenuation: 6 ...\n",
      "HMM fitting concluded on Alazar Data at attenuation: 8 ...\n",
      "\n",
      "\n",
      "\n",
      "New integration time = 1.2853226578841603 because SNR was 2.68415\n",
      "\n",
      "\n",
      "\n",
      "\n",
      "\n",
      "\n",
      "New integration time = 1.4972183584531933 because SNR was 2.96173\n",
      "\n",
      "\n",
      "\n",
      "HMM fitting concluded on Alazar Data at attenuation: 10 ...\n",
      "\n",
      "\n",
      "\n",
      "New integration time = 2.4579705200299657 because SNR was 2.10149\n",
      "\n",
      "\n",
      "\n",
      "\n",
      "\n",
      "\n",
      "New integration time = 2.84274118733113 because SNR was 2.98304\n",
      "\n",
      "\n",
      "\n",
      "HMM fitting concluded on Alazar Data at attenuation: 12 ...\n",
      "\n",
      "\n",
      "\n",
      "New integration time = 4.336830726433657 because SNR was 2.26143\n",
      "\n",
      "\n",
      "\n",
      "HMM fitting concluded on Alazar Data at attenuation: 14 ...\n",
      "\n",
      "\n",
      "\n",
      "New integration time = 6.581557160913444 because SNR was 2.27333\n",
      "\n",
      "\n",
      "\n",
      "HMM fitting concluded on Alazar Data at attenuation: 16 ...\n",
      "\n",
      "\n",
      "\n",
      "New integration time = 9.931060140776204 because SNR was 2.2864\n",
      "\n",
      "\n",
      "\n",
      "HMM fitting concluded on Alazar Data at attenuation: 18 ...\n",
      "\n",
      "\n",
      "\n",
      "New integration time = 12.645192609348031 because SNR was 2.7095\n",
      "\n",
      "\n",
      "\n",
      "HMM fitting concluded on Alazar Data at attenuation: 20 ...\n",
      "\n",
      "\n",
      "\n",
      "New integration time = 16.79888998138789 because SNR was 2.59695\n",
      "\n",
      "\n",
      "\n",
      "HMM fitting concluded on Alazar Data at attenuation: 22 ...\n",
      "\n",
      "\n",
      "\n",
      "New integration time = 26.373358850590545 because SNR was 2.19753\n",
      "\n",
      "\n",
      "\n",
      "HMM fitting concluded on Alazar Data at attenuation: 24 ...\n",
      "\n",
      "\n",
      "\n",
      "New integration time = 38.96332358957913 because SNR was 2.33522\n",
      "\n",
      "\n",
      "\n",
      "Integration time has grown too large.\n",
      "All HMM fits created.....\n",
      "Starting post-HMM analysis plots.....\n"
     ]
    },
    {
     "ename": "NotImplementedError",
     "evalue": "",
     "output_type": "error",
     "traceback": [
      "\u001b[1;31m---------------------------------------------------------------------------\u001b[0m",
      "\u001b[1;31mNotImplementedError\u001b[0m                       Traceback (most recent call last)",
      "\u001b[1;32m<ipython-input-3-37ddeb7399a8>\u001b[0m in \u001b[0;36m<module>\u001b[1;34m\u001b[0m\n\u001b[0;32m      2\u001b[0m \u001b[0mSNRmin\u001b[0m\u001b[1;33m=\u001b[0m\u001b[1;36m3\u001b[0m\u001b[1;33m\u001b[0m\u001b[1;33m\u001b[0m\u001b[0m\n\u001b[0;32m      3\u001b[0m \u001b[1;33m\u001b[0m\u001b[0m\n\u001b[1;32m----> 4\u001b[1;33m \u001b[0mpower_sweep_obj\u001b[0m\u001b[1;33m.\u001b[0m\u001b[0mstart_HMM_fit\u001b[0m\u001b[1;33m(\u001b[0m\u001b[0mintTime\u001b[0m\u001b[1;33m=\u001b[0m\u001b[0mintTime\u001b[0m\u001b[1;33m,\u001b[0m \u001b[0mSNRmin\u001b[0m\u001b[1;33m=\u001b[0m \u001b[0mSNRmin\u001b[0m\u001b[1;33m)\u001b[0m\u001b[1;33m\u001b[0m\u001b[1;33m\u001b[0m\u001b[0m\n\u001b[0m",
      "\u001b[1;32m~\\lflPython-github\\MeasurementScripts\\Quasiparticles\\HMM_Analysis\\AlazarPowerSweepData.py\u001b[0m in \u001b[0;36mstart_HMM_fit\u001b[1;34m(self, r_unit, intTime, SNRmin)\u001b[0m\n\u001b[0;32m    143\u001b[0m         \u001b[0mprint\u001b[0m\u001b[1;33m(\u001b[0m\u001b[1;34mf\"Extracted Means:\\n{means}\\n\\nGussed Covariance:\\n{covars}\\n\"\u001b[0m\u001b[1;33m)\u001b[0m\u001b[1;33m\u001b[0m\u001b[1;33m\u001b[0m\u001b[0m\n\u001b[0;32m    144\u001b[0m         \u001b[0mprint\u001b[0m\u001b[1;33m(\u001b[0m\u001b[1;34m\"\\nStarting HMM Analysis.....\\n\\n\"\u001b[0m\u001b[1;33m)\u001b[0m\u001b[1;33m\u001b[0m\u001b[1;33m\u001b[0m\u001b[0m\n\u001b[1;32m--> 145\u001b[1;33m         \u001b[0mself\u001b[0m\u001b[1;33m.\u001b[0m\u001b[0mrunHMM\u001b[0m\u001b[1;33m(\u001b[0m\u001b[0mmeans\u001b[0m\u001b[1;33m,\u001b[0m \u001b[0mcovars\u001b[0m\u001b[1;33m,\u001b[0m\u001b[0mintTime\u001b[0m\u001b[1;33m,\u001b[0m \u001b[0mSNRmin\u001b[0m\u001b[1;33m)\u001b[0m\u001b[1;33m\u001b[0m\u001b[1;33m\u001b[0m\u001b[0m\n\u001b[0m\u001b[0;32m    146\u001b[0m \u001b[1;33m\u001b[0m\u001b[0m\n\u001b[0;32m    147\u001b[0m     \u001b[1;32mdef\u001b[0m \u001b[0mrestart_HMM_fit\u001b[0m\u001b[1;33m(\u001b[0m\u001b[0mself\u001b[0m\u001b[1;33m,\u001b[0m \u001b[0mr_unit\u001b[0m\u001b[1;33m=\u001b[0m\u001b[1;33m[\u001b[0m\u001b[1;33m[\u001b[0m\u001b[1;36m5\u001b[0m\u001b[1;33m,\u001b[0m\u001b[1;36m1\u001b[0m\u001b[1;33m]\u001b[0m\u001b[1;33m,\u001b[0m\u001b[1;33m[\u001b[0m\u001b[1;36m1\u001b[0m\u001b[1;33m,\u001b[0m\u001b[1;36m5\u001b[0m\u001b[1;33m]\u001b[0m\u001b[1;33m]\u001b[0m\u001b[1;33m,\u001b[0m \u001b[0mintTime\u001b[0m\u001b[1;33m=\u001b[0m\u001b[1;36m1\u001b[0m\u001b[1;33m,\u001b[0m\u001b[0mSNRmin\u001b[0m\u001b[1;33m=\u001b[0m\u001b[1;36m3\u001b[0m\u001b[1;33m)\u001b[0m\u001b[1;33m:\u001b[0m\u001b[1;33m\u001b[0m\u001b[1;33m\u001b[0m\u001b[0m\n",
      "\u001b[1;32m~\\lflPython-github\\MeasurementScripts\\Quasiparticles\\HMM_Analysis\\AlazarPowerSweepData.py\u001b[0m in \u001b[0;36mrunHMM\u001b[1;34m(self, means, covars, intTime, SNRmin)\u001b[0m\n\u001b[0;32m    355\u001b[0m \u001b[1;33m\u001b[0m\u001b[0m\n\u001b[0;32m    356\u001b[0m         \u001b[0mprint\u001b[0m\u001b[1;33m(\u001b[0m\u001b[1;34m\"Starting post-HMM analysis plots.....\"\u001b[0m\u001b[1;33m)\u001b[0m\u001b[1;33m\u001b[0m\u001b[1;33m\u001b[0m\u001b[0m\n\u001b[1;32m--> 357\u001b[1;33m         \u001b[0mcreate_HMM_QP_statistics_plots\u001b[0m\u001b[1;33m(\u001b[0m\u001b[0mself\u001b[0m\u001b[1;33m.\u001b[0m\u001b[0mhdf5_file\u001b[0m\u001b[1;33m)\u001b[0m\u001b[1;33m\u001b[0m\u001b[1;33m\u001b[0m\u001b[0m\n\u001b[0m\u001b[0;32m    358\u001b[0m         \u001b[0mprint\u001b[0m\u001b[1;33m(\u001b[0m\u001b[1;34m\"=\"\u001b[0m\u001b[1;33m*\u001b[0m\u001b[1;36m10\u001b[0m\u001b[1;33m+\u001b[0m\u001b[1;34m\"\\tHMM ANALYSIS CONCLUDED\\t\"\u001b[0m\u001b[1;33m+\u001b[0m\u001b[1;34m\"=\"\u001b[0m\u001b[1;33m*\u001b[0m\u001b[1;36m10\u001b[0m\u001b[1;33m)\u001b[0m\u001b[1;33m\u001b[0m\u001b[1;33m\u001b[0m\u001b[0m\n",
      "\u001b[1;32m~\\lflPython-github\\MeasurementScripts\\Quasiparticles\\HMM_Analysis\\HMM_helper_functions.py\u001b[0m in \u001b[0;36mcreate_HMM_QP_statistics_plots\u001b[1;34m(hdf5_file)\u001b[0m\n\u001b[0;32m     69\u001b[0m \u001b[1;33m\u001b[0m\u001b[0m\n\u001b[0;32m     70\u001b[0m \u001b[1;32mdef\u001b[0m \u001b[0mcreate_HMM_QP_statistics_plots\u001b[0m\u001b[1;33m(\u001b[0m\u001b[0mhdf5_file\u001b[0m\u001b[1;33m)\u001b[0m\u001b[1;33m:\u001b[0m\u001b[1;33m\u001b[0m\u001b[1;33m\u001b[0m\u001b[0m\n\u001b[1;32m---> 71\u001b[1;33m     \u001b[0mcreate_mean_occupation_plot\u001b[0m\u001b[1;33m(\u001b[0m\u001b[0mhdf5_file\u001b[0m\u001b[1;33m)\u001b[0m\u001b[1;33m\u001b[0m\u001b[1;33m\u001b[0m\u001b[0m\n\u001b[0m\u001b[0;32m     72\u001b[0m     \u001b[0mcreate_transition_lifetimes_plot\u001b[0m\u001b[1;33m(\u001b[0m\u001b[0mhdf5_file\u001b[0m\u001b[1;33m)\u001b[0m\u001b[1;33m\u001b[0m\u001b[1;33m\u001b[0m\u001b[0m\n\u001b[0;32m     73\u001b[0m     \u001b[0mcreate_transition_probability_plot\u001b[0m\u001b[1;33m(\u001b[0m\u001b[0mhdf5_file\u001b[0m\u001b[1;33m)\u001b[0m\u001b[1;33m\u001b[0m\u001b[1;33m\u001b[0m\u001b[0m\n",
      "\u001b[1;32m~\\lflPython-github\\MeasurementScripts\\Quasiparticles\\HMM_Analysis\\HMM_helper_functions.py\u001b[0m in \u001b[0;36mcreate_mean_occupation_plot\u001b[1;34m(hdf5_file)\u001b[0m\n\u001b[0;32m     74\u001b[0m \u001b[1;33m\u001b[0m\u001b[0m\n\u001b[0;32m     75\u001b[0m \u001b[1;32mdef\u001b[0m \u001b[0mcreate_mean_occupation_plot\u001b[0m\u001b[1;33m(\u001b[0m\u001b[0mhdf5_file\u001b[0m\u001b[1;33m)\u001b[0m\u001b[1;33m:\u001b[0m\u001b[1;33m\u001b[0m\u001b[1;33m\u001b[0m\u001b[0m\n\u001b[1;32m---> 76\u001b[1;33m     \u001b[1;32mraise\u001b[0m \u001b[0mNotImplementedError\u001b[0m\u001b[1;33m(\u001b[0m\u001b[1;33m)\u001b[0m\u001b[1;33m\u001b[0m\u001b[1;33m\u001b[0m\u001b[0m\n\u001b[0m\u001b[0;32m     77\u001b[0m \u001b[1;33m\u001b[0m\u001b[0m\n\u001b[0;32m     78\u001b[0m \u001b[1;32mdef\u001b[0m \u001b[0mcreate_transition_probability_plot\u001b[0m\u001b[1;33m(\u001b[0m\u001b[0mhdf5_file\u001b[0m\u001b[1;33m)\u001b[0m\u001b[1;33m:\u001b[0m\u001b[1;33m\u001b[0m\u001b[1;33m\u001b[0m\u001b[0m\n",
      "\u001b[1;31mNotImplementedError\u001b[0m: "
     ]
    }
   ],
   "source": [
    "intTime=1\n",
    "SNRmin=3\n",
    "\n",
    "power_sweep_obj.start_HMM_fit(intTime=intTime, SNRmin= SNRmin)"
   ]
  },
  {
   "cell_type": "code",
   "execution_count": null,
   "metadata": {},
   "outputs": [],
   "source": []
  }
 ],
 "metadata": {
  "hide_input": false,
  "kernelspec": {
   "display_name": "Python 3",
   "language": "python",
   "name": "python3"
  },
  "language_info": {
   "codemirror_mode": {
    "name": "ipython",
    "version": 3
   },
   "file_extension": ".py",
   "mimetype": "text/x-python",
   "name": "python",
   "nbconvert_exporter": "python",
   "pygments_lexer": "ipython3",
   "version": "3.8.5"
  },
  "latex_envs": {
   "LaTeX_envs_menu_present": true,
   "autoclose": false,
   "autocomplete": true,
   "bibliofile": "biblio.bib",
   "cite_by": "apalike",
   "current_citInitial": 1,
   "eqLabelWithNumbers": true,
   "eqNumInitial": 1,
   "hotkeys": {
    "equation": "Ctrl-E",
    "itemize": "Ctrl-I"
   },
   "labels_anchors": false,
   "latex_user_defs": false,
   "report_style_numbering": false,
   "user_envs_cfg": false
  },
  "toc": {
   "base_numbering": 1,
   "nav_menu": {},
   "number_sections": true,
   "sideBar": false,
   "skip_h1_title": false,
   "title_cell": "Table of Contents",
   "title_sidebar": "Contents",
   "toc_cell": true,
   "toc_position": {},
   "toc_section_display": true,
   "toc_window_display": false
  },
  "varInspector": {
   "cols": {
    "lenName": 16,
    "lenType": 16,
    "lenVar": 40
   },
   "kernels_config": {
    "python": {
     "delete_cmd_postfix": "",
     "delete_cmd_prefix": "del ",
     "library": "var_list.py",
     "varRefreshCmd": "print(var_dic_list())"
    },
    "r": {
     "delete_cmd_postfix": ") ",
     "delete_cmd_prefix": "rm(",
     "library": "var_list.r",
     "varRefreshCmd": "cat(var_dic_list()) "
    }
   },
   "types_to_exclude": [
    "module",
    "function",
    "builtin_function_or_method",
    "instance",
    "_Feature"
   ],
   "window_display": false
  }
 },
 "nbformat": 4,
 "nbformat_minor": 5
}
