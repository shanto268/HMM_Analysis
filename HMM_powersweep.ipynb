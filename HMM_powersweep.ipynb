{
 "cells": [
  {
   "cell_type": "markdown",
   "metadata": {
    "toc": true
   },
   "source": [
    "<h1>Table of Contents<span class=\"tocSkip\"></span></h1>\n",
    "<div class=\"toc\"><ul class=\"toc-item\"></ul></div>"
   ]
  },
  {
   "cell_type": "code",
   "execution_count": 1,
   "metadata": {
    "ExecuteTime": {
     "end_time": "2022-10-11T23:40:09.419878Z",
     "start_time": "2022-10-11T23:40:06.077739Z"
    }
   },
   "outputs": [
    {
     "name": "stdout",
     "output_type": "stream",
     "text": [
      "Path to Measurement Run Root: G:\\Shared drives\\Quasiparticles_2\\NBR07_Oct2022\\test_power_sweep\n"
     ]
    }
   ],
   "source": [
    "from AlazarPowerSweepData import *\n",
    "\n",
    "%matplotlib qt\n",
    "\n",
    "#project_path = r\"G:\\Shared drives\\Quasiparticles_2\\NBR07_Oct2022\\test_power_sweep\" \n",
    "project_path = str(input(r\"Path to Measurement Run Root: \"))\n",
    "\n",
    "power_sweep_obj = AlazarPowerSweepData(project_path)"
   ]
  },
  {
   "cell_type": "code",
   "execution_count": 2,
   "metadata": {
    "ExecuteTime": {
     "end_time": "2022-10-11T23:40:14.593373Z",
     "start_time": "2022-10-11T23:40:14.589385Z"
    }
   },
   "outputs": [],
   "source": [
    "createPdf = False"
   ]
  },
  {
   "cell_type": "code",
   "execution_count": 3,
   "metadata": {
    "ExecuteTime": {
     "end_time": "2022-10-11T23:40:14.937423Z",
     "start_time": "2022-10-11T23:40:14.924455Z"
    }
   },
   "outputs": [
    {
     "name": "stdout",
     "output_type": "stream",
     "text": [
      "Creating figure paths.....\n",
      "Reading and sorting data files.....\n",
      "Data loaded without creating IQ downsampled plots....\n"
     ]
    }
   ],
   "source": [
    "power_sweep_obj.process_Alazar_Data(avgTime=2,plots=createPdf)"
   ]
  },
  {
   "cell_type": "code",
   "execution_count": 4,
   "metadata": {
    "ExecuteTime": {
     "end_time": "2022-10-11T23:40:17.436672Z",
     "start_time": "2022-10-11T23:40:17.422710Z"
    }
   },
   "outputs": [],
   "source": [
    "intTime=1\n",
    "SNRmin=3"
   ]
  },
  {
   "cell_type": "code",
   "execution_count": null,
   "metadata": {
    "ExecuteTime": {
     "start_time": "2022-10-11T23:40:19.731Z"
    }
   },
   "outputs": [
    {
     "name": "stdout",
     "output_type": "stream",
     "text": [
      "\n",
      "\n",
      "==========\tHMM ANALYSIS STARTED\t==========\n",
      "\n",
      "Attenuation below which the system goes non-linear: 4\n",
      "Please Ensure the Following Attenuation Configuration is Correct:\n",
      "\n",
      "\n",
      "LO_power = 20\n",
      "Splitter = -3\n",
      "Fixed_attenuator_1 = -20\n",
      "Fixed_attenuator_2 = -30\n",
      "DA_fixed = -10\n",
      "Fridge_attenuation = -75\n",
      "Ecosorb = -3\n",
      "Press Y/y if Correct or N/n if not: y\n",
      "Please Ensure the Following MetaData is Correct:\n",
      "\n",
      "\n",
      "dateOfMeasurement = 20221005\n",
      "Temp = 30\n",
      "eccosorb = True\n",
      "KandL = True\n",
      "rigidCables = True\n",
      "JPA = True\n",
      "TWPA = True\n",
      "ClearingCoupler = False\n",
      "sampleRateMHz = 10\n",
      "durationSeconds = 5\n",
      "f0 = 4.2727\n",
      "LOf = 4.27238\n",
      "phi = 0.47\n",
      "Press Y/y if Correct or N/n if not: y\n",
      "\n",
      "The power to the device is -125 dBM at the chosen attenuation 4\n",
      "\n",
      "Number of Modes you want to fit: 3\n",
      "Extracted Means: [(-33.58759023581993, -21.066262355718223), (13.617003684825079, 15.716538101927227), (35.318855954835925, -36.269819878211685)]\n",
      "Gussed Covariance:\n",
      "[[[5 1]\n",
      "  [1 5]]\n",
      "\n",
      " [[5 1]\n",
      "  [1 5]]\n",
      "\n",
      " [[5 1]\n",
      "  [1 5]]]\n",
      "\n",
      "\n",
      "Starting HMM Analysis.....\n",
      "\n",
      "\n",
      "HMM done on attenuation: 4!\n",
      "HMM done on attenuation: 6!\n"
     ]
    }
   ],
   "source": [
    "power_sweep_obj.start_HMM_fit(intTime=intTime, SNRmin= SNRmin)"
   ]
  },
  {
   "cell_type": "code",
   "execution_count": null,
   "metadata": {},
   "outputs": [],
   "source": []
  }
 ],
 "metadata": {
  "hide_input": false,
  "kernelspec": {
   "display_name": "Python 3",
   "language": "python",
   "name": "python3"
  },
  "language_info": {
   "codemirror_mode": {
    "name": "ipython",
    "version": 3
   },
   "file_extension": ".py",
   "mimetype": "text/x-python",
   "name": "python",
   "nbconvert_exporter": "python",
   "pygments_lexer": "ipython3",
   "version": "3.8.5"
  },
  "latex_envs": {
   "LaTeX_envs_menu_present": true,
   "autoclose": false,
   "autocomplete": true,
   "bibliofile": "biblio.bib",
   "cite_by": "apalike",
   "current_citInitial": 1,
   "eqLabelWithNumbers": true,
   "eqNumInitial": 1,
   "hotkeys": {
    "equation": "Ctrl-E",
    "itemize": "Ctrl-I"
   },
   "labels_anchors": false,
   "latex_user_defs": false,
   "report_style_numbering": false,
   "user_envs_cfg": false
  },
  "toc": {
   "base_numbering": 1,
   "nav_menu": {},
   "number_sections": true,
   "sideBar": false,
   "skip_h1_title": false,
   "title_cell": "Table of Contents",
   "title_sidebar": "Contents",
   "toc_cell": true,
   "toc_position": {},
   "toc_section_display": true,
   "toc_window_display": false
  },
  "varInspector": {
   "cols": {
    "lenName": 16,
    "lenType": 16,
    "lenVar": 40
   },
   "kernels_config": {
    "python": {
     "delete_cmd_postfix": "",
     "delete_cmd_prefix": "del ",
     "library": "var_list.py",
     "varRefreshCmd": "print(var_dic_list())"
    },
    "r": {
     "delete_cmd_postfix": ") ",
     "delete_cmd_prefix": "rm(",
     "library": "var_list.r",
     "varRefreshCmd": "cat(var_dic_list()) "
    }
   },
   "types_to_exclude": [
    "module",
    "function",
    "builtin_function_or_method",
    "instance",
    "_Feature"
   ],
   "window_display": false
  }
 },
 "nbformat": 4,
 "nbformat_minor": 5
}
