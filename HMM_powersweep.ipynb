{
 "cells": [
  {
   "cell_type": "markdown",
   "metadata": {
    "toc": true
   },
   "source": [
    "<h1>Table of Contents<span class=\"tocSkip\"></span></h1>\n",
    "<div class=\"toc\"><ul class=\"toc-item\"><li><span><a href=\"#Before-Running-the-Code\" data-toc-modified-id=\"Before-Running-the-Code-1\"><span class=\"toc-item-num\">1&nbsp;&nbsp;</span>Before Running the Code</a></span><ul class=\"toc-item\"><li><ul class=\"toc-item\"><li><span><a href=\"#Please-do-the-the-following:\" data-toc-modified-id=\"Please-do-the-the-following:-1.0.1\"><span class=\"toc-item-num\">1.0.1&nbsp;&nbsp;</span><b>Please do the the following:</b></a></span></li></ul></li></ul></li><li><span><a href=\"#HMM-Analysis-for-Power-Sweep-Data\" data-toc-modified-id=\"HMM-Analysis-for-Power-Sweep-Data-2\"><span class=\"toc-item-num\">2&nbsp;&nbsp;</span>HMM Analysis for Power Sweep Data</a></span></li></ul></div>"
   ]
  },
  {
   "cell_type": "markdown",
   "metadata": {},
   "source": [
    "# Before Running the Code\n",
    "\n",
    "<h3 style=\"color:red\"><b>Please do the the following:</b></h3>\n",
    "\n",
    "0. Verify and update all the info in `attenuation.json`\n",
    "1. **ONLY** Update the following in `metainfo.json` \n",
    "```json\n",
    "    \"dateOfMeasurement\" : 20221005,\n",
    "    \"eccosorb\": \"True\",\n",
    "    \"KandL\": \"True\",\n",
    "    \"rigidCables\": \"True\",\n",
    "    \"JPA\": \"True\",\n",
    "    \"TWPA\": \"True\",\n",
    "    \"ClearingCoupler\": \"False\",\n",
    "    \"Device_id\": \"NBR07\",\n",
    "    \"f0\": 4.2727,\n",
    "```\n",
    "\n",
    "---"
   ]
  },
  {
   "cell_type": "markdown",
   "metadata": {},
   "source": [
    "# HMM Analysis for Power Sweep Data"
   ]
  },
  {
   "cell_type": "markdown",
   "metadata": {},
   "source": [
    "`project_path` should be the root folder of where all the Alazar data is stored.\n",
    "\n",
    "`interactive` is a `Boolean` parameter. Set to `True` to enable manual safety checks and `False` for more automated performance.\n"
   ]
  },
  {
   "cell_type": "code",
   "execution_count": 1,
   "metadata": {
    "ExecuteTime": {
     "end_time": "2022-10-12T22:10:46.859416Z",
     "start_time": "2022-10-12T22:10:45.485089Z"
    }
   },
   "outputs": [],
   "source": [
    "from AlazarPowerSweepData import *\n",
    "\n",
    "%matplotlib qt\n",
    "\n",
    "project_path = r\"G:\\Shared drives\\Quasiparticles_2\\NBR07_Oct2022\\test_power_sweep\" \n",
    "interactive = False\n",
    "\n",
    "power_sweep_obj = AlazarPowerSweepData(project_path,interactive)"
   ]
  },
  {
   "cell_type": "markdown",
   "metadata": {},
   "source": [
    "`createPdf` takes value `True` or `False`. Set to `True` if you want to visually see the downsampled IQ plots (determined by `avgTime`) to determine the **attenuation** below which the system goes non-linear. Set to `False` if the attenuation is known."
   ]
  },
  {
   "cell_type": "code",
   "execution_count": 2,
   "metadata": {
    "ExecuteTime": {
     "end_time": "2022-10-12T22:10:49.664841Z",
     "start_time": "2022-10-12T22:10:49.402754Z"
    }
   },
   "outputs": [
    {
     "name": "stdout",
     "output_type": "stream",
     "text": [
      "Creating figure paths.....\n",
      "Reading and sorting data files.....\n",
      "Reading and updating the metadata.....\n",
      "Data loaded without creating IQ downsampled plots....\n"
     ]
    }
   ],
   "source": [
    "createPdf = False\n",
    "\n",
    "power_sweep_obj.process_Alazar_Data(avgTime=2,plots=createPdf)"
   ]
  },
  {
   "cell_type": "markdown",
   "metadata": {},
   "source": [
    "`intTime` is the starting integration time provied to the HMM fits.\n",
    "\n",
    "`SNRmin` is the minimum SNR cut off constraint to the HMM program."
   ]
  },
  {
   "cell_type": "code",
   "execution_count": 3,
   "metadata": {
    "ExecuteTime": {
     "end_time": "2022-10-12T22:54:22.827522Z",
     "start_time": "2022-10-12T22:11:05.220879Z"
    }
   },
   "outputs": [
    {
     "name": "stdout",
     "output_type": "stream",
     "text": [
      "\n",
      "\n",
      "==========\tHMM ANALYSIS STARTED\t==========\n",
      "\n",
      "Attenuation below which the system goes non-linear: 2\n",
      "Attenuation Configuration:\n",
      "\n",
      "\n",
      "LO_power = 20\n",
      "Splitter = -3\n",
      "Fixed_attenuator_1 = -20\n",
      "Fixed_attenuator_2 = -30\n",
      "DA_fixed = -10\n",
      "Fridge_attenuation = -75\n",
      "Ecosorb = -3\n",
      "MetaData: \n",
      "\n",
      "\n",
      "dateOfMeasurement = 20221005\n",
      "eccosorb = True\n",
      "KandL = True\n",
      "rigidCables = True\n",
      "JPA = True\n",
      "TWPA = False\n",
      "ClearingCoupler = False\n",
      "Device_id = NBR07\n",
      "f0 = 4.2727\n",
      "Temp = 30.0\n",
      "sampleRateMHz = 10\n",
      "durationSeconds = 5\n",
      "LOf = 4.27238\n",
      "phi = 0.47\n",
      "\n",
      "The power to the device is -123 dBM at the chosen attenuation 2\n",
      "\n",
      "Number of Modes you want to fit: 3\n",
      "Extracted Means:\n",
      "[(-40.464819239544454, -24.489742972349006), (31.906778799552967, -53.689563439316714), (-7.81125656680635, -55.416434542201905)]\n",
      "\n",
      "Gussed Covariance:\n",
      "[[[5 1]\n",
      "  [1 5]]\n",
      "\n",
      " [[5 1]\n",
      "  [1 5]]\n",
      "\n",
      " [[5 1]\n",
      "  [1 5]]]\n",
      "\n",
      "\n",
      "Starting HMM Analysis.....\n",
      "\n",
      "\n",
      "HMM fitting concluded on Alazar Data at attenuation: 2 ...\n",
      "HMM fitting concluded on Alazar Data at attenuation: 4 ...\n",
      "HMM fitting concluded on Alazar Data at attenuation: 6 ...\n",
      "HMM fitting concluded on Alazar Data at attenuation: 8 ...\n",
      "HMM fitting concluded on Alazar Data at attenuation: 10 ...\n",
      "HMM fitting concluded on Alazar Data at attenuation: 12 ...\n",
      "HMM fitting concluded on Alazar Data at attenuation: 14 ...\n",
      "HMM fitting concluded on Alazar Data at attenuation: 16 ...\n",
      "\n",
      "\n",
      "\n",
      "New integration time = 1.2108051152053136 because SNR was 2.84934\n",
      "\n",
      "\n",
      "\n",
      "HMM fitting concluded on Alazar Data at attenuation: 18 ...\n",
      "\n",
      "\n",
      "\n",
      "New integration time = 1.9124559323813792 because SNR was 2.18425\n",
      "\n",
      "\n",
      "\n",
      "HMM fitting concluded on Alazar Data at attenuation: 20 ...\n",
      "\n",
      "\n",
      "\n",
      "New integration time = 3.364282430729669 because SNR was 1.96118\n",
      "\n",
      "\n",
      "\n",
      "HMM fitting concluded on Alazar Data at attenuation: 22 ...\n",
      "\n",
      "\n",
      "\n",
      "New integration time = 5.9913702004694205 because SNR was 1.93725\n",
      "\n",
      "\n",
      "\n",
      "HMM fitting concluded on Alazar Data at attenuation: 24 ...\n",
      "\n",
      "\n",
      "\n",
      "New integration time = 10.847468323264417 because SNR was 1.90553\n",
      "\n",
      "\n",
      "\n",
      "HMM fitting concluded on Alazar Data at attenuation: 26 ...\n",
      "\n",
      "\n",
      "\n",
      "New integration time = 17.096499507901175 because SNR was 2.18897\n",
      "\n",
      "\n",
      "\n",
      "HMM fitting concluded on Alazar Data at attenuation: 28 ...\n",
      "\n",
      "\n",
      "\n",
      "New integration time = 28.345606525351737 because SNR was 2.08085\n",
      "\n",
      "\n",
      "\n",
      "HMM fitting concluded on Alazar Data at attenuation: 30 ...\n",
      "\n",
      "\n",
      "\n",
      "New integration time = 42.28126945366473 because SNR was 2.3129\n",
      "\n",
      "\n",
      "\n",
      "HMM fitting concluded on Alazar Data at attenuation: 32 ...\n",
      "\n",
      "\n",
      "\n",
      "New integration time = 66.2666911333721 because SNR was 2.20126\n",
      "\n",
      "\n",
      "\n",
      "Integration time has grown too large.\n",
      "All HMM fits created.....\n",
      "Starting post-HMM analysis plots.....\n"
     ]
    },
    {
     "ename": "NotImplementedError",
     "evalue": "",
     "output_type": "error",
     "traceback": [
      "\u001b[1;31m---------------------------------------------------------------------------\u001b[0m",
      "\u001b[1;31mNotImplementedError\u001b[0m                       Traceback (most recent call last)",
      "\u001b[1;32m<ipython-input-3-37ddeb7399a8>\u001b[0m in \u001b[0;36m<module>\u001b[1;34m\u001b[0m\n\u001b[0;32m      2\u001b[0m \u001b[0mSNRmin\u001b[0m\u001b[1;33m=\u001b[0m\u001b[1;36m3\u001b[0m\u001b[1;33m\u001b[0m\u001b[1;33m\u001b[0m\u001b[0m\n\u001b[0;32m      3\u001b[0m \u001b[1;33m\u001b[0m\u001b[0m\n\u001b[1;32m----> 4\u001b[1;33m \u001b[0mpower_sweep_obj\u001b[0m\u001b[1;33m.\u001b[0m\u001b[0mstart_HMM_fit\u001b[0m\u001b[1;33m(\u001b[0m\u001b[0mintTime\u001b[0m\u001b[1;33m=\u001b[0m\u001b[0mintTime\u001b[0m\u001b[1;33m,\u001b[0m \u001b[0mSNRmin\u001b[0m\u001b[1;33m=\u001b[0m \u001b[0mSNRmin\u001b[0m\u001b[1;33m)\u001b[0m\u001b[1;33m\u001b[0m\u001b[1;33m\u001b[0m\u001b[0m\n\u001b[0m",
      "\u001b[1;32m~\\lflPython-github\\MeasurementScripts\\Quasiparticles\\HMM_Analysis\\AlazarPowerSweepData.py\u001b[0m in \u001b[0;36mstart_HMM_fit\u001b[1;34m(self, r_unit, intTime, SNRmin)\u001b[0m\n\u001b[0;32m    174\u001b[0m         \u001b[0mprint\u001b[0m\u001b[1;33m(\u001b[0m\u001b[1;34mf\"Extracted Means:\\n{means}\\n\\nGussed Covariance:\\n{covars}\\n\"\u001b[0m\u001b[1;33m)\u001b[0m\u001b[1;33m\u001b[0m\u001b[1;33m\u001b[0m\u001b[0m\n\u001b[0;32m    175\u001b[0m         \u001b[0mprint\u001b[0m\u001b[1;33m(\u001b[0m\u001b[1;34m\"\\nStarting HMM Analysis.....\\n\\n\"\u001b[0m\u001b[1;33m)\u001b[0m\u001b[1;33m\u001b[0m\u001b[1;33m\u001b[0m\u001b[0m\n\u001b[1;32m--> 176\u001b[1;33m         \u001b[0mself\u001b[0m\u001b[1;33m.\u001b[0m\u001b[0mrunHMM\u001b[0m\u001b[1;33m(\u001b[0m\u001b[0mmeans\u001b[0m\u001b[1;33m,\u001b[0m \u001b[0mcovars\u001b[0m\u001b[1;33m,\u001b[0m\u001b[0mintTime\u001b[0m\u001b[1;33m,\u001b[0m \u001b[0mSNRmin\u001b[0m\u001b[1;33m)\u001b[0m\u001b[1;33m\u001b[0m\u001b[1;33m\u001b[0m\u001b[0m\n\u001b[0m\u001b[0;32m    177\u001b[0m \u001b[1;33m\u001b[0m\u001b[0m\n\u001b[0;32m    178\u001b[0m     \u001b[1;32mdef\u001b[0m \u001b[0mrestart_HMM_fit\u001b[0m\u001b[1;33m(\u001b[0m\u001b[0mself\u001b[0m\u001b[1;33m,\u001b[0m \u001b[0mr_unit\u001b[0m\u001b[1;33m=\u001b[0m\u001b[1;33m[\u001b[0m\u001b[1;33m[\u001b[0m\u001b[1;36m5\u001b[0m\u001b[1;33m,\u001b[0m\u001b[1;36m1\u001b[0m\u001b[1;33m]\u001b[0m\u001b[1;33m,\u001b[0m\u001b[1;33m[\u001b[0m\u001b[1;36m1\u001b[0m\u001b[1;33m,\u001b[0m\u001b[1;36m5\u001b[0m\u001b[1;33m]\u001b[0m\u001b[1;33m]\u001b[0m\u001b[1;33m,\u001b[0m \u001b[0mintTime\u001b[0m\u001b[1;33m=\u001b[0m\u001b[1;36m1\u001b[0m\u001b[1;33m,\u001b[0m\u001b[0mSNRmin\u001b[0m\u001b[1;33m=\u001b[0m\u001b[1;36m3\u001b[0m\u001b[1;33m)\u001b[0m\u001b[1;33m:\u001b[0m\u001b[1;33m\u001b[0m\u001b[1;33m\u001b[0m\u001b[0m\n",
      "\u001b[1;32m~\\lflPython-github\\MeasurementScripts\\Quasiparticles\\HMM_Analysis\\AlazarPowerSweepData.py\u001b[0m in \u001b[0;36mrunHMM\u001b[1;34m(self, means, covars, intTime, SNRmin)\u001b[0m\n\u001b[0;32m    386\u001b[0m \u001b[1;33m\u001b[0m\u001b[0m\n\u001b[0;32m    387\u001b[0m         \u001b[0mprint\u001b[0m\u001b[1;33m(\u001b[0m\u001b[1;34m\"Starting post-HMM analysis plots.....\"\u001b[0m\u001b[1;33m)\u001b[0m\u001b[1;33m\u001b[0m\u001b[1;33m\u001b[0m\u001b[0m\n\u001b[1;32m--> 388\u001b[1;33m         \u001b[0mcreate_HMM_QP_statistics_plots\u001b[0m\u001b[1;33m(\u001b[0m\u001b[0mself\u001b[0m\u001b[1;33m.\u001b[0m\u001b[0mhdf5_file\u001b[0m\u001b[1;33m)\u001b[0m\u001b[1;33m\u001b[0m\u001b[1;33m\u001b[0m\u001b[0m\n\u001b[0m\u001b[0;32m    389\u001b[0m         \u001b[0mprint\u001b[0m\u001b[1;33m(\u001b[0m\u001b[1;34m\"=\"\u001b[0m\u001b[1;33m*\u001b[0m\u001b[1;36m10\u001b[0m\u001b[1;33m+\u001b[0m\u001b[1;34m\"\\tHMM ANALYSIS CONCLUDED\\t\"\u001b[0m\u001b[1;33m+\u001b[0m\u001b[1;34m\"=\"\u001b[0m\u001b[1;33m*\u001b[0m\u001b[1;36m10\u001b[0m\u001b[1;33m)\u001b[0m\u001b[1;33m\u001b[0m\u001b[1;33m\u001b[0m\u001b[0m\n",
      "\u001b[1;32m~\\lflPython-github\\MeasurementScripts\\Quasiparticles\\HMM_Analysis\\HMM_helper_functions.py\u001b[0m in \u001b[0;36mcreate_HMM_QP_statistics_plots\u001b[1;34m(hdf5_file)\u001b[0m\n\u001b[0;32m     98\u001b[0m \u001b[1;33m\u001b[0m\u001b[0m\n\u001b[0;32m     99\u001b[0m \u001b[1;32mdef\u001b[0m \u001b[0mcreate_HMM_QP_statistics_plots\u001b[0m\u001b[1;33m(\u001b[0m\u001b[0mhdf5_file\u001b[0m\u001b[1;33m)\u001b[0m\u001b[1;33m:\u001b[0m\u001b[1;33m\u001b[0m\u001b[1;33m\u001b[0m\u001b[0m\n\u001b[1;32m--> 100\u001b[1;33m     \u001b[0mcreate_mean_occupation_plot\u001b[0m\u001b[1;33m(\u001b[0m\u001b[0mhdf5_file\u001b[0m\u001b[1;33m)\u001b[0m\u001b[1;33m\u001b[0m\u001b[1;33m\u001b[0m\u001b[0m\n\u001b[0m\u001b[0;32m    101\u001b[0m     \u001b[0mcreate_transition_lifetimes_plot\u001b[0m\u001b[1;33m(\u001b[0m\u001b[0mhdf5_file\u001b[0m\u001b[1;33m)\u001b[0m\u001b[1;33m\u001b[0m\u001b[1;33m\u001b[0m\u001b[0m\n\u001b[0;32m    102\u001b[0m     \u001b[0mcreate_transition_probability_plot\u001b[0m\u001b[1;33m(\u001b[0m\u001b[0mhdf5_file\u001b[0m\u001b[1;33m)\u001b[0m\u001b[1;33m\u001b[0m\u001b[1;33m\u001b[0m\u001b[0m\n",
      "\u001b[1;32m~\\lflPython-github\\MeasurementScripts\\Quasiparticles\\HMM_Analysis\\HMM_helper_functions.py\u001b[0m in \u001b[0;36mcreate_mean_occupation_plot\u001b[1;34m(hdf5_file)\u001b[0m\n\u001b[0;32m    103\u001b[0m \u001b[1;33m\u001b[0m\u001b[0m\n\u001b[0;32m    104\u001b[0m \u001b[1;32mdef\u001b[0m \u001b[0mcreate_mean_occupation_plot\u001b[0m\u001b[1;33m(\u001b[0m\u001b[0mhdf5_file\u001b[0m\u001b[1;33m)\u001b[0m\u001b[1;33m:\u001b[0m\u001b[1;33m\u001b[0m\u001b[1;33m\u001b[0m\u001b[0m\n\u001b[1;32m--> 105\u001b[1;33m     \u001b[1;32mraise\u001b[0m \u001b[0mNotImplementedError\u001b[0m\u001b[1;33m(\u001b[0m\u001b[1;33m)\u001b[0m\u001b[1;33m\u001b[0m\u001b[1;33m\u001b[0m\u001b[0m\n\u001b[0m\u001b[0;32m    106\u001b[0m \u001b[1;33m\u001b[0m\u001b[0m\n\u001b[0;32m    107\u001b[0m \u001b[1;32mdef\u001b[0m \u001b[0mcreate_transition_probability_plot\u001b[0m\u001b[1;33m(\u001b[0m\u001b[0mhdf5_file\u001b[0m\u001b[1;33m)\u001b[0m\u001b[1;33m:\u001b[0m\u001b[1;33m\u001b[0m\u001b[1;33m\u001b[0m\u001b[0m\n",
      "\u001b[1;31mNotImplementedError\u001b[0m: "
     ]
    }
   ],
   "source": [
    "intTime=1\n",
    "SNRmin=3\n",
    "\n",
    "power_sweep_obj.start_HMM_fit(intTime=intTime, SNRmin= SNRmin)"
   ]
  },
  {
   "cell_type": "code",
   "execution_count": null,
   "metadata": {},
   "outputs": [],
   "source": []
  }
 ],
 "metadata": {
  "hide_input": false,
  "kernelspec": {
   "display_name": "Python 3",
   "language": "python",
   "name": "python3"
  },
  "language_info": {
   "codemirror_mode": {
    "name": "ipython",
    "version": 3
   },
   "file_extension": ".py",
   "mimetype": "text/x-python",
   "name": "python",
   "nbconvert_exporter": "python",
   "pygments_lexer": "ipython3",
   "version": "3.8.5"
  },
  "latex_envs": {
   "LaTeX_envs_menu_present": true,
   "autoclose": false,
   "autocomplete": true,
   "bibliofile": "biblio.bib",
   "cite_by": "apalike",
   "current_citInitial": 1,
   "eqLabelWithNumbers": true,
   "eqNumInitial": 1,
   "hotkeys": {
    "equation": "Ctrl-E",
    "itemize": "Ctrl-I"
   },
   "labels_anchors": false,
   "latex_user_defs": false,
   "report_style_numbering": false,
   "user_envs_cfg": false
  },
  "toc": {
   "base_numbering": 1,
   "nav_menu": {},
   "number_sections": true,
   "sideBar": false,
   "skip_h1_title": false,
   "title_cell": "Table of Contents",
   "title_sidebar": "Contents",
   "toc_cell": true,
   "toc_position": {},
   "toc_section_display": true,
   "toc_window_display": false
  },
  "varInspector": {
   "cols": {
    "lenName": 16,
    "lenType": 16,
    "lenVar": 40
   },
   "kernels_config": {
    "python": {
     "delete_cmd_postfix": "",
     "delete_cmd_prefix": "del ",
     "library": "var_list.py",
     "varRefreshCmd": "print(var_dic_list())"
    },
    "r": {
     "delete_cmd_postfix": ") ",
     "delete_cmd_prefix": "rm(",
     "library": "var_list.r",
     "varRefreshCmd": "cat(var_dic_list()) "
    }
   },
   "types_to_exclude": [
    "module",
    "function",
    "builtin_function_or_method",
    "instance",
    "_Feature"
   ],
   "window_display": false
  }
 },
 "nbformat": 4,
 "nbformat_minor": 5
}
