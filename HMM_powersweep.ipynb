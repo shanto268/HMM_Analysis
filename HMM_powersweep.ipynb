{
 "cells": [
  {
   "cell_type": "markdown",
   "metadata": {},
   "source": [
    "# HMM Analysis on Power Sweep"
   ]
  },
  {
   "cell_type": "code",
   "execution_count": 1,
   "metadata": {
    "ExecuteTime": {
     "end_time": "2022-10-03T23:16:45.673819Z",
     "start_time": "2022-10-03T23:16:44.242641Z"
    },
    "cell_style": "split"
   },
   "outputs": [],
   "source": [
    "from hmmlearn import hmm\n",
    "import numpy as np\n",
    "import matplotlib.pyplot as plt\n",
    "import fitTools.quasiparticleFunctions as qp\n",
    "from mpl_toolkits.axes_grid1 import make_axes_locatable\n",
    "import h5py\n",
    "import glob\n",
    "\n",
    "project_path = r\"G:\\Shared drives\\Quasiparticles_2\\NBR07_Oct2022\\Power_Sweep_Alazar_Card\"\n",
    "figurepath = r\"{}\\PowerSweepfigures\\\\\".format(project_path)\n",
    "plt.rcParams['pdf.fonttype'] = 42\n",
    "plt.rcParams['font.size'] = 10\n",
    "plt.rcParams['figure.facecolor'] = 'white'\n",
    "\n",
    "\n",
    "import os\n",
    "if not os.path.exists(figurepath):\n",
    "    os.makedirs(figurepath)"
   ]
  },
  {
   "cell_type": "code",
   "execution_count": 2,
   "metadata": {
    "ExecuteTime": {
     "end_time": "2022-10-03T23:16:45.735651Z",
     "start_time": "2022-10-03T23:16:45.721693Z"
    },
    "cell_style": "split"
   },
   "outputs": [],
   "source": [
    "plt.rcParams.update({'axes.labelpad':0.2,\n",
    "                     'axes.linewidth':1.0,\n",
    "                     'figure.dpi':300.0,\n",
    "                     'legend.frameon':True,\n",
    "                     'legend.handlelength':1.0,\n",
    "                     'xtick.major.pad':2,\n",
    "                     'xtick.minor.pad':2,\n",
    "                     'xtick.major.width':1.0,\n",
    "                     'ytick.major.pad':2,\n",
    "                     'ytick.minor.pad':2,\n",
    "                     'ytick.major.width':1.0,\n",
    "                     'axes.ymargin':0.01,\n",
    "                     'axes.xmargin':0.01})"
   ]
  },
  {
   "cell_type": "markdown",
   "metadata": {},
   "source": [
    "# Initial Configurations for HMM\n",
    "\n",
    "1) make IQ plot at lowest attenuation/(attenuation at which power to device is -127dB) at reduced sample rate to visually retrieve means\n",
    "\n",
    "2) set the retrieved means as the initial guess means\n",
    "\n",
    "3) do HMM analysis by looping over the files in ascending order of attentuation (i.e. 0,2,4...,38) / (attenuation greater than and equal to attenuation at which power to device is -127dB)\n",
    "\n",
    "\n",
    "## File Sorting\n"
   ]
  },
  {
   "cell_type": "code",
   "execution_count": 12,
   "metadata": {
    "ExecuteTime": {
     "end_time": "2022-10-03T23:19:15.602349Z",
     "start_time": "2022-10-03T23:19:15.506606Z"
    },
    "cell_style": "split"
   },
   "outputs": [
    {
     "data": {
      "text/plain": [
       "('G:\\\\Shared drives\\\\Quasiparticles_2\\\\NBR07_Oct2022\\\\Power_Sweep_Alazar_Card\\\\470flux_DA 0_SR10MHz\\\\NBR19_20221003_120019.bin',\n",
       " 'G:\\\\Shared drives\\\\Quasiparticles_2\\\\NBR07_Oct2022\\\\Power_Sweep_Alazar_Card\\\\470flux_DA48_SR10MHz\\\\NBR19_20221003_120654.bin')"
      ]
     },
     "execution_count": 12,
     "metadata": {},
     "output_type": "execute_result"
    }
   ],
   "source": [
    "files = glob.glob(r\"{}\\**\\*.bin\".format(project_path),recursive=True)\n",
    "files[0], files[-1]"
   ]
  },
  {
   "cell_type": "code",
   "execution_count": 13,
   "metadata": {
    "ExecuteTime": {
     "end_time": "2022-10-03T23:19:15.820766Z",
     "start_time": "2022-10-03T23:19:15.812787Z"
    },
    "cell_style": "split"
   },
   "outputs": [],
   "source": [
    "attens = []\n",
    "for file in files:\n",
    "    _,s = file.split('_DA')\n",
    "    atten = s[:2]\n",
    "    attens.append(int(atten))"
   ]
  },
  {
   "cell_type": "code",
   "execution_count": 14,
   "metadata": {
    "ExecuteTime": {
     "end_time": "2022-10-03T23:19:16.253609Z",
     "start_time": "2022-10-03T23:19:16.234665Z"
    },
    "cell_style": "split"
   },
   "outputs": [
    {
     "data": {
      "text/plain": [
       "(0, 48)"
      ]
     },
     "execution_count": 14,
     "metadata": {},
     "output_type": "execute_result"
    }
   ],
   "source": [
    "attens[0], attens[-1]"
   ]
  },
  {
   "cell_type": "code",
   "execution_count": 15,
   "metadata": {
    "ExecuteTime": {
     "end_time": "2022-10-03T23:19:16.563780Z",
     "start_time": "2022-10-03T23:19:16.549818Z"
    }
   },
   "outputs": [],
   "source": [
    "sortind = np.argsort(attens)"
   ]
  },
  {
   "cell_type": "code",
   "execution_count": 16,
   "metadata": {
    "ExecuteTime": {
     "end_time": "2022-10-03T23:19:16.797160Z",
     "start_time": "2022-10-03T23:19:16.779204Z"
    }
   },
   "outputs": [
    {
     "data": {
      "text/plain": [
       "array([48, 46, 44, 42, 40, 38, 36, 34, 32, 30, 28, 26, 24, 22, 20, 18, 16,\n",
       "       14, 12, 10,  8,  6,  4,  2,  0])"
      ]
     },
     "execution_count": 16,
     "metadata": {},
     "output_type": "execute_result"
    }
   ],
   "source": [
    "np.asarray(attens)[sortind[::-1]]"
   ]
  },
  {
   "cell_type": "code",
   "execution_count": 17,
   "metadata": {
    "ExecuteTime": {
     "end_time": "2022-10-03T23:19:17.106329Z",
     "start_time": "2022-10-03T23:19:17.091370Z"
    }
   },
   "outputs": [],
   "source": [
    "files = np.asarray(files)[sortind[::-1]]\n",
    "attens = np.asarray(attens)[sortind[::-1]]"
   ]
  },
  {
   "cell_type": "code",
   "execution_count": null,
   "metadata": {
    "ExecuteTime": {
     "end_time": "2022-10-03T19:39:15.406914Z",
     "start_time": "2022-10-03T19:39:15.388962Z"
    }
   },
   "outputs": [],
   "source": [
    "for i,file in zip(attens,files):\n",
    "    print('{} has attenaution {}'.format(file,i))"
   ]
  },
  {
   "cell_type": "markdown",
   "metadata": {},
   "source": [
    "### Changing the order of the files in descending format of the power and attenuation"
   ]
  },
  {
   "cell_type": "code",
   "execution_count": null,
   "metadata": {
    "ExecuteTime": {
     "end_time": "2022-10-03T20:18:55.345775Z",
     "start_time": "2022-10-03T20:18:55.337797Z"
    }
   },
   "outputs": [],
   "source": [
    "def create_IQ_plot(data):\n",
    "    ax = qp.plotComplexHist(data[0],data[1])\n",
    "    plt.show()\n"
   ]
  },
  {
   "cell_type": "code",
   "execution_count": 18,
   "metadata": {
    "ExecuteTime": {
     "end_time": "2022-10-03T23:19:20.395539Z",
     "start_time": "2022-10-03T23:19:20.378584Z"
    },
    "cell_style": "split"
   },
   "outputs": [
    {
     "data": {
      "text/plain": [
       "('G:\\\\Shared drives\\\\Quasiparticles_2\\\\NBR07_Oct2022\\\\Power_Sweep_Alazar_Card\\\\470flux_DA48_SR10MHz\\\\NBR19_20221003_120654.bin',\n",
       " 48)"
      ]
     },
     "execution_count": 18,
     "metadata": {},
     "output_type": "execute_result"
    }
   ],
   "source": [
    "files[0], attens[0]"
   ]
  },
  {
   "cell_type": "code",
   "execution_count": 19,
   "metadata": {
    "ExecuteTime": {
     "end_time": "2022-10-03T23:19:21.525520Z",
     "start_time": "2022-10-03T23:19:21.506570Z"
    },
    "cell_style": "split"
   },
   "outputs": [
    {
     "data": {
      "text/plain": [
       "('G:\\\\Shared drives\\\\Quasiparticles_2\\\\NBR07_Oct2022\\\\Power_Sweep_Alazar_Card\\\\470flux_DA 0_SR10MHz\\\\NBR19_20221003_120019.bin',\n",
       " 0)"
      ]
     },
     "execution_count": 19,
     "metadata": {},
     "output_type": "execute_result"
    }
   ],
   "source": [
    "files[-1], attens[-1]"
   ]
  },
  {
   "cell_type": "code",
   "execution_count": 20,
   "metadata": {
    "ExecuteTime": {
     "end_time": "2022-10-03T23:19:21.897527Z",
     "start_time": "2022-10-03T23:19:21.890544Z"
    },
    "cell_style": "center"
   },
   "outputs": [],
   "source": [
    "files = np.flip(files,0)\n",
    "attens = np.flip(attens,0)"
   ]
  },
  {
   "cell_type": "code",
   "execution_count": 21,
   "metadata": {
    "ExecuteTime": {
     "end_time": "2022-10-03T23:19:22.610621Z",
     "start_time": "2022-10-03T23:19:22.602641Z"
    },
    "cell_style": "split"
   },
   "outputs": [
    {
     "data": {
      "text/plain": [
       "('G:\\\\Shared drives\\\\Quasiparticles_2\\\\NBR07_Oct2022\\\\Power_Sweep_Alazar_Card\\\\470flux_DA 0_SR10MHz\\\\NBR19_20221003_120019.bin',\n",
       " 0)"
      ]
     },
     "execution_count": 21,
     "metadata": {},
     "output_type": "execute_result"
    }
   ],
   "source": [
    "files[0], attens[0]"
   ]
  },
  {
   "cell_type": "code",
   "execution_count": 22,
   "metadata": {
    "ExecuteTime": {
     "end_time": "2022-10-03T23:19:23.061415Z",
     "start_time": "2022-10-03T23:19:23.050444Z"
    },
    "cell_style": "split"
   },
   "outputs": [
    {
     "data": {
      "text/plain": [
       "('G:\\\\Shared drives\\\\Quasiparticles_2\\\\NBR07_Oct2022\\\\Power_Sweep_Alazar_Card\\\\470flux_DA48_SR10MHz\\\\NBR19_20221003_120654.bin',\n",
       " 48)"
      ]
     },
     "execution_count": 22,
     "metadata": {},
     "output_type": "execute_result"
    }
   ],
   "source": [
    "files[-1], attens[-1]"
   ]
  },
  {
   "cell_type": "code",
   "execution_count": null,
   "metadata": {
    "ExecuteTime": {
     "end_time": "2022-10-03T19:52:09.962265Z",
     "start_time": "2022-10-03T19:51:07.904086Z"
    },
    "scrolled": false
   },
   "outputs": [],
   "source": [
    "for i,file in enumerate(files):\n",
    "    data = qp.loadAlazarData(file)\n",
    "    data = qp.BoxcarDownsample(data,2,10)\n",
    "    data = qp.uint16_to_mV(data)\n",
    "    \n",
    "    qp.plotComplexHist(data[0],data[1])\n",
    "    plt.title(f'Atten = {attens[i]} dB')\n",
    "    plt.show()\n",
    "    plt.close()"
   ]
  },
  {
   "cell_type": "markdown",
   "metadata": {},
   "source": [
    "## Power to Device\n",
    "\n",
    "`LOpower` is the power to the device\n",
    "\n",
    "`idealPower` is the power known above which the resonator goes non-linear\n",
    "\n",
    "`chosenAtten` is the attenuation below which the resonator goes non-linear"
   ]
  },
  {
   "cell_type": "code",
   "execution_count": 24,
   "metadata": {
    "ExecuteTime": {
     "end_time": "2022-10-03T23:19:39.714907Z",
     "start_time": "2022-10-03T23:19:39.706929Z"
    }
   },
   "outputs": [],
   "source": [
    "fixedAttenuation = 20 + 10\n",
    "LOpower = 20 - 3 - 20 - fixedAttenuation - 10 - 75 - 3 - np.array(attens)"
   ]
  },
  {
   "cell_type": "code",
   "execution_count": 25,
   "metadata": {
    "ExecuteTime": {
     "end_time": "2022-10-03T23:19:39.931328Z",
     "start_time": "2022-10-03T23:19:39.923350Z"
    }
   },
   "outputs": [],
   "source": [
    "idealPower = -127\n",
    "chosenAtten = 4"
   ]
  },
  {
   "cell_type": "code",
   "execution_count": 26,
   "metadata": {
    "ExecuteTime": {
     "end_time": "2022-10-03T23:19:40.116833Z",
     "start_time": "2022-10-03T23:19:40.098881Z"
    },
    "cell_style": "split"
   },
   "outputs": [
    {
     "data": {
      "text/plain": [
       "(-125, 4)"
      ]
     },
     "execution_count": 26,
     "metadata": {},
     "output_type": "execute_result"
    }
   ],
   "source": [
    "index = int(np.where(attens == chosenAtten)[0])\n",
    "\n",
    "LOpower[index], attens[index]"
   ]
  },
  {
   "cell_type": "code",
   "execution_count": 27,
   "metadata": {
    "ExecuteTime": {
     "end_time": "2022-10-03T23:19:40.303341Z",
     "start_time": "2022-10-03T23:19:40.290369Z"
    },
    "cell_style": "split"
   },
   "outputs": [
    {
     "data": {
      "text/plain": [
       "-125"
      ]
     },
     "execution_count": 27,
     "metadata": {},
     "output_type": "execute_result"
    }
   ],
   "source": [
    "LOpower[int(np.where(attens==attens[index])[0])]"
   ]
  },
  {
   "cell_type": "code",
   "execution_count": 28,
   "metadata": {
    "ExecuteTime": {
     "end_time": "2022-10-03T23:19:40.863836Z",
     "start_time": "2022-10-03T23:19:40.858849Z"
    }
   },
   "outputs": [],
   "source": [
    "numModes = 2"
   ]
  },
  {
   "cell_type": "code",
   "execution_count": null,
   "metadata": {
    "ExecuteTime": {
     "end_time": "2022-10-03T20:20:02.184496Z",
     "start_time": "2022-10-03T20:19:51.874464Z"
    }
   },
   "outputs": [],
   "source": [
    "sampleRateFromData = 10\n",
    "\n",
    "data = qp.loadAlazarData(files[index])\n",
    "data, sr = qp.BoxcarDownsample(data, avgTime=3, sampleRate=sampleRateFromData, returnRate=True) \n",
    "data = qp.uint16_to_mV(data)\n",
    "\n",
    "%matplotlib qt\n",
    "create_IQ_plot(data)\n",
    "means = plt.ginput(n=numModes)"
   ]
  },
  {
   "cell_type": "markdown",
   "metadata": {},
   "source": [
    "## Extract the means from the plot"
   ]
  },
  {
   "cell_type": "code",
   "execution_count": null,
   "metadata": {
    "ExecuteTime": {
     "end_time": "2022-10-03T20:20:08.075578Z",
     "start_time": "2022-10-03T20:20:08.065606Z"
    }
   },
   "outputs": [],
   "source": [
    "means"
   ]
  },
  {
   "cell_type": "code",
   "execution_count": null,
   "metadata": {
    "ExecuteTime": {
     "end_time": "2022-10-03T20:20:31.013460Z",
     "start_time": "2022-10-03T20:20:31.002490Z"
    }
   },
   "outputs": [],
   "source": [
    "%matplotlib inline\n"
   ]
  },
  {
   "cell_type": "code",
   "execution_count": null,
   "metadata": {
    "ExecuteTime": {
     "end_time": "2022-10-03T20:13:09.125162Z",
     "start_time": "2022-10-03T20:13:09.112198Z"
    }
   },
   "outputs": [],
   "source": [
    "intTime = 1\n",
    "skip = index\n",
    "# breakTime = 50\n",
    "SNRmin = 3\n",
    "n_comp = 2"
   ]
  },
  {
   "cell_type": "code",
   "execution_count": null,
   "metadata": {
    "ExecuteTime": {
     "end_time": "2022-10-03T20:13:44.113014Z",
     "start_time": "2022-10-03T20:13:44.098054Z"
    }
   },
   "outputs": [],
   "source": [
    "dateOfMeasurement = 20221002\n",
    "Temp = 30\n",
    "\n",
    "eccosorb = True\n",
    "KandL = True\n",
    "rigidCables = True\n",
    "JPA = False\n",
    "TWPA = True\n",
    "ClearingCoupler = False\n",
    "sampleRateMHz = 10\n",
    "durationSeconds = 5\n",
    "\n",
    "f0 = 4.2727\n",
    "LOf = 4.27256\n",
    "phi = 0.47"
   ]
  },
  {
   "cell_type": "code",
   "execution_count": null,
   "metadata": {
    "ExecuteTime": {
     "end_time": "2022-10-03T20:13:45.540311Z",
     "start_time": "2022-10-03T20:13:45.536322Z"
    }
   },
   "outputs": [],
   "source": [
    "covars = np.array([[[5,1],[1,5]],\n",
    "                   [[5,1],[1,5]]\n",
    "                   ])"
   ]
  },
  {
   "cell_type": "code",
   "execution_count": null,
   "metadata": {
    "ExecuteTime": {
     "end_time": "2022-10-03T20:13:55.451827Z",
     "start_time": "2022-10-03T20:13:55.441853Z"
    }
   },
   "outputs": [],
   "source": [
    "attens[skip:]"
   ]
  },
  {
   "cell_type": "markdown",
   "metadata": {},
   "source": [
    "# HMM Fitting\n",
    "\n",
    "##  HMM with James Comments (NOT FUNCTIONAL)"
   ]
  },
  {
   "cell_type": "code",
   "execution_count": null,
   "metadata": {
    "code_folding": [
     12
    ],
    "scrolled": true
   },
   "outputs": [],
   "source": [
    "MEANS = []\n",
    "HMM = []\n",
    "TAUS = []\n",
    "STARTS = [] # starting probailities\n",
    "P0s = [] # prob of having 0 qp over each file\n",
    "P1s = []\n",
    "P2s = []\n",
    "sampleRateFromData = 10 # MHz\n",
    "\n",
    "#######################################3\n",
    "# original code used i,file in enumerate(files). There are still some dependencies on i in the code below\n",
    "#########################################\n",
    "for atten,file in zip(attens[index:],files[index:]):\n",
    "    \n",
    "    metainfo = {\n",
    "        'f0': f0,\n",
    "        'LOf': LOf,\n",
    "       #'Delta': Delta,\n",
    "        'phi': phi,\n",
    "        'eccosorb': eccosorb,\n",
    "        'KandL': KandL,\n",
    "        'rigidCables': rigidCables,\n",
    "        'JPA': JPA,\n",
    "        'TWPA': TWPA,\n",
    "        'ClearingCoupler': ClearingCoupler,\n",
    "        'dateOfMeasurement': dateOfMeasurement,\n",
    "        'sampleRateMHz': sampleRateMHz,\n",
    "        'durationSeconds': durationSeconds,\n",
    "        'Temperature': Temp}\n",
    "    \n",
    "    LOpower = 20 - 3 - 20 - 20 - 10 - 75 - 3 - np.array(attens)\n",
    "    print(f\"attenuation: {atten}\")\n",
    "    savefile = os.path.join(project_path,'powerSweep','AnalyisResults',f'FullDataset_2_modes_JamesRerun.hdf5')\n",
    "    \n",
    "    if not os.path.exists(os.path.split(savefile)[0]):\n",
    "        os.makedirs(os.path.split(savefile)[0])\n",
    "    \n",
    "    figpath = os.path.join(figurepath, f'ATTEN{atten}')\n",
    "    if not os.path.exists(figpath):\n",
    "        os.makedirs(figpath)\n",
    "    \n",
    "    with h5py.File(savefile,'a') as f:\n",
    "        g = f.require_group(f'ATTEN{atten}')\n",
    "        for key in metainfo:\n",
    "            g.attrs.create(key,metainfo[key])\n",
    "    \n",
    "    ###########################################################\n",
    "    # In boxcar downsampling below, avgTime is hard coded to always start at 1.\n",
    "    # At each iteration of this loop, we expect the results to change only by a small amount;\n",
    "    # this is why we use the previous values of means and covars as initial guesses.\n",
    "    # Similarly, we should use the previous avgTime so as to avoid unecessary fits (we're decreasing\n",
    "    # our readout power at each iteration. avgTime should only increase from one iteration to the next,\n",
    "    # never get smaller, so if it's increased due to failing SNR check, there's no reason to return to 1)\n",
    "    #############################################################\n",
    "    # oops, accidentaly hit shift+enter. Hopefully stopped it before overwriting anything!\n",
    "    data = qp.loadAlazarData(file)\n",
    "#     data, sr = qp.BoxcarDownsample(data, avgTime=1,sampleRate=sampleRateFromData, returnRate=True)\n",
    "    data, sr = qp.BoxcarDownsample(data, avgTime=intTime,sampleRate=sampleRateFromData, returnRate=True) \n",
    "    data = qp.uint16_to_mV(data)\n",
    "    # fit the HMM\n",
    "    \n",
    "    M = hmm.GaussianHMM(n_components=n_comp,covariance_type='full',init_params='s',n_iter=500,tol=0.001)\n",
    "    M.means_ = means\n",
    "    M.covars_ = covars\n",
    "    \n",
    "    \n",
    "    if n_comp == 3:\n",
    "        M.transmat_ = np.array([[0.99, 0.009,0.001],[0.03, 0.95,0.02],[0.05,0.05,0.9]])\n",
    "    else:\n",
    "        M.transmat_ = np.array([[0.99, 0.01],[0.01, 0.99]])\n",
    "        \n",
    "    M.fit(data.T)\n",
    "    \n",
    "    HMM.append(M)\n",
    "    \n",
    "    #########################################\n",
    "    # the block below uses loop index i to get the previous HMM results. i is now static, so \n",
    "    # our failure condition comparing intTime to lifetimes is broken\n",
    "    #################3#######################3\n",
    "    with h5py.File(savefile,'r') as ff:\n",
    "        f = ff[f'ATTEN{atten}']\n",
    "        oldrates = f[f'{i+skip-1}/transitionRatesMHz'][:] if i != 0 else 0.0001*np.ones((n_comp,n_comp))\n",
    "        lifetimes = np.array([1/oldrates[j,j] for j in range(n_comp)])\n",
    "        t01 = 1/oldrates[0,1]\n",
    "        t10 = 1/oldrates[1,0]\n",
    "        ttimes = np.array([t01,t10])\n",
    "    \n",
    "\n",
    "    # get SNR\n",
    "    snr01 = qp.getSNRhmm(M,mode1=0,mode2=1)\n",
    "    SNRs = np.array([snr01,])\n",
    "\n",
    "    logprob,Q = M.decode(data.T)\n",
    "    Qmean = np.mean(Q)\n",
    "    P0 = np.sum(Q == 0)/Q.size\n",
    "    P1 = np.sum(Q == 1)/Q.size\n",
    "    P2 = np.sum(Q == 2)/Q.size\n",
    "\n",
    "    if np.min(SNRs) < SNRmin and intTime <= np.min(lifetimes)/2 and intTime <= np.min(ttimes) and P1 < P0:\n",
    "        success = False\n",
    "        srold = np.copy(sr)\n",
    "        while not success:\n",
    "            intTime *= 1.15*SNRmin/np.min(SNRs)\n",
    "            print(f'\\n\\n\\nNew integration time = {intTime} because SNR was {np.min(SNRs):.6}\\n\\n\\n')\n",
    "            data = qp.loadAlazarData(file)\n",
    "            srold = np.copy(sr)\n",
    "            data, sr = qp.BoxcarDownsample(data,intTime,sampleRateMHz,returnRate = True)\n",
    "            data = qp.uint16_to_mV(data)\n",
    "            M = hmm.GaussianHMM(n_components=n_comp,covariance_type='full',init_params='s',n_iter=500,tol=0.001)\n",
    "            \n",
    "            ###################################################\n",
    "            # The block below also has dependency on loop index i. \n",
    "            # Now when the SNR is small and we try fitting with increased intTime, it will pull\n",
    "            # less than ideal initial values for means and covars.\n",
    "            ###################################################\n",
    "            with h5py.File(savefile,'r') as ff:\n",
    "                f = ff[f'ATTEN{atten}']\n",
    "                M.means_ = f[f'{i+skip-1}'].attrs.get('HMMmeans_') if i != 0 else means\n",
    "                M.covars_ = f[f'{i+skip-1}'].attrs.get('HMMcovars_') if i != 0 else covars\n",
    "            if n_comp == 3:\n",
    "                M.transmat_ = np.array([[0.99, 0.009,0.001],[0.03, 0.95,0.02],[0.05,0.05,0.9]])\n",
    "            else:\n",
    "                M.transmat_ = np.array([[0.99, 0.01],[0.01, 0.99]])\n",
    "            M.fit(data.T)\n",
    "            # get SNR\n",
    "            snr01 = qp.getSNRhmm(M,mode1=0,mode2=1)\n",
    "            SNRs = np.array([snr01,])\n",
    "            if np.min(SNRs) > SNRmin:\n",
    "                success = True\n",
    "            elif intTime > np.min(lifetimes)/2 or intTime > np.min(ttimes):\n",
    "                print('Integration time has grown too large.')\n",
    "                break\n",
    "            if sr == srold:\n",
    "                print('stuck in loop, exiting')\n",
    "                break\n",
    "            srold = np.copy(sr)\n",
    "    \n",
    "    ###################3\n",
    "    # i > 3 condition can never be met with static i = 0\n",
    "    #####################\n",
    "    if intTime > np.min(lifetimes)/2 and i > 3:\n",
    "        print('Integration time has grown too large.')\n",
    "        break\n",
    "    if P1 > P0:\n",
    "        print('P1 became larger than P0!')\n",
    "        break\n",
    "\n",
    "    # plot the fit\n",
    "    ##################\n",
    "    # i is also used in several places for plotting here\n",
    "    ####################\n",
    "    h = qp.plotComplexHist(data[0],data[1],figsize=[4,4])\n",
    "    if n_comp == 3:\n",
    "        qp.make_ellipsesHMM(M,h,['purple','orange','green'])\n",
    "    else:\n",
    "        qp.make_ellipsesHMM(M,h,['purple','orange'])\n",
    "    plt.xlabel('I [mV]')\n",
    "    plt.ylabel('Q [mV]')\n",
    "    plt.title('HMM fit | {:.2} MHz | {} dBm'.format(sr,LOpower[i+skip]))\n",
    "    plt.savefig(os.path.join(figpath,'HMMfits_{}_{}dBm.png'.format(i+skip,LOpower[i+skip])))\n",
    "    plt.close()\n",
    "\n",
    "    # extract occupation\n",
    "    logprob,Q = M.decode(data.T)\n",
    "    Qmean = np.mean(Q)\n",
    "    P0 = np.sum(Q == 0)/Q.size\n",
    "    P1 = np.sum(Q == 1)/Q.size\n",
    "    P2 = np.sum(Q == 2)/Q.size\n",
    "\n",
    "    # plot a section of time series\n",
    "    fig, ax = qp.plotTimeSeries(data,Q,np.arange(Q.size)/sr,1500,2000,zeroTime=True)\n",
    "    plt.title('{:.2} MHz | {} dBm'.format(sr,LOpower[i+skip]))\n",
    "    plt.savefig(os.path.join(figpath,'TimeSeries__{}_{}dBm.png'.format(i+skip,LOpower[i+skip])))\n",
    "    plt.close()\n",
    "\n",
    "    # get the transition rates\n",
    "    rates = qp.getTransRatesFromProb(sr,M.transmat_)\n",
    "\n",
    "    # save all the information to aggregate file\n",
    "    ##################\n",
    "    # i is used in a few places here, in particular the last attributes LOpower and attens are incorrect\n",
    "    # also note that skip has no meaning anymore. the variable index found from power = -127 has taken on the same role\n",
    "    ##################\n",
    "    with h5py.File(savefile,'a') as ff:\n",
    "        f = ff[f'ATTEN{atten}']\n",
    "        fp = f.require_group('{}'.format(i+skip))\n",
    "        fp.create_dataset('Q',data = Q)\n",
    "        fp.create_dataset('data',data = data)\n",
    "        fp.create_dataset('transitionRatesMHz',data = rates)\n",
    "        fp.attrs.create('logprobQ',logprob)\n",
    "        fp.attrs.create('mean',Qmean)\n",
    "        fp.attrs.create('P0',P0)\n",
    "        fp.attrs.create('P1',P1)\n",
    "        fp.attrs.create('P2',P2)\n",
    "        fp.attrs.create('SNRs',SNRs)\n",
    "        fp.attrs.create('downsampleRateMHz',sr)\n",
    "        fp.attrs.create('HMMmeans_',M.means_)\n",
    "        fp.attrs.create('HMMstartprob_',M.startprob_)\n",
    "        fp.attrs.create('HMMcovars_',M.covars_)\n",
    "        fp.attrs.create('HMMtransmat_',M.transmat_)\n",
    "        fp.attrs.create('LOpower',LOpower[i+skip])\n",
    "        fp.attrs.create('DAsetting',attens[i+skip])\n",
    "        for key in metainfo:\n",
    "            fp.attrs.create(key,metainfo[key])\n",
    "\n",
    "    # save a copy of current means to use as estimate for next power\n",
    "    means2= np.copy(M.means_)\n",
    "    covars2= np.copy(M.covars_)"
   ]
  },
  {
   "cell_type": "markdown",
   "metadata": {},
   "source": [
    "## James' Code\n",
    "\n",
    "### Reinserting i as a loop index and running again"
   ]
  },
  {
   "cell_type": "code",
   "execution_count": null,
   "metadata": {
    "ExecuteTime": {
     "end_time": "2022-10-03T20:20:43.061985Z",
     "start_time": "2022-10-03T20:20:43.042039Z"
    }
   },
   "outputs": [],
   "source": [
    "intTime = 1\n",
    "skip = index\n",
    "# breakTime = 50\n",
    "SNRmin = 3\n",
    "n_comp = 2\n",
    "\n",
    "dateOfMeasurement = 20221002\n",
    "Temp = 30\n",
    "\n",
    "eccosorb = True\n",
    "KandL = True\n",
    "rigidCables = True\n",
    "JPA = False\n",
    "TWPA = True\n",
    "ClearingCoupler = False\n",
    "sampleRateMHz = 10\n",
    "durationSeconds = 5\n",
    "\n",
    "f0 = 4.2727\n",
    "LOf = 4.27256\n",
    "phi = 0.47\n",
    "\n",
    "covars = np.array([[[5,1],[1,5]],\n",
    "                   [[5,1],[1,5]]\n",
    "                   ])\n",
    "\n",
    "attens[index:]"
   ]
  },
  {
   "cell_type": "code",
   "execution_count": null,
   "metadata": {
    "ExecuteTime": {
     "end_time": "2022-10-03T20:20:47.695611Z",
     "start_time": "2022-10-03T20:20:47.689627Z"
    }
   },
   "outputs": [],
   "source": [
    "means"
   ]
  },
  {
   "cell_type": "code",
   "execution_count": null,
   "metadata": {
    "ExecuteTime": {
     "end_time": "2022-10-03T21:10:02.063459Z",
     "start_time": "2022-10-03T21:10:02.047503Z"
    }
   },
   "outputs": [],
   "source": [
    "lifetimes"
   ]
  },
  {
   "cell_type": "code",
   "execution_count": null,
   "metadata": {
    "ExecuteTime": {
     "end_time": "2022-10-03T20:32:03.750067Z",
     "start_time": "2022-10-03T20:26:11.477400Z"
    },
    "scrolled": true
   },
   "outputs": [],
   "source": [
    "MEANS = []\n",
    "HMM = []\n",
    "TAUS = []\n",
    "STARTS = [] # starting probailities\n",
    "P0s = [] # prob of having 0 qp over each file\n",
    "P1s = []\n",
    "P2s = []\n",
    "sampleRateFromData = 10 # MHz\n",
    "\n",
    "skip = np.copy(index)\n",
    "#######################################3\n",
    "# original code used i,file in enumerate(files). There are still some dependencies on i in the code below\n",
    "#########################################\n",
    "for i,atten,file in zip(np.arange(len(attens[index:])),attens[index:],files[index:]):\n",
    "    \n",
    "    metainfo = {\n",
    "        'f0': f0,\n",
    "        'LOf': LOf,\n",
    "       #'Delta': Delta,\n",
    "        'phi': phi,\n",
    "        'eccosorb': eccosorb,\n",
    "        'KandL': KandL,\n",
    "        'rigidCables': rigidCables,\n",
    "        'JPA': JPA,\n",
    "        'TWPA': TWPA,\n",
    "        'ClearingCoupler': ClearingCoupler,\n",
    "        'dateOfMeasurement': dateOfMeasurement,\n",
    "        'sampleRateMHz': sampleRateMHz,\n",
    "        'durationSeconds': durationSeconds,\n",
    "        'Temperature': Temp}\n",
    "    \n",
    "    LOpower = 20 - 3 - 20 - 20 - 10 - 75 - 3 - np.array(attens)\n",
    "    print(f\"attenuation: {atten}\")\n",
    "    savefile = os.path.join(project_path,'powerSweep','AnalyisResults',f'FullDataset_2_modes.hdf5')\n",
    "    \n",
    "    if not os.path.exists(os.path.split(savefile)[0]):\n",
    "        os.makedirs(os.path.split(savefile)[0])\n",
    "    \n",
    "    figpath = os.path.join(figurepath, f'ATTEN{atten}')\n",
    "    if not os.path.exists(figpath):\n",
    "        os.makedirs(figpath)\n",
    "    \n",
    "    with h5py.File(savefile,'a') as f:\n",
    "        g = f.require_group(f'ATTEN{atten}')\n",
    "        for key in metainfo:\n",
    "            g.attrs.create(key,metainfo[key])\n",
    "    \n",
    "    ###########################################################\n",
    "    # In boxcar downsampling below, avgTime is hard coded to always start at 1.\n",
    "    # At each iteration of this loop, we expect the results to change only by a small amount;\n",
    "    # this is why we use the previous values of means and covars as initial guesses.\n",
    "    # Similarly, we should use the previous avgTime so as to avoid unecessary fits (we're decreasing\n",
    "    # our readout power at each iteration. avgTime should only increase from one iteration to the next,\n",
    "    # never get smaller, so if it's increased due to failing SNR check, there's no reason to return to 1)\n",
    "    #############################################################\n",
    "    # oops, accidentaly hit shift+enter. Hopefully stopped it before overwriting anything!\n",
    "    data = qp.loadAlazarData(file)\n",
    "#     data, sr = qp.BoxcarDownsample(data, avgTime=1,sampleRate=sampleRateFromData, returnRate=True)\n",
    "    data, sr = qp.BoxcarDownsample(data, avgTime=intTime,sampleRate=sampleRateFromData, returnRate=True) \n",
    "    data = qp.uint16_to_mV(data)\n",
    "    # fit the HMM\n",
    "    \n",
    "    M = hmm.GaussianHMM(n_components=n_comp,covariance_type='full',init_params='s',n_iter=500,tol=0.001)\n",
    "    M.means_ = means\n",
    "    M.covars_ = covars\n",
    "    \n",
    "    \n",
    "    if n_comp == 3:\n",
    "        M.transmat_ = np.array([[0.99, 0.009,0.001],[0.03, 0.95,0.02],[0.05,0.05,0.9]])\n",
    "    else:\n",
    "        M.transmat_ = np.array([[0.99, 0.01],[0.01, 0.99]])\n",
    "        \n",
    "    M.fit(data.T)\n",
    "    \n",
    "    HMM.append(M)\n",
    "    \n",
    "    #########################################\n",
    "    # the block below uses loop index i to get the previous HMM results. i is now static, so \n",
    "    # our failure condition comparing intTime to lifetimes is broken\n",
    "    #################3#######################3\n",
    "    with h5py.File(savefile,'r') as ff:\n",
    "#         f = ff[f'ATTEN{attens[i+skip-1]}'] \n",
    "        # altered here because we want the previous iteration\n",
    "        oldrates = ff[f'ATTEN{attens[i+skip-1]}/transitionRatesMHz'][:] if i != 0 else 0.0001*np.ones((n_comp,n_comp))\n",
    "        lifetimes = np.array([1/oldrates[j,j] for j in range(n_comp)])\n",
    "        t01 = 1/oldrates[0,1]\n",
    "        t10 = 1/oldrates[1,0]\n",
    "        ttimes = np.array([t01,t10])\n",
    "    \n",
    "\n",
    "    # get SNR\n",
    "    snr01 = qp.getSNRhmm(M,mode1=0,mode2=1)\n",
    "    SNRs = np.array([snr01,])\n",
    "\n",
    "    logprob,Q = M.decode(data.T)\n",
    "    Qmean = np.mean(Q)\n",
    "    P0 = np.sum(Q == 0)/Q.size\n",
    "    P1 = np.sum(Q == 1)/Q.size\n",
    "    P2 = np.sum(Q == 2)/Q.size\n",
    "\n",
    "    if np.min(SNRs) < SNRmin and intTime <= np.min(lifetimes)/2 and intTime <= np.min(ttimes) and P1 < P0:\n",
    "        success = False\n",
    "        srold = np.copy(sr)\n",
    "        while not success:\n",
    "            intTime *= 1.15*SNRmin/np.min(SNRs)\n",
    "            print(f'\\n\\n\\nNew integration time = {intTime} because SNR was {np.min(SNRs):.6}\\n\\n\\n')\n",
    "            data = qp.loadAlazarData(file)\n",
    "            srold = np.copy(sr)\n",
    "            data, sr = qp.BoxcarDownsample(data,intTime,sampleRateMHz,returnRate = True)\n",
    "            data = qp.uint16_to_mV(data)\n",
    "            M = hmm.GaussianHMM(n_components=n_comp,covariance_type='full',init_params='s',n_iter=500,tol=0.001)\n",
    "            \n",
    "            ###################################################\n",
    "            # The block below also has dependency on loop index i. \n",
    "            # Now when the SNR is small and we try fitting with increased intTime, it will pull\n",
    "            # less than ideal initial values for means and covars.\n",
    "            ###################################################\n",
    "            with h5py.File(savefile,'r') as ff:\n",
    "#                 f = ff[f'ATTEN{attens[i+skip-1]}'] \n",
    "                # altered here because we want the previous iteration\n",
    "                M.means_ = ff[f'ATTEN{attens[i+skip-1]}'].attrs.get('HMMmeans_') if i != 0 else means\n",
    "                M.covars_ = ff[f'ATTEN{attens[i+skip-1]}'].attrs.get('HMMcovars_') if i != 0 else covars\n",
    "            if n_comp == 3:\n",
    "                M.transmat_ = np.array([[0.99, 0.009,0.001],[0.03, 0.95,0.02],[0.05,0.05,0.9]])\n",
    "            else:\n",
    "                M.transmat_ = np.array([[0.99, 0.01],[0.01, 0.99]])\n",
    "            M.fit(data.T)\n",
    "            # get SNR\n",
    "            snr01 = qp.getSNRhmm(M,mode1=0,mode2=1)\n",
    "            SNRs = np.array([snr01,])\n",
    "            if np.min(SNRs) > SNRmin:\n",
    "                success = True\n",
    "            elif intTime > np.min(lifetimes)/2 or intTime > np.min(ttimes):\n",
    "                print('Integration time has grown too large.')\n",
    "                break\n",
    "            if sr == srold:\n",
    "                print('stuck in loop, exiting')\n",
    "                break\n",
    "            srold = np.copy(sr)\n",
    "    \n",
    "    ###################3\n",
    "    # i > 3 condition can never be met with static i = 0\n",
    "    #####################\n",
    "    if intTime > np.min(lifetimes)/2 and i > 3:\n",
    "        print('Integration time has grown too large.')\n",
    "        break\n",
    "    if P1 > P0:\n",
    "        print('P1 became larger than P0!')\n",
    "        break\n",
    "\n",
    "    # plot the fit\n",
    "    ##################\n",
    "    # i is also used in several places for plotting here\n",
    "    ####################\n",
    "    h = qp.plotComplexHist(data[0],data[1],figsize=[4,4])\n",
    "    if n_comp == 3:\n",
    "        qp.make_ellipsesHMM(M,h,['purple','orange','green'])\n",
    "    else:\n",
    "        qp.make_ellipsesHMM(M,h,['purple','orange'])\n",
    "    plt.xlabel('I [mV]')\n",
    "    plt.ylabel('Q [mV]')\n",
    "    plt.title('HMM fit | {:.2} MHz | {} dBm'.format(sr,LOpower[i+skip]))\n",
    "    plt.savefig(os.path.join(figpath,'HMMfits_{}_{}dBm.png'.format(i+skip,LOpower[i+skip])))\n",
    "    plt.close()\n",
    "\n",
    "    # extract occupation\n",
    "    logprob,Q = M.decode(data.T)\n",
    "    Qmean = np.mean(Q)\n",
    "    P0 = np.sum(Q == 0)/Q.size\n",
    "    P1 = np.sum(Q == 1)/Q.size\n",
    "    P2 = np.sum(Q == 2)/Q.size\n",
    "\n",
    "    # plot a section of time series\n",
    "    fig, ax = qp.plotTimeSeries(data,Q,np.arange(Q.size)/sr,1500,2000,zeroTime=True)\n",
    "    plt.title('{:.2} MHz | {} dBm'.format(sr,LOpower[i+skip]))\n",
    "    plt.savefig(os.path.join(figpath,'TimeSeries__{}_{}dBm.png'.format(i+skip,LOpower[i+skip])))\n",
    "    plt.close()\n",
    "\n",
    "    # get the transition rates\n",
    "    rates = qp.getTransRatesFromProb(sr,M.transmat_)\n",
    "\n",
    "    # save all the information to aggregate file\n",
    "    ##################\n",
    "    # i is used in a few places here, in particular the last attributes LOpower and attens are incorrect\n",
    "    # also note that skip has no meaning anymore. the variable index found from power = -127 has taken on the same role\n",
    "    ##################\n",
    "    with h5py.File(savefile,'a') as ff:\n",
    "#         f = ff[f'ATTEN{atten}']\n",
    "        fp = ff.require_group(f'ATTEN{atten}')\n",
    "        fp.create_dataset('Q',data = Q)\n",
    "        fp.create_dataset('data',data = data)\n",
    "        fp.create_dataset('transitionRatesMHz',data = rates)\n",
    "        fp.attrs.create('logprobQ',logprob)\n",
    "        fp.attrs.create('mean',Qmean)\n",
    "        fp.attrs.create('P0',P0)\n",
    "        fp.attrs.create('P1',P1)\n",
    "        fp.attrs.create('P2',P2)\n",
    "        fp.attrs.create('SNRs',SNRs)\n",
    "        fp.attrs.create('downsampleRateMHz',sr)\n",
    "        fp.attrs.create('HMMmeans_',M.means_)\n",
    "        fp.attrs.create('HMMstartprob_',M.startprob_)\n",
    "        fp.attrs.create('HMMcovars_',M.covars_)\n",
    "        fp.attrs.create('HMMtransmat_',M.transmat_)\n",
    "        fp.attrs.create('LOpower',LOpower[i+skip])\n",
    "        fp.attrs.create('DAsetting',attens[i+skip])\n",
    "        for key in metainfo:\n",
    "            fp.attrs.create(key,metainfo[key])\n",
    "\n",
    "    # save a copy of current means to use as estimate for next power\n",
    "    means= np.copy(M.means_)\n",
    "    covars= np.copy(M.covars_)"
   ]
  },
  {
   "cell_type": "markdown",
   "metadata": {},
   "source": [
    "# HMM Derived Plots\n",
    "\n",
    "## Mean Occupation wrt DA Power"
   ]
  },
  {
   "cell_type": "code",
   "execution_count": 3,
   "metadata": {
    "ExecuteTime": {
     "end_time": "2022-10-03T23:16:50.419135Z",
     "start_time": "2022-10-03T23:16:50.412153Z"
    }
   },
   "outputs": [],
   "source": [
    "savefile = os.path.join(project_path,'powerSweep','AnalyisResults',f'FullDataset_2_modes.hdf5')"
   ]
  },
  {
   "cell_type": "code",
   "execution_count": 8,
   "metadata": {
    "ExecuteTime": {
     "end_time": "2022-10-03T23:18:03.839918Z",
     "start_time": "2022-10-03T23:18:03.826953Z"
    }
   },
   "outputs": [
    {
     "data": {
      "text/plain": [
       "'G:\\\\Shared drives\\\\Quasiparticles_2\\\\NBR07_Oct2022\\\\Power_Sweep_Alazar_Card\\\\powerSweep\\\\AnalyisResults\\\\FullDataset_2_modes.hdf5'"
      ]
     },
     "execution_count": 8,
     "metadata": {},
     "output_type": "execute_result"
    }
   ],
   "source": [
    "savefile"
   ]
  },
  {
   "cell_type": "code",
   "execution_count": 31,
   "metadata": {
    "ExecuteTime": {
     "end_time": "2022-10-03T23:20:03.288904Z",
     "start_time": "2022-10-03T23:20:03.258984Z"
    }
   },
   "outputs": [],
   "source": [
    "MEANS = []\n",
    "P0 = []\n",
    "P1 = []\n",
    "P2 = []\n",
    "TAUS = []\n",
    "TRANS_RATE = []\n",
    "attens_analyzed = []\n",
    "\n",
    "with h5py.File(savefile,'r') as f:\n",
    "    try:\n",
    "        for i in attens[index:]:\n",
    "            #hdf5_index = list(f[f\"ATTEN{i}\"].keys())[0]\n",
    "           # means_qp = f[f'ATTEN{i}/{hdf5_index}'].attrs.get('mean')\n",
    "            means_qp = f[f'ATTEN{i}'].attrs.get('mean')\n",
    "            P0.append(f[f'ATTEN{i}'].attrs.get('P0'))\n",
    "            P1.append(f[f'ATTEN{i}'].attrs.get('P1'))\n",
    "            TRANS_RATE.append(f[f'ATTEN{i}'].attrs.get('transitionRatesMHz'))\n",
    "            MEANS.append(means_qp)\n",
    "            attens_analyzed.append(i)\n",
    "    except:\n",
    "        pass"
   ]
  },
  {
   "cell_type": "code",
   "execution_count": 40,
   "metadata": {
    "ExecuteTime": {
     "end_time": "2022-10-03T23:22:35.162266Z",
     "start_time": "2022-10-03T23:22:34.995712Z"
    },
    "cell_style": "center"
   },
   "outputs": [
    {
     "data": {
      "text/plain": [
       "Text(0.5, 0, 'DA Attenuation [dBm]')"
      ]
     },
     "execution_count": 40,
     "metadata": {},
     "output_type": "execute_result"
    },
    {
     "data": {
      "image/png": "[encoded data removed]",
      "text/plain": [
       "<Figure size 640x480 with 1 Axes>"
      ]
     },
     "metadata": {},
     "output_type": "display_data"
    }
   ],
   "source": [
    "plt.plot(attens_analyzed,MEANS,'--x')\n",
    "plt.title('QP Mean occupation')\n",
    "plt.xlabel('DA Attenuation [dBm]')"
   ]
  },
  {
   "cell_type": "markdown",
   "metadata": {},
   "source": [
    "## $P_O, P_1, P_2$  wrt DA Power"
   ]
  },
  {
   "cell_type": "code",
   "execution_count": 39,
   "metadata": {
    "ExecuteTime": {
     "end_time": "2022-10-03T23:21:14.252588Z",
     "start_time": "2022-10-03T23:21:14.027191Z"
    }
   },
   "outputs": [
    {
     "data": {
      "text/plain": [
       "<matplotlib.legend.Legend at 0x179a6b7e280>"
      ]
     },
     "execution_count": 39,
     "metadata": {},
     "output_type": "execute_result"
    },
    {
     "data": {
      "image/png": "[encoded data removed]",
      "text/plain": [
       "<Figure size 640x480 with 1 Axes>"
      ]
     },
     "metadata": {},
     "output_type": "display_data"
    }
   ],
   "source": [
    "plt.plot(attens_analyzed,P0,label='P0')\n",
    "plt.plot(attens_analyzed,P1,label='P1')\n",
    "plt.title('Occupation Probabilities')\n",
    "plt.xlabel('DA Attenuation [dB]')\n",
    "plt.legend()"
   ]
  },
  {
   "cell_type": "markdown",
   "metadata": {},
   "source": [
    "##  $\\tau_{1,2,3}$  wrt DA Power"
   ]
  },
  {
   "cell_type": "code",
   "execution_count": null,
   "metadata": {},
   "outputs": [],
   "source": [
    "TAUS = np.array(TAUS)"
   ]
  },
  {
   "cell_type": "code",
   "execution_count": null,
   "metadata": {},
   "outputs": [],
   "source": [
    "plt.plot(attens,TAUS[:,0],label='$\\\\tau_0$')\n",
    "plt.plot(attens,TAUS[:,1],label='$\\\\tau_1$')\n",
    "plt.plot(attens,TAUS[:,2],label='$\\\\tau_2$')\n",
    "plt.title('Mode Lifetimes')\n",
    "plt.xlabel('DA Attenuation [dBm]')\n",
    "plt.legend()"
   ]
  },
  {
   "cell_type": "code",
   "execution_count": null,
   "metadata": {},
   "outputs": [],
   "source": [
    "plt.semilogy(attens,TAUS[:,0],label='$\\\\tau_0$')\n",
    "plt.semilogy(attens,TAUS[:,1],label='$\\\\tau_1$')\n",
    "plt.semilogy(attens,TAUS[:,2],label='$\\\\tau_2$')\n",
    "plt.title('Mode Lifetimes')\n",
    "plt.xlabel('DA Attenuation [dBm]')\n",
    "plt.legend()"
   ]
  },
  {
   "cell_type": "markdown",
   "metadata": {},
   "source": [
    "# How does HMM read the SNR vs power?"
   ]
  },
  {
   "cell_type": "code",
   "execution_count": null,
   "metadata": {},
   "outputs": [],
   "source": [
    "import importlib\n",
    "importlib.reload(qp)"
   ]
  },
  {
   "cell_type": "code",
   "execution_count": null,
   "metadata": {},
   "outputs": [],
   "source": [
    "SNR = []\n",
    "for M in HMM:\n",
    "    snr01 = qp.getSNRhmm(M,0,1)\n",
    "    snr12 = qp.getSNRhmm(M,1,2)\n",
    "    snr20 = qp.getSNRhmm(M,2,0)\n",
    "    SNR.append([snr01,snr12,snr20])"
   ]
  },
  {
   "cell_type": "code",
   "execution_count": null,
   "metadata": {},
   "outputs": [],
   "source": [
    "SNR = np.array(SNR)"
   ]
  },
  {
   "cell_type": "code",
   "execution_count": null,
   "metadata": {},
   "outputs": [],
   "source": [
    "plt.plot(attens,SNR[:,0],label='$SNR_{01}$')\n",
    "plt.plot(attens,SNR[:,1],label='$SNR_{12}$')\n",
    "plt.plot(attens,SNR[:,2],label='$SNR_{20}$')\n",
    "plt.title('mode snr')\n",
    "plt.xlabel('attenuation [dB]')\n",
    "plt.legend()"
   ]
  },
  {
   "cell_type": "markdown",
   "metadata": {},
   "source": [
    "# OK let's save these HMMs using pickle so we can easily inspect them again"
   ]
  },
  {
   "cell_type": "code",
   "execution_count": null,
   "metadata": {},
   "outputs": [],
   "source": [
    "import pickle"
   ]
  },
  {
   "cell_type": "code",
   "execution_count": null,
   "metadata": {},
   "outputs": [],
   "source": [
    "attens"
   ]
  },
  {
   "cell_type": "code",
   "execution_count": null,
   "metadata": {},
   "outputs": [],
   "source": [
    "project_path"
   ]
  },
  {
   "cell_type": "code",
   "execution_count": null,
   "metadata": {},
   "outputs": [],
   "source": [
    "HMM"
   ]
  },
  {
   "cell_type": "code",
   "execution_count": null,
   "metadata": {},
   "outputs": [],
   "source": [
    "for i,M in enumerate(HMM):\n",
    "    fp = r\"{}\\\\HMM_DA_{}dB.pkl\".format(project_path, attens[i])\n",
    "    path,fname = os.path.split(fp)\n",
    "    if not os.path.exists(path):\n",
    "        os.makedirs(path)\n",
    "    with open(fp,'wb') as f:\n",
    "        pickle.dump(M,f)"
   ]
  },
  {
   "cell_type": "markdown",
   "metadata": {},
   "source": [
    "# Should have saved the extracted occupation, let's rerun the sweep using the saved HMMs rather than refiting:"
   ]
  },
  {
   "cell_type": "code",
   "execution_count": null,
   "metadata": {},
   "outputs": [],
   "source": [
    "importlib.reload(qp)"
   ]
  },
  {
   "cell_type": "code",
   "execution_count": null,
   "metadata": {
    "scrolled": true
   },
   "outputs": [],
   "source": [
    "Qs = []\n",
    "lts = []\n",
    "alts = []\n",
    "for i,M in enumerate(HMM):\n",
    "    data = qp.loadAlazarData(files[i])\n",
    "    data,rate = qp.BoxcarDownsample(data, 1, 10, returnRate=True)\n",
    "    data = qp.uint16_to_mV(data)\n",
    "    logprob, Q = M.decode(data.T,algorithm='viterbi')\n",
    "    Qs.append(Q)\n",
    "    \n",
    "    time = np.arange(len(Q))/rate\n",
    "        \n",
    "    fig,ax = plt.subplots(2,1,figsize=[9,6])\n",
    "    sind = 1000\n",
    "    eind = 3000\n",
    "    # ax[0].plot(time[sind:eind],obs1[sind:eind],label='true',alpha=1,lw=8)\n",
    "    ax[0].plot(time[sind:eind],Q[sind:eind],label='HMM')\n",
    "    ax[0].legend()\n",
    "    ax[0].set_ylabel('Occupation')\n",
    "    ax[1].set_ylabel('mV')\n",
    "    ax[1].set_xlabel('Time [$\\mu$s]')\n",
    "    ax[1].plot(time[sind:eind],data[0,sind:eind],label='real')\n",
    "    ax[1].plot(time[sind:eind],data[1,sind:eind],label='imag')\n",
    "    # plt.plot(nEst[5000:5200],label='subtractMethod',alpha=0.6,ls='dashed',lw=6)\n",
    "    # plt.plot(nEstQM[5000:5200],label='QuietMethod',alpha = 0.6,ls='dotted',lw=5)\n",
    "    ax[1].legend()\n",
    "    # ax[0].set_title(f'{r.photonRO} RO | {r.pSNR:2.3f} raw pSNR | {snr01:2.3f} IQ pSNR')\n",
    "    plt.savefig(figurepath+'exampleTimeSeries_DA_{}dB.png'.format(attens[i]))\n",
    "    plt.show()\n",
    "    plt.close()\n",
    "    \n",
    "    \n",
    "    lt = qp.extractLifetimes(Q,time)\n",
    "    lts.append(lt)\n",
    "    for key in lt:\n",
    "        if len(lt[key]):\n",
    "            h = qp.fitAndPlotExpDecay(lt[key],cut=np.mean(lt[key]),bins=200)\n",
    "            plt.title(f'LT mode {key} | DA {attens[i]} dB')\n",
    "            plt.show()\n",
    "            plt.close()\n",
    "    alt = qp.extractAntiLifetimes(Q,time)\n",
    "    alts.append(alt)\n",
    "    for key in alt:\n",
    "        if len(alt[key]):\n",
    "            h = qp.fitAndPlotExpDecay(alt[key],cut=np.mean(alt[key]),bins=200)\n",
    "            plt.title(f'antiLT mode {key} | DA {attens[i]} dB')\n",
    "            plt.show()\n",
    "            plt.close()\n",
    "    print('HMM w {} dB finds {} 0 QP events'.format(attens[i],len(lt['0'])))\n",
    "    print('HMM w {} dB finds {} 1 QP events'.format(attens[i],len(lt['1'])))\n",
    "    print('HMM w {} dB finds {} 2 QP events'.format(attens[i],len(lt['2'])))"
   ]
  }
 ],
 "metadata": {
  "hide_input": false,
  "kernelspec": {
   "display_name": "Python 3",
   "language": "python",
   "name": "python3"
  },
  "language_info": {
   "codemirror_mode": {
    "name": "ipython",
    "version": 3
   },
   "file_extension": ".py",
   "mimetype": "text/x-python",
   "name": "python",
   "nbconvert_exporter": "python",
   "pygments_lexer": "ipython3",
   "version": "3.8.5"
  },
  "toc": {
   "base_numbering": 1,
   "nav_menu": {},
   "number_sections": true,
   "sideBar": true,
   "skip_h1_title": false,
   "title_cell": "Table of Contents",
   "title_sidebar": "Contents",
   "toc_cell": false,
   "toc_position": {
    "height": "calc(100% - 180px)",
    "left": "10px",
    "top": "150px",
    "width": "384px"
   },
   "toc_section_display": true,
   "toc_window_display": true
  },
  "varInspector": {
   "cols": {
    "lenName": 16,
    "lenType": 16,
    "lenVar": 40
   },
   "kernels_config": {
    "python": {
     "delete_cmd_postfix": "",
     "delete_cmd_prefix": "del ",
     "library": "var_list.py",
     "varRefreshCmd": "print(var_dic_list())"
    },
    "r": {
     "delete_cmd_postfix": ") ",
     "delete_cmd_prefix": "rm(",
     "library": "var_list.r",
     "varRefreshCmd": "cat(var_dic_list()) "
    }
   },
   "types_to_exclude": [
    "module",
    "function",
    "builtin_function_or_method",
    "instance",
    "_Feature"
   ],
   "window_display": false
  }
 },
 "nbformat": 4,
 "nbformat_minor": 4
}
