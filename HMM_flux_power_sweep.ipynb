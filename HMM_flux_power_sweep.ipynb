{
 "cells": [
  {
   "cell_type": "markdown",
   "metadata": {
    "toc": true
   },
   "source": [
    "<h1>Table of Contents<span class=\"tocSkip\"></span></h1>\n",
    "<div class=\"toc\"><ul class=\"toc-item\"><li><span><a href=\"#HMM-Analysis-for-Flux-&amp;-Power-Sweep-Data\" data-toc-modified-id=\"HMM-Analysis-for-Flux-&amp;-Power-Sweep-Data-1\"><span class=\"toc-item-num\">1&nbsp;&nbsp;</span>HMM Analysis for Flux &amp; Power Sweep Data</a></span><ul class=\"toc-item\"><li><span><a href=\"#Script\" data-toc-modified-id=\"Script-1.1\"><span class=\"toc-item-num\">1.1&nbsp;&nbsp;</span>Script</a></span></li><li><span><a href=\"#Testing\" data-toc-modified-id=\"Testing-1.2\"><span class=\"toc-item-num\">1.2&nbsp;&nbsp;</span>Testing</a></span></li></ul></li></ul></div>"
   ]
  },
  {
   "cell_type": "markdown",
   "metadata": {},
   "source": [
    "# HMM Analysis for Flux & Power Sweep Data"
   ]
  },
  {
   "cell_type": "markdown",
   "metadata": {},
   "source": [
    "`project_path` should be the root folder of where all the Alazar data is stored "
   ]
  },
  {
   "cell_type": "markdown",
   "metadata": {},
   "source": [
    "## Script\n",
    "\n",
    "**To Do:**\n",
    "\n",
    "- [x] `attenuation.json` only checked once\n",
    "- [x] handling of `metadata.json`\n",
    "- [x] naming, creation and storing of post-HMM `hdf5` file"
   ]
  },
  {
   "cell_type": "code",
   "execution_count": null,
   "metadata": {
    "ExecuteTime": {
     "start_time": "2022-10-12T22:01:13.249Z"
    }
   },
   "outputs": [
    {
     "name": "stdout",
     "output_type": "stream",
     "text": [
      "Please ensure the attenuation.json file is accurate.\n",
      "Please ensure the static experimental parameters of the metadata.json file is accurate.\n",
      "\n",
      "\n",
      "Creating figure paths.....\n",
      "Reading and sorting data files.....\n",
      "Reading and updating the metadata.....\n",
      "Data loaded without creating IQ downsampled plots....\n",
      "MetaData: \n",
      "\n",
      "\n",
      "dateOfMeasurement = 20221005\n",
      "eccosorb = True\n",
      "KandL = True\n",
      "rigidCables = True\n",
      "JPA = True\n",
      "TWPA = True\n",
      "ClearingCoupler = False\n",
      "Device_id = NBR07\n",
      "f0 = 4.2727\n",
      "Temp = 30.0\n",
      "sampleRateMHz = 10\n",
      "durationSeconds = 5\n",
      "LOf = 4.2609963736288305\n",
      "phi = 0.5\n",
      "Please ensure the attenuation.json file is accurate.\n",
      "Please ensure the static experimental parameters of the metadata.json file is accurate.\n",
      "\n",
      "\n",
      "Creating figure paths.....\n",
      "Reading and sorting data files.....\n",
      "Reading and updating the metadata.....\n",
      "Data loaded without creating IQ downsampled plots....\n",
      "MetaData: \n",
      "\n",
      "\n",
      "dateOfMeasurement = 20221005\n",
      "eccosorb = True\n",
      "KandL = True\n",
      "rigidCables = True\n",
      "JPA = True\n",
      "TWPA = True\n",
      "ClearingCoupler = False\n",
      "Device_id = NBR07\n",
      "f0 = 4.2727\n",
      "Temp = 30.0\n",
      "sampleRateMHz = 10\n",
      "durationSeconds = 5\n",
      "LOf = 4.2672893239699174\n",
      "phi = 0.48\n",
      "Please ensure the attenuation.json file is accurate.\n",
      "Please ensure the static experimental parameters of the metadata.json file is accurate.\n",
      "\n",
      "\n",
      "Creating figure paths.....\n",
      "Reading and sorting data files.....\n",
      "Reading and updating the metadata.....\n",
      "Data loaded without creating IQ downsampled plots....\n",
      "MetaData: \n",
      "\n",
      "\n",
      "dateOfMeasurement = 20221005\n",
      "eccosorb = True\n",
      "KandL = True\n",
      "rigidCables = True\n",
      "JPA = True\n",
      "TWPA = True\n",
      "ClearingCoupler = False\n",
      "Device_id = NBR07\n",
      "f0 = 4.2727\n",
      "Temp = 30.0\n",
      "sampleRateMHz = 10\n",
      "durationSeconds = 5\n",
      "LOf = 4.27233232479391\n",
      "phi = 0.45999999999999996\n",
      "Please ensure the attenuation.json file is accurate.\n",
      "Please ensure the static experimental parameters of the metadata.json file is accurate.\n",
      "\n",
      "\n",
      "Creating figure paths.....\n",
      "Reading and sorting data files.....\n",
      "Reading and updating the metadata.....\n",
      "Data loaded without creating IQ downsampled plots....\n",
      "MetaData: \n",
      "\n",
      "\n",
      "dateOfMeasurement = 20221005\n",
      "eccosorb = True\n",
      "KandL = True\n",
      "rigidCables = True\n",
      "JPA = True\n",
      "TWPA = True\n",
      "ClearingCoupler = False\n",
      "Device_id = NBR07\n",
      "f0 = 4.2727\n",
      "Temp = 30.0\n",
      "sampleRateMHz = 10\n",
      "durationSeconds = 5\n",
      "LOf = 4.276260157912089\n",
      "phi = 0.43999999999999995\n",
      "Please ensure the attenuation.json file is accurate.\n",
      "Please ensure the static experimental parameters of the metadata.json file is accurate.\n",
      "\n",
      "\n",
      "Creating figure paths.....\n",
      "Reading and sorting data files.....\n",
      "Reading and updating the metadata.....\n",
      "Data loaded without creating IQ downsampled plots....\n",
      "MetaData: \n",
      "\n",
      "\n",
      "dateOfMeasurement = 20221005\n",
      "eccosorb = True\n",
      "KandL = True\n",
      "rigidCables = True\n",
      "JPA = True\n",
      "TWPA = True\n",
      "ClearingCoupler = False\n",
      "Device_id = NBR07\n",
      "f0 = 4.2727\n",
      "Temp = 30.0\n",
      "sampleRateMHz = 10\n",
      "durationSeconds = 5\n",
      "LOf = 4.279618527573976\n",
      "phi = 0.41999999999999993\n",
      "Please ensure the attenuation.json file is accurate.\n",
      "Please ensure the static experimental parameters of the metadata.json file is accurate.\n",
      "\n",
      "\n",
      "Creating figure paths.....\n",
      "Reading and sorting data files.....\n"
     ]
    }
   ],
   "source": [
    "from AlazarPowerSweepData import *\n",
    "%matplotlib qt\n",
    "\n",
    "project_path = r\"G:\\Shared drives\\Quasiparticles_2\\NBR07_Oct2022\\NBR07_AutoTune_Power-FluxSweep_10_7_2022\"\n",
    "flux_sweeps = get_all_project_folders(project_path)\n",
    "createPdf = False\n",
    "intTime=1\n",
    "SNRmin=3\n",
    "interactive = False\n",
    "\n",
    "\n",
    "for power_sweeps in flux_sweeps:\n",
    "    power_sweep_obj = AlazarPowerSweepData(power_sweeps,interactive)\n",
    "    power_sweep_obj.process_Alazar_Data(avgTime=2,plots=createPdf)\n",
    "    power_sweep_obj.set_metadata()\n",
    "   # power_sweep_obj.start_HMM_fit(intTime=intTime, SNRmin= SNRmin)"
   ]
  },
  {
   "cell_type": "code",
   "execution_count": null,
   "metadata": {},
   "outputs": [],
   "source": []
  },
  {
   "cell_type": "markdown",
   "metadata": {},
   "source": [
    "## Testing"
   ]
  },
  {
   "cell_type": "code",
   "execution_count": null,
   "metadata": {
    "ExecuteTime": {
     "end_time": "2022-10-12T18:14:05.143618Z",
     "start_time": "2022-10-12T18:14:03.828036Z"
    }
   },
   "outputs": [],
   "source": [
    "from AlazarPowerSweepData import *\n",
    "%matplotlib qt\n",
    "\n",
    "project_path = r\"G:\\Shared drives\\Quasiparticles_2\\NBR07_Oct2022\\NBR07_AutoTune_Power-FluxSweep_10_7_2022\""
   ]
  },
  {
   "cell_type": "code",
   "execution_count": null,
   "metadata": {
    "ExecuteTime": {
     "end_time": "2022-10-12T18:14:05.223549Z",
     "start_time": "2022-10-12T18:14:05.209582Z"
    }
   },
   "outputs": [],
   "source": [
    "flux_sweeps = get_all_project_folders(project_path)\n",
    "flux_sweeps"
   ]
  },
  {
   "cell_type": "code",
   "execution_count": null,
   "metadata": {
    "ExecuteTime": {
     "end_time": "2022-10-12T18:14:06.096082Z",
     "start_time": "2022-10-12T18:14:06.049059Z"
    }
   },
   "outputs": [],
   "source": [
    "power_sweep_obj = AlazarPowerSweepData(flux_sweeps[0])"
   ]
  },
  {
   "cell_type": "code",
   "execution_count": null,
   "metadata": {
    "ExecuteTime": {
     "end_time": "2022-10-12T18:16:15.537893Z",
     "start_time": "2022-10-12T18:14:07.953071Z"
    }
   },
   "outputs": [],
   "source": [
    "createPdf = True\n",
    "\n",
    "power_sweep_obj.process_Alazar_Data(avgTime=2,plots=createPdf)"
   ]
  },
  {
   "cell_type": "markdown",
   "metadata": {},
   "source": [
    "`intTime` is the starting integration time provied to the HMM fits.\n",
    "`SNRmin` is the minimum SNR cut off constraint to the HMM program."
   ]
  },
  {
   "cell_type": "code",
   "execution_count": null,
   "metadata": {
    "ExecuteTime": {
     "end_time": "2022-10-12T20:48:58.754349Z",
     "start_time": "2022-10-12T20:48:58.741384Z"
    }
   },
   "outputs": [],
   "source": [
    "power_sweep_obj.files"
   ]
  },
  {
   "cell_type": "code",
   "execution_count": null,
   "metadata": {
    "ExecuteTime": {
     "end_time": "2022-10-12T17:16:59.882615Z",
     "start_time": "2022-10-12T17:13:53.319482Z"
    }
   },
   "outputs": [],
   "source": [
    "intTime=1\n",
    "SNRmin=3\n",
    "\n",
    "power_sweep_obj.start_HMM_fit(intTime=intTime, SNRmin= SNRmin)"
   ]
  }
 ],
 "metadata": {
  "hide_input": false,
  "kernelspec": {
   "display_name": "Python 3",
   "language": "python",
   "name": "python3"
  },
  "language_info": {
   "codemirror_mode": {
    "name": "ipython",
    "version": 3
   },
   "file_extension": ".py",
   "mimetype": "text/x-python",
   "name": "python",
   "nbconvert_exporter": "python",
   "pygments_lexer": "ipython3",
   "version": "3.8.5"
  },
  "latex_envs": {
   "LaTeX_envs_menu_present": true,
   "autoclose": false,
   "autocomplete": true,
   "bibliofile": "biblio.bib",
   "cite_by": "apalike",
   "current_citInitial": 1,
   "eqLabelWithNumbers": true,
   "eqNumInitial": 1,
   "hotkeys": {
    "equation": "Ctrl-E",
    "itemize": "Ctrl-I"
   },
   "labels_anchors": false,
   "latex_user_defs": false,
   "report_style_numbering": false,
   "user_envs_cfg": false
  },
  "toc": {
   "base_numbering": 1,
   "nav_menu": {},
   "number_sections": true,
   "sideBar": true,
   "skip_h1_title": false,
   "title_cell": "Table of Contents",
   "title_sidebar": "Contents",
   "toc_cell": true,
   "toc_position": {
    "height": "calc(100% - 180px)",
    "left": "10px",
    "top": "150px",
    "width": "349.091px"
   },
   "toc_section_display": true,
   "toc_window_display": false
  },
  "varInspector": {
   "cols": {
    "lenName": 16,
    "lenType": 16,
    "lenVar": 40
   },
   "kernels_config": {
    "python": {
     "delete_cmd_postfix": "",
     "delete_cmd_prefix": "del ",
     "library": "var_list.py",
     "varRefreshCmd": "print(var_dic_list())"
    },
    "r": {
     "delete_cmd_postfix": ") ",
     "delete_cmd_prefix": "rm(",
     "library": "var_list.r",
     "varRefreshCmd": "cat(var_dic_list()) "
    }
   },
   "types_to_exclude": [
    "module",
    "function",
    "builtin_function_or_method",
    "instance",
    "_Feature"
   ],
   "window_display": false
  }
 },
 "nbformat": 4,
 "nbformat_minor": 5
}
