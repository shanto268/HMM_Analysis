{
 "cells": [
  {
   "cell_type": "markdown",
   "metadata": {
    "toc": true
   },
   "source": [
    "<h1>Table of Contents<span class=\"tocSkip\"></span></h1>\n",
    "<div class=\"toc\"><ul class=\"toc-item\"><li><span><a href=\"#HMM-Analysis-for-Flux-&amp;-Power-Sweep-Data\" data-toc-modified-id=\"HMM-Analysis-for-Flux-&amp;-Power-Sweep-Data-1\"><span class=\"toc-item-num\">1&nbsp;&nbsp;</span>HMM Analysis for Flux &amp; Power Sweep Data</a></span></li></ul></div>"
   ]
  },
  {
   "cell_type": "markdown",
   "metadata": {},
   "source": [
    "# HMM Analysis for Flux & Power Sweep Data"
   ]
  },
  {
   "cell_type": "markdown",
   "metadata": {},
   "source": [
    "`project_path` should be the root folder of where all the Alazar data is stored \n",
    "\n",
    "`flux_sweeps` is the directory of power sweep data for each flux\n"
   ]
  },
  {
   "cell_type": "code",
   "execution_count": null,
   "metadata": {
    "ExecuteTime": {
     "end_time": "2022-10-13T18:35:57.855488Z",
     "start_time": "2022-10-13T18:35:56.599680Z"
    }
   },
   "outputs": [],
   "source": [
    "from AlazarPowerSweepData import *\n",
    "\n",
    "project_path = r\"G:\\Shared drives\\Quasiparticles_2\\NBR07_Oct2022\\NBR07_AutoTune_Power-FluxSweep_10_7_2022\"\n",
    "flux_sweeps = get_all_project_folders(project_path)"
   ]
  },
  {
   "cell_type": "markdown",
   "metadata": {},
   "source": [
    "`interactive` is a `Boolean` parameter. Set to `True` to enable manual safety checks and `False` for more automated performance.\n",
    "\n",
    "`createPdf` takes value `True` or `False`. Set to `True` if you want to visually see the downsampled IQ plots (determined by `avgTime`) to determine the **attenuation** below which the system goes non-linear. Set to `False` if the attenuation is known.\n",
    "\n",
    "`intTime` is the starting integration time provied to the HMM fits.\n",
    "\n",
    "`SNRmin` is the minimum SNR cut off constraint to the HMM program.\n",
    "\n",
    "`target_device_power` is the power we want to grab the means at.\n",
    "\n",
    "`numModes` is the number of modes we want to fit"
   ]
  },
  {
   "cell_type": "code",
   "execution_count": null,
   "metadata": {
    "ExecuteTime": {
     "end_time": "2022-10-13T18:35:58.092447Z",
     "start_time": "2022-10-13T18:35:58.078484Z"
    }
   },
   "outputs": [],
   "source": [
    "interactive = False\n",
    "createPdf = False\n",
    "intTime=1\n",
    "SNRmin=3\n",
    "avgTime = 2\n",
    "target_device_power = -127\n",
    "numModes = 2"
   ]
  },
  {
   "cell_type": "markdown",
   "metadata": {},
   "source": [
    "We want to grab the `means` since we are going for a more automated approach (i.e. `interactive=False`). This creates a `.pkl` file from which the program sources the guessed means from during runtime.\n"
   ]
  },
  {
   "cell_type": "code",
   "execution_count": null,
   "metadata": {
    "ExecuteTime": {
     "end_time": "2022-10-13T18:38:08.489157Z",
     "start_time": "2022-10-13T18:36:03.126996Z"
    }
   },
   "outputs": [],
   "source": [
    "set_all_initial_QP_means(project_path, target_device_power, numModes, avgTime)"
   ]
  },
  {
   "cell_type": "markdown",
   "metadata": {},
   "source": [
    "Now, we want to start the HMM analysis."
   ]
  },
  {
   "cell_type": "code",
   "execution_count": null,
   "metadata": {},
   "outputs": [],
   "source": [
    "for power_sweeps in flux_sweeps:\n",
    "    power_sweep_obj = AlazarPowerSweepData(power_sweeps,interactive)\n",
    "    power_sweep_obj.process_Alazar_Data(avgTime=2,plots=createPdf)\n",
    "    power_sweep_obj.start_HMM_fit(intTime=intTime, SNRmin= SNRmin, targetPower = target_device_power, numModes = numModes)"
   ]
  }
 ],
 "metadata": {
  "hide_input": false,
  "kernelspec": {
   "display_name": "Python 3",
   "language": "python",
   "name": "python3"
  },
  "language_info": {
   "codemirror_mode": {
    "name": "ipython",
    "version": 3
   },
   "file_extension": ".py",
   "mimetype": "text/x-python",
   "name": "python",
   "nbconvert_exporter": "python",
   "pygments_lexer": "ipython3",
   "version": "3.8.5"
  },
  "latex_envs": {
   "LaTeX_envs_menu_present": true,
   "autoclose": false,
   "autocomplete": true,
   "bibliofile": "biblio.bib",
   "cite_by": "apalike",
   "current_citInitial": 1,
   "eqLabelWithNumbers": true,
   "eqNumInitial": 1,
   "hotkeys": {
    "equation": "Ctrl-E",
    "itemize": "Ctrl-I"
   },
   "labels_anchors": false,
   "latex_user_defs": false,
   "report_style_numbering": false,
   "user_envs_cfg": false
  },
  "toc": {
   "base_numbering": 1,
   "nav_menu": {},
   "number_sections": true,
   "sideBar": true,
   "skip_h1_title": false,
   "title_cell": "Table of Contents",
   "title_sidebar": "Contents",
   "toc_cell": true,
   "toc_position": {
    "height": "calc(100% - 180px)",
    "left": "10px",
    "top": "150px",
    "width": "349.091px"
   },
   "toc_section_display": true,
   "toc_window_display": true
  },
  "varInspector": {
   "cols": {
    "lenName": 16,
    "lenType": 16,
    "lenVar": 40
   },
   "kernels_config": {
    "python": {
     "delete_cmd_postfix": "",
     "delete_cmd_prefix": "del ",
     "library": "var_list.py",
     "varRefreshCmd": "print(var_dic_list())"
    },
    "r": {
     "delete_cmd_postfix": ") ",
     "delete_cmd_prefix": "rm(",
     "library": "var_list.r",
     "varRefreshCmd": "cat(var_dic_list()) "
    }
   },
   "position": {
    "height": "368.835px",
    "left": "1251.45px",
    "right": "20px",
    "top": "107px",
    "width": "456.009px"
   },
   "types_to_exclude": [
    "module",
    "function",
    "builtin_function_or_method",
    "instance",
    "_Feature"
   ],
   "window_display": false
  }
 },
 "nbformat": 4,
 "nbformat_minor": 5
}
