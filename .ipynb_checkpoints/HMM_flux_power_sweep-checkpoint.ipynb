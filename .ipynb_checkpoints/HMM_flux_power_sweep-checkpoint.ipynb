{
 "cells": [
  {
   "cell_type": "markdown",
   "metadata": {
    "toc": true
   },
   "source": [
    "<h1>Table of Contents<span class=\"tocSkip\"></span></h1>\n",
    "<div class=\"toc\"><ul class=\"toc-item\"><li><span><a href=\"#HMM-Analysis-for-Flux-&amp;-Power-Sweep-Data\" data-toc-modified-id=\"HMM-Analysis-for-Flux-&amp;-Power-Sweep-Data-1\"><span class=\"toc-item-num\">1&nbsp;&nbsp;</span>HMM Analysis for Flux &amp; Power Sweep Data</a></span></li></ul></div>"
   ]
  },
  {
   "cell_type": "markdown",
   "metadata": {},
   "source": [
    "# HMM Analysis for Flux & Power Sweep Data"
   ]
  },
  {
   "cell_type": "markdown",
   "metadata": {},
   "source": [
    "`project_path` should be the root folder of where all the Alazar data is stored "
   ]
  },
  {
   "cell_type": "code",
   "execution_count": 1,
   "metadata": {
    "ExecuteTime": {
     "end_time": "2022-10-12T17:39:35.314906Z",
     "start_time": "2022-10-12T17:39:33.943973Z"
    }
   },
   "outputs": [],
   "source": [
    "from AlazarPowerSweepData import *\n",
    "%matplotlib qt\n",
    "\n",
    "project_path = r\"G:\\Shared drives\\Quasiparticles_2\\NBR07_Oct2022\\NBR07_AutoTune_Power-FluxSweep_10_7_2022\""
   ]
  },
  {
   "cell_type": "code",
   "execution_count": 2,
   "metadata": {
    "ExecuteTime": {
     "end_time": "2022-10-12T17:39:35.803691Z",
     "start_time": "2022-10-12T17:39:35.783743Z"
    }
   },
   "outputs": [
    {
     "data": {
      "text/plain": [
       "['G:\\\\Shared drives\\\\Quasiparticles_2\\\\NBR07_Oct2022\\\\NBR07_AutoTune_Power-FluxSweep_10_7_2022\\\\500flux',\n",
       " 'G:\\\\Shared drives\\\\Quasiparticles_2\\\\NBR07_Oct2022\\\\NBR07_AutoTune_Power-FluxSweep_10_7_2022\\\\480flux',\n",
       " 'G:\\\\Shared drives\\\\Quasiparticles_2\\\\NBR07_Oct2022\\\\NBR07_AutoTune_Power-FluxSweep_10_7_2022\\\\460flux',\n",
       " 'G:\\\\Shared drives\\\\Quasiparticles_2\\\\NBR07_Oct2022\\\\NBR07_AutoTune_Power-FluxSweep_10_7_2022\\\\440flux',\n",
       " 'G:\\\\Shared drives\\\\Quasiparticles_2\\\\NBR07_Oct2022\\\\NBR07_AutoTune_Power-FluxSweep_10_7_2022\\\\420flux',\n",
       " 'G:\\\\Shared drives\\\\Quasiparticles_2\\\\NBR07_Oct2022\\\\NBR07_AutoTune_Power-FluxSweep_10_7_2022\\\\400flux',\n",
       " 'G:\\\\Shared drives\\\\Quasiparticles_2\\\\NBR07_Oct2022\\\\NBR07_AutoTune_Power-FluxSweep_10_7_2022\\\\380flux',\n",
       " 'G:\\\\Shared drives\\\\Quasiparticles_2\\\\NBR07_Oct2022\\\\NBR07_AutoTune_Power-FluxSweep_10_7_2022\\\\360flux',\n",
       " 'G:\\\\Shared drives\\\\Quasiparticles_2\\\\NBR07_Oct2022\\\\NBR07_AutoTune_Power-FluxSweep_10_7_2022\\\\340flux',\n",
       " 'G:\\\\Shared drives\\\\Quasiparticles_2\\\\NBR07_Oct2022\\\\NBR07_AutoTune_Power-FluxSweep_10_7_2022\\\\320flux']"
      ]
     },
     "execution_count": 2,
     "metadata": {},
     "output_type": "execute_result"
    }
   ],
   "source": [
    "data_folders = get_all_project_folders(project_path)\n",
    "data_folders"
   ]
  },
  {
   "cell_type": "code",
   "execution_count": 3,
   "metadata": {
    "ExecuteTime": {
     "end_time": "2022-10-12T17:39:36.582607Z",
     "start_time": "2022-10-12T17:39:36.536730Z"
    }
   },
   "outputs": [],
   "source": [
    "power_sweep_obj = AlazarPowerSweepData(data_folders[0])"
   ]
  },
  {
   "cell_type": "code",
   "execution_count": 7,
   "metadata": {
    "ExecuteTime": {
     "end_time": "2022-10-12T17:45:18.168991Z",
     "start_time": "2022-10-12T17:45:18.161012Z"
    }
   },
   "outputs": [],
   "source": [
    "def convert_to_json(file):\n",
    "  #  for file in files:\n",
    "    file = file.replace(\".bin\",\".txt\") \n",
    "    dict1 = {}\n",
    "\n",
    "    with open(file) as fh:\n",
    "        for line in fh:\n",
    "            try:\n",
    "                command, description = line.strip().split(\":\")\n",
    "                command = command.replace(\" \",\"_\")\n",
    "                value = description.strip().split(\" \")[0]\n",
    "                dict1[command] = value\n",
    "            except:\n",
    "                pass\n",
    "    \n",
    "    file_name = file.replace(\".txt\",\".json\") \n",
    "    out_file = open(file_name, \"w\")\n",
    "    json.dump(dict1, out_file, indent = 4, sort_keys = False)\n",
    "    out_file.close()"
   ]
  },
  {
   "cell_type": "code",
   "execution_count": 39,
   "metadata": {
    "ExecuteTime": {
     "end_time": "2022-10-12T17:59:49.220141Z",
     "start_time": "2022-10-12T17:59:49.209171Z"
    }
   },
   "outputs": [],
   "source": [
    "test = r\"G:\\\\Shared drives\\\\Quasiparticles_2\\\\NBR07_Oct2022\\\\NBR07_AutoTune_Power-FluxSweep_10_7_2022\\\\500flux\\\\DA 0_SR10MHz\\\\NBR07_20221007_131714.bin\""
   ]
  },
  {
   "cell_type": "code",
   "execution_count": 45,
   "metadata": {
    "ExecuteTime": {
     "end_time": "2022-10-12T18:00:34.631475Z",
     "start_time": "2022-10-12T18:00:34.610532Z"
    }
   },
   "outputs": [
    {
     "data": {
      "text/plain": [
       "'G:\\\\\\\\Shared drives\\\\\\\\Quasiparticles_2\\\\\\\\NBR07_Oct2022\\\\\\\\NBR07_AutoTune_Power-FluxSweep_10_7_2022\\\\\\\\500flux\\\\\\\\DA 0_SR10MHz\\\\\\\\NBR07_20221007_131714'"
      ]
     },
     "execution_count": 45,
     "metadata": {},
     "output_type": "execute_result"
    }
   ],
   "source": [
    "test.split(\".\")[0]"
   ]
  },
  {
   "cell_type": "code",
   "execution_count": 8,
   "metadata": {
    "ExecuteTime": {
     "end_time": "2022-10-12T17:45:41.444068Z",
     "start_time": "2022-10-12T17:45:41.009077Z"
    }
   },
   "outputs": [],
   "source": [
    "convert_to_json(power_sweep_obj.files[0])"
   ]
  },
  {
   "cell_type": "code",
   "execution_count": 5,
   "metadata": {
    "ExecuteTime": {
     "end_time": "2022-10-12T17:39:42.212808Z",
     "start_time": "2022-10-12T17:39:41.825844Z"
    }
   },
   "outputs": [
    {
     "name": "stdout",
     "output_type": "stream",
     "text": [
      "Creating figure paths.....\n",
      "Reading and sorting data files.....\n"
     ]
    },
    {
     "ename": "FileNotFoundError",
     "evalue": "[Errno 2] No such file or directory: 'G:\\\\Shared drives\\\\Quasiparticles_2\\\\NBR07_Oct2022\\\\NBR07_AutoTune_Power-FluxSweep_10_7_2022\\\\500flux\\\\DA 0_SR10MHz\\\\NBR07_20221007_131714.json'",
     "output_type": "error",
     "traceback": [
      "\u001b[1;31m---------------------------------------------------------------------------\u001b[0m",
      "\u001b[1;31mFileNotFoundError\u001b[0m                         Traceback (most recent call last)",
      "\u001b[1;32m<ipython-input-5-e07a6a1f01d7>\u001b[0m in \u001b[0;36m<module>\u001b[1;34m\u001b[0m\n\u001b[0;32m      1\u001b[0m \u001b[0mcreatePdf\u001b[0m \u001b[1;33m=\u001b[0m \u001b[1;32mTrue\u001b[0m\u001b[1;33m\u001b[0m\u001b[1;33m\u001b[0m\u001b[0m\n\u001b[0;32m      2\u001b[0m \u001b[1;33m\u001b[0m\u001b[0m\n\u001b[1;32m----> 3\u001b[1;33m \u001b[0mpower_sweep_obj\u001b[0m\u001b[1;33m.\u001b[0m\u001b[0mprocess_Alazar_Data\u001b[0m\u001b[1;33m(\u001b[0m\u001b[0mavgTime\u001b[0m\u001b[1;33m=\u001b[0m\u001b[1;36m2\u001b[0m\u001b[1;33m,\u001b[0m\u001b[0mplots\u001b[0m\u001b[1;33m=\u001b[0m\u001b[0mcreatePdf\u001b[0m\u001b[1;33m)\u001b[0m\u001b[1;33m\u001b[0m\u001b[1;33m\u001b[0m\u001b[0m\n\u001b[0m",
      "\u001b[1;32m~\\lflPython-github\\MeasurementScripts\\Quasiparticles\\HMM_Analysis\\AlazarPowerSweepData.py\u001b[0m in \u001b[0;36mprocess_Alazar_Data\u001b[1;34m(self, avgTime, plots)\u001b[0m\n\u001b[0;32m    111\u001b[0m         \u001b[0mself\u001b[0m\u001b[1;33m.\u001b[0m\u001b[0mfiles\u001b[0m\u001b[1;33m,\u001b[0m \u001b[0mself\u001b[0m\u001b[1;33m.\u001b[0m\u001b[0mattens\u001b[0m \u001b[1;33m=\u001b[0m \u001b[0msort_files_ascending_attenuation\u001b[0m\u001b[1;33m(\u001b[0m\u001b[0mself\u001b[0m\u001b[1;33m.\u001b[0m\u001b[0mfiles\u001b[0m\u001b[1;33m)\u001b[0m\u001b[1;33m\u001b[0m\u001b[1;33m\u001b[0m\u001b[0m\n\u001b[0;32m    112\u001b[0m         \u001b[0mset_plot_style\u001b[0m\u001b[1;33m(\u001b[0m\u001b[1;33m)\u001b[0m\u001b[1;33m\u001b[0m\u001b[1;33m\u001b[0m\u001b[0m\n\u001b[1;32m--> 113\u001b[1;33m         \u001b[0mself\u001b[0m\u001b[1;33m.\u001b[0m\u001b[0msampleRateFromData\u001b[0m \u001b[1;33m=\u001b[0m \u001b[0mget_sample_rate_from_run\u001b[0m\u001b[1;33m(\u001b[0m\u001b[0mself\u001b[0m\u001b[1;33m.\u001b[0m\u001b[0mfiles\u001b[0m\u001b[1;33m[\u001b[0m\u001b[1;36m0\u001b[0m\u001b[1;33m]\u001b[0m\u001b[1;33m)\u001b[0m\u001b[1;33m\u001b[0m\u001b[1;33m\u001b[0m\u001b[0m\n\u001b[0m\u001b[0;32m    114\u001b[0m \u001b[1;33m\u001b[0m\u001b[0m\n\u001b[0;32m    115\u001b[0m         \u001b[1;32mif\u001b[0m \u001b[0mplots\u001b[0m\u001b[1;33m:\u001b[0m\u001b[1;33m\u001b[0m\u001b[1;33m\u001b[0m\u001b[0m\n",
      "\u001b[1;32m~\\lflPython-github\\MeasurementScripts\\Quasiparticles\\HMM_Analysis\\HMM_helper_functions.py\u001b[0m in \u001b[0;36mget_sample_rate_from_run\u001b[1;34m(file)\u001b[0m\n\u001b[0;32m     28\u001b[0m \u001b[1;32mdef\u001b[0m \u001b[0mget_sample_rate_from_run\u001b[0m\u001b[1;33m(\u001b[0m\u001b[0mfile\u001b[0m\u001b[1;33m)\u001b[0m\u001b[1;33m:\u001b[0m\u001b[1;33m\u001b[0m\u001b[1;33m\u001b[0m\u001b[0m\n\u001b[0;32m     29\u001b[0m     \u001b[0mfile\u001b[0m \u001b[1;33m=\u001b[0m \u001b[0mfile\u001b[0m\u001b[1;33m.\u001b[0m\u001b[0msplit\u001b[0m\u001b[1;33m(\u001b[0m\u001b[1;34m\".\"\u001b[0m\u001b[1;33m)\u001b[0m\u001b[1;33m[\u001b[0m\u001b[1;36m0\u001b[0m\u001b[1;33m]\u001b[0m \u001b[1;33m+\u001b[0m \u001b[1;34m\".json\"\u001b[0m\u001b[1;33m\u001b[0m\u001b[1;33m\u001b[0m\u001b[0m\n\u001b[1;32m---> 30\u001b[1;33m     \u001b[1;32mreturn\u001b[0m \u001b[0mint\u001b[0m\u001b[1;33m(\u001b[0m\u001b[0mjson\u001b[0m\u001b[1;33m.\u001b[0m\u001b[0mload\u001b[0m\u001b[1;33m(\u001b[0m\u001b[0mopen\u001b[0m\u001b[1;33m(\u001b[0m\u001b[0mfile\u001b[0m\u001b[1;33m)\u001b[0m\u001b[1;33m)\u001b[0m\u001b[1;33m[\u001b[0m\u001b[1;34m\"sample_rate_MHz\"\u001b[0m\u001b[1;33m]\u001b[0m\u001b[1;33m)\u001b[0m\u001b[1;33m\u001b[0m\u001b[1;33m\u001b[0m\u001b[0m\n\u001b[0m\u001b[0;32m     31\u001b[0m \u001b[1;33m\u001b[0m\u001b[0m\n\u001b[0;32m     32\u001b[0m \u001b[1;32mdef\u001b[0m \u001b[0mcreate_HMM_QP_statistics_plots\u001b[0m\u001b[1;33m(\u001b[0m\u001b[0mhdf5_file\u001b[0m\u001b[1;33m)\u001b[0m\u001b[1;33m:\u001b[0m\u001b[1;33m\u001b[0m\u001b[1;33m\u001b[0m\u001b[0m\n",
      "\u001b[1;31mFileNotFoundError\u001b[0m: [Errno 2] No such file or directory: 'G:\\\\Shared drives\\\\Quasiparticles_2\\\\NBR07_Oct2022\\\\NBR07_AutoTune_Power-FluxSweep_10_7_2022\\\\500flux\\\\DA 0_SR10MHz\\\\NBR07_20221007_131714.json'"
     ]
    }
   ],
   "source": [
    "createPdf = True\n",
    "\n",
    "power_sweep_obj.process_Alazar_Data(avgTime=2,plots=createPdf)"
   ]
  },
  {
   "cell_type": "markdown",
   "metadata": {},
   "source": [
    "`intTime` is the starting integration time provied to the HMM fits.\n",
    "`SNRmin` is the minimum SNR cut off constraint to the HMM program."
   ]
  },
  {
   "cell_type": "code",
   "execution_count": null,
   "metadata": {
    "ExecuteTime": {
     "end_time": "2022-10-12T17:16:59.882615Z",
     "start_time": "2022-10-12T17:13:53.319482Z"
    }
   },
   "outputs": [],
   "source": [
    "intTime=1\n",
    "SNRmin=3\n",
    "\n",
    "power_sweep_obj.start_HMM_fit(intTime=intTime, SNRmin= SNRmin)"
   ]
  }
 ],
 "metadata": {
  "hide_input": false,
  "kernelspec": {
   "display_name": "Python 3",
   "language": "python",
   "name": "python3"
  },
  "language_info": {
   "codemirror_mode": {
    "name": "ipython",
    "version": 3
   },
   "file_extension": ".py",
   "mimetype": "text/x-python",
   "name": "python",
   "nbconvert_exporter": "python",
   "pygments_lexer": "ipython3",
   "version": "3.8.5"
  },
  "latex_envs": {
   "LaTeX_envs_menu_present": true,
   "autoclose": false,
   "autocomplete": true,
   "bibliofile": "biblio.bib",
   "cite_by": "apalike",
   "current_citInitial": 1,
   "eqLabelWithNumbers": true,
   "eqNumInitial": 1,
   "hotkeys": {
    "equation": "Ctrl-E",
    "itemize": "Ctrl-I"
   },
   "labels_anchors": false,
   "latex_user_defs": false,
   "report_style_numbering": false,
   "user_envs_cfg": false
  },
  "toc": {
   "base_numbering": 1,
   "nav_menu": {},
   "number_sections": true,
   "sideBar": true,
   "skip_h1_title": false,
   "title_cell": "Table of Contents",
   "title_sidebar": "Contents",
   "toc_cell": true,
   "toc_position": {
    "height": "calc(100% - 180px)",
    "left": "10px",
    "top": "150px",
    "width": "349.091px"
   },
   "toc_section_display": true,
   "toc_window_display": false
  },
  "varInspector": {
   "cols": {
    "lenName": 16,
    "lenType": 16,
    "lenVar": 40
   },
   "kernels_config": {
    "python": {
     "delete_cmd_postfix": "",
     "delete_cmd_prefix": "del ",
     "library": "var_list.py",
     "varRefreshCmd": "print(var_dic_list())"
    },
    "r": {
     "delete_cmd_postfix": ") ",
     "delete_cmd_prefix": "rm(",
     "library": "var_list.r",
     "varRefreshCmd": "cat(var_dic_list()) "
    }
   },
   "types_to_exclude": [
    "module",
    "function",
    "builtin_function_or_method",
    "instance",
    "_Feature"
   ],
   "window_display": false
  }
 },
 "nbformat": 4,
 "nbformat_minor": 5
}
