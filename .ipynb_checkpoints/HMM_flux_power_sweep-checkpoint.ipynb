{
 "cells": [
  {
   "cell_type": "markdown",
   "metadata": {
    "toc": true
   },
   "source": [
    "<h1>Table of Contents<span class=\"tocSkip\"></span></h1>\n",
    "<div class=\"toc\"><ul class=\"toc-item\"><li><span><a href=\"#HMM-Analysis-for-Flux-&amp;-Power-Sweep-Data\" data-toc-modified-id=\"HMM-Analysis-for-Flux-&amp;-Power-Sweep-Data-1\"><span class=\"toc-item-num\">1&nbsp;&nbsp;</span>HMM Analysis for Flux &amp; Power Sweep Data</a></span></li></ul></div>"
   ]
  },
  {
   "cell_type": "markdown",
   "metadata": {},
   "source": [
    "# HMM Analysis for Flux & Power Sweep Data"
   ]
  },
  {
   "cell_type": "markdown",
   "metadata": {},
   "source": [
    "`project_path` should be the root folder of where all the Alazar data is stored \n",
    "\n",
    "`flux_sweeps` is the directory of power sweep data for each flux\n"
   ]
  },
  {
   "cell_type": "code",
   "execution_count": 1,
   "metadata": {
    "ExecuteTime": {
     "end_time": "2022-10-13T19:30:26.176737Z",
     "start_time": "2022-10-13T19:30:24.922076Z"
    }
   },
   "outputs": [],
   "source": [
    "from AlazarPowerSweepData import *\n",
    "\n",
    "project_path = r\"G:\\Shared drives\\Quasiparticles_2\\NBR07_Oct2022\\NBR07_AutoTune_Power-FluxSweep_10_7_2022\"\n",
    "flux_sweeps = get_all_project_folders(project_path)"
   ]
  },
  {
   "cell_type": "markdown",
   "metadata": {},
   "source": [
    "`interactive` is a `Boolean` parameter. Set to `True` to enable manual safety checks and `False` for more automated performance.\n",
    "\n",
    "`createPdf` takes value `True` or `False`. Set to `True` if you want to visually see the downsampled IQ plots (determined by `avgTime`) to determine the **attenuation** below which the system goes non-linear. Set to `False` if the attenuation is known.\n",
    "\n",
    "`intTime` is the starting integration time provied to the HMM fits.\n",
    "\n",
    "`SNRmin` is the minimum SNR cut off constraint to the HMM program.\n",
    "\n",
    "`target_device_power` is the power we want to grab the means at.\n",
    "\n",
    "`numModes` is the number of modes we want to fit"
   ]
  },
  {
   "cell_type": "code",
   "execution_count": 2,
   "metadata": {
    "ExecuteTime": {
     "end_time": "2022-10-13T19:30:27.169405Z",
     "start_time": "2022-10-13T19:30:27.162425Z"
    }
   },
   "outputs": [],
   "source": [
    "interactive = False\n",
    "createPdf = False\n",
    "intTime=1\n",
    "SNRmin=3\n",
    "avgTime = 2\n",
    "target_device_power = -127\n",
    "numModes = 2"
   ]
  },
  {
   "cell_type": "markdown",
   "metadata": {},
   "source": [
    "We want to grab the `means` since we are going for a more automated approach (i.e. `interactive=False`). This creates a `.pkl` file from which the program sources the guessed means from during runtime.\n"
   ]
  },
  {
   "cell_type": "code",
   "execution_count": null,
   "metadata": {
    "ExecuteTime": {
     "end_time": "2022-10-13T19:18:51.798902Z",
     "start_time": "2022-10-13T19:16:51.018168Z"
    }
   },
   "outputs": [],
   "source": [
    "set_all_initial_QP_means(project_path, target_device_power, numModes, avgTime)"
   ]
  },
  {
   "cell_type": "markdown",
   "metadata": {},
   "source": [
    "Now, we want to start the HMM analysis."
   ]
  },
  {
   "cell_type": "code",
   "execution_count": 3,
   "metadata": {
    "ExecuteTime": {
     "end_time": "2022-10-13T19:31:02.793203Z",
     "start_time": "2022-10-13T19:30:30.458358Z"
    }
   },
   "outputs": [
    {
     "name": "stdout",
     "output_type": "stream",
     "text": [
      "Creating figure paths.....\n",
      "Reading and sorting data files.....\n",
      "Reading and updating the metadata.....\n",
      "Data loaded without creating IQ downsampled plots....\n",
      "\n",
      "\n",
      "==========\tHMM ANALYSIS STARTED\t==========\n",
      "Attenuation Configuration:\n",
      "\n",
      "\n",
      "LO_power = 20\n",
      "Splitter = -3\n",
      "Fixed_attenuator_1 = -20\n",
      "Fixed_attenuator_2 = -30\n",
      "DA_fixed = -10\n",
      "Fridge_attenuation = -75\n",
      "Ecosorb = -3\n",
      "MetaData: \n",
      "\n",
      "\n",
      "dateOfMeasurement = 20221005\n",
      "eccosorb = True\n",
      "KandL = True\n",
      "rigidCables = True\n",
      "JPA = True\n",
      "TWPA = False\n",
      "ClearingCoupler = False\n",
      "Device_id = NBR07\n",
      "f0 = 4.2727\n",
      "Temp = 30.0\n",
      "sampleRateMHz = 10\n",
      "durationSeconds = 5\n",
      "LOf = 4.2609963736288305\n",
      "phi = 0.5\n",
      "\n",
      "The chosen power to the device is -127 dBM at the attenuation 6\n",
      "\n",
      "Number of Modes to be fit: 2\n"
     ]
    },
    {
     "ename": "KeyboardInterrupt",
     "evalue": "",
     "output_type": "error",
     "traceback": [
      "\u001b[1;31m---------------------------------------------------------------------------\u001b[0m",
      "\u001b[1;31mFileNotFoundError\u001b[0m                         Traceback (most recent call last)",
      "\u001b[1;32m~\\lflPython-github\\MeasurementScripts\\Quasiparticles\\HMM_Analysis\\AlazarPowerSweepData.py\u001b[0m in \u001b[0;36mget_initial_QP_means\u001b[1;34m(self, avgTime)\u001b[0m\n\u001b[0;32m    102\u001b[0m             \u001b[1;32mtry\u001b[0m\u001b[1;33m:\u001b[0m\u001b[1;33m\u001b[0m\u001b[1;33m\u001b[0m\u001b[0m\n\u001b[1;32m--> 103\u001b[1;33m                 \u001b[1;32mreturn\u001b[0m \u001b[0mget_QP_means\u001b[0m\u001b[1;33m(\u001b[0m\u001b[0mself\u001b[0m\u001b[1;33m.\u001b[0m\u001b[0mproject_path\u001b[0m\u001b[1;33m,\u001b[0m \u001b[0mself\u001b[0m\u001b[1;33m.\u001b[0m\u001b[0mphi\u001b[0m\u001b[1;33m,\u001b[0m \u001b[0mself\u001b[0m\u001b[1;33m.\u001b[0m\u001b[0mnumModes\u001b[0m\u001b[1;33m)\u001b[0m\u001b[1;33m\u001b[0m\u001b[1;33m\u001b[0m\u001b[0m\n\u001b[0m\u001b[0;32m    104\u001b[0m             \u001b[1;32mexcept\u001b[0m\u001b[1;33m:\u001b[0m\u001b[1;33m\u001b[0m\u001b[1;33m\u001b[0m\u001b[0m\n",
      "\u001b[1;32m~\\lflPython-github\\MeasurementScripts\\Quasiparticles\\HMM_Analysis\\HMM_helper_functions.py\u001b[0m in \u001b[0;36mget_QP_means\u001b[1;34m(project_path, phi, numModes)\u001b[0m\n\u001b[0;32m    118\u001b[0m \u001b[1;32mdef\u001b[0m \u001b[0mget_QP_means\u001b[0m\u001b[1;33m(\u001b[0m\u001b[0mproject_path\u001b[0m\u001b[1;33m,\u001b[0m \u001b[0mphi\u001b[0m\u001b[1;33m,\u001b[0m \u001b[0mnumModes\u001b[0m\u001b[1;33m)\u001b[0m\u001b[1;33m:\u001b[0m\u001b[1;33m\u001b[0m\u001b[1;33m\u001b[0m\u001b[0m\n\u001b[1;32m--> 119\u001b[1;33m     \u001b[1;32mwith\u001b[0m \u001b[0mopen\u001b[0m\u001b[1;33m(\u001b[0m\u001b[0mos\u001b[0m\u001b[1;33m.\u001b[0m\u001b[0mpath\u001b[0m\u001b[1;33m.\u001b[0m\u001b[0mjoin\u001b[0m\u001b[1;33m(\u001b[0m\u001b[0mproject_path\u001b[0m\u001b[1;33m,\u001b[0m \u001b[1;34m'AnalysisResults'\u001b[0m\u001b[1;33m,\u001b[0m \u001b[1;34m'guessedMeans'\u001b[0m\u001b[1;33m,\u001b[0m\u001b[1;34mf'QP_init_means_M{numModes}.pkl'\u001b[0m\u001b[1;33m)\u001b[0m\u001b[1;33m,\u001b[0m \u001b[1;34m'rb'\u001b[0m\u001b[1;33m)\u001b[0m \u001b[1;32mas\u001b[0m \u001b[0mf\u001b[0m\u001b[1;33m:\u001b[0m\u001b[1;33m\u001b[0m\u001b[1;33m\u001b[0m\u001b[0m\n\u001b[0m\u001b[0;32m    120\u001b[0m         \u001b[0mmeans_phi\u001b[0m \u001b[1;33m=\u001b[0m \u001b[0mpickle\u001b[0m\u001b[1;33m.\u001b[0m\u001b[0mload\u001b[0m\u001b[1;33m(\u001b[0m\u001b[0mf\u001b[0m\u001b[1;33m)\u001b[0m\u001b[1;33m\u001b[0m\u001b[1;33m\u001b[0m\u001b[0m\n",
      "\u001b[1;31mFileNotFoundError\u001b[0m: [Errno 2] No such file or directory: 'G:\\\\Shared drives\\\\Quasiparticles_2\\\\NBR07_Oct2022\\\\NBR07_AutoTune_Power-FluxSweep_10_7_2022\\\\500flux\\\\AnalysisResults\\\\guessedMeans\\\\QP_init_means_M2.pkl'",
      "\nDuring handling of the above exception, another exception occurred:\n",
      "\u001b[1;31mKeyboardInterrupt\u001b[0m                         Traceback (most recent call last)",
      "\u001b[1;32m<ipython-input-3-eb33f39a6772>\u001b[0m in \u001b[0;36m<module>\u001b[1;34m\u001b[0m\n\u001b[0;32m      2\u001b[0m     \u001b[0mpower_sweep_obj\u001b[0m \u001b[1;33m=\u001b[0m \u001b[0mAlazarPowerSweepData\u001b[0m\u001b[1;33m(\u001b[0m\u001b[0mpower_sweeps\u001b[0m\u001b[1;33m,\u001b[0m\u001b[0minteractive\u001b[0m\u001b[1;33m)\u001b[0m\u001b[1;33m\u001b[0m\u001b[1;33m\u001b[0m\u001b[0m\n\u001b[0;32m      3\u001b[0m     \u001b[0mpower_sweep_obj\u001b[0m\u001b[1;33m.\u001b[0m\u001b[0mprocess_Alazar_Data\u001b[0m\u001b[1;33m(\u001b[0m\u001b[0mavgTime\u001b[0m\u001b[1;33m=\u001b[0m\u001b[1;36m2\u001b[0m\u001b[1;33m,\u001b[0m\u001b[0mplots\u001b[0m\u001b[1;33m=\u001b[0m\u001b[0mcreatePdf\u001b[0m\u001b[1;33m)\u001b[0m\u001b[1;33m\u001b[0m\u001b[1;33m\u001b[0m\u001b[0m\n\u001b[1;32m----> 4\u001b[1;33m     \u001b[0mpower_sweep_obj\u001b[0m\u001b[1;33m.\u001b[0m\u001b[0mstart_HMM_fit\u001b[0m\u001b[1;33m(\u001b[0m\u001b[0mintTime\u001b[0m\u001b[1;33m=\u001b[0m\u001b[0mintTime\u001b[0m\u001b[1;33m,\u001b[0m \u001b[0mSNRmin\u001b[0m\u001b[1;33m=\u001b[0m \u001b[0mSNRmin\u001b[0m\u001b[1;33m,\u001b[0m \u001b[0mtargetPower\u001b[0m \u001b[1;33m=\u001b[0m \u001b[0mtarget_device_power\u001b[0m\u001b[1;33m,\u001b[0m \u001b[0mnumModes\u001b[0m \u001b[1;33m=\u001b[0m \u001b[0mnumModes\u001b[0m\u001b[1;33m)\u001b[0m\u001b[1;33m\u001b[0m\u001b[1;33m\u001b[0m\u001b[0m\n\u001b[0m",
      "\u001b[1;32m~\\lflPython-github\\MeasurementScripts\\Quasiparticles\\HMM_Analysis\\AlazarPowerSweepData.py\u001b[0m in \u001b[0;36mstart_HMM_fit\u001b[1;34m(self, r_unit, intTime, SNRmin, targetPower, numModes)\u001b[0m\n\u001b[0;32m    207\u001b[0m             \u001b[0mset_qt_backend\u001b[0m\u001b[1;33m(\u001b[0m\u001b[1;33m)\u001b[0m\u001b[1;33m\u001b[0m\u001b[1;33m\u001b[0m\u001b[0m\n\u001b[0;32m    208\u001b[0m \u001b[1;33m\u001b[0m\u001b[0m\n\u001b[1;32m--> 209\u001b[1;33m             \u001b[0mmeans\u001b[0m \u001b[1;33m=\u001b[0m \u001b[0mself\u001b[0m\u001b[1;33m.\u001b[0m\u001b[0mget_initial_QP_means\u001b[0m\u001b[1;33m(\u001b[0m\u001b[1;33m)\u001b[0m\u001b[1;33m\u001b[0m\u001b[1;33m\u001b[0m\u001b[0m\n\u001b[0m\u001b[0;32m    210\u001b[0m             \u001b[0mcovars\u001b[0m \u001b[1;33m=\u001b[0m \u001b[0mself\u001b[0m\u001b[1;33m.\u001b[0m\u001b[0mget_initial_QP_covars\u001b[0m\u001b[1;33m(\u001b[0m\u001b[0mr_unit\u001b[0m\u001b[1;33m)\u001b[0m\u001b[1;33m\u001b[0m\u001b[1;33m\u001b[0m\u001b[0m\n\u001b[0;32m    211\u001b[0m             \u001b[0mprint\u001b[0m\u001b[1;33m(\u001b[0m\u001b[1;34mf\"Extracted Means:\\n{means}\\n\\nGussed Covariance:\\n{covars}\\n\"\u001b[0m\u001b[1;33m)\u001b[0m\u001b[1;33m\u001b[0m\u001b[1;33m\u001b[0m\u001b[0m\n",
      "\u001b[1;32m~\\lflPython-github\\MeasurementScripts\\Quasiparticles\\HMM_Analysis\\AlazarPowerSweepData.py\u001b[0m in \u001b[0;36mget_initial_QP_means\u001b[1;34m(self, avgTime)\u001b[0m\n\u001b[0;32m    103\u001b[0m                 \u001b[1;32mreturn\u001b[0m \u001b[0mget_QP_means\u001b[0m\u001b[1;33m(\u001b[0m\u001b[0mself\u001b[0m\u001b[1;33m.\u001b[0m\u001b[0mproject_path\u001b[0m\u001b[1;33m,\u001b[0m \u001b[0mself\u001b[0m\u001b[1;33m.\u001b[0m\u001b[0mphi\u001b[0m\u001b[1;33m,\u001b[0m \u001b[0mself\u001b[0m\u001b[1;33m.\u001b[0m\u001b[0mnumModes\u001b[0m\u001b[1;33m)\u001b[0m\u001b[1;33m\u001b[0m\u001b[1;33m\u001b[0m\u001b[0m\n\u001b[0;32m    104\u001b[0m             \u001b[1;32mexcept\u001b[0m\u001b[1;33m:\u001b[0m\u001b[1;33m\u001b[0m\u001b[1;33m\u001b[0m\u001b[0m\n\u001b[1;32m--> 105\u001b[1;33m                 \u001b[1;32mreturn\u001b[0m \u001b[0mself\u001b[0m\u001b[1;33m.\u001b[0m\u001b[0mget_QP_means_from_IQ\u001b[0m\u001b[1;33m(\u001b[0m\u001b[0mavgTime\u001b[0m\u001b[1;33m)\u001b[0m\u001b[1;33m\u001b[0m\u001b[1;33m\u001b[0m\u001b[0m\n\u001b[0m\u001b[0;32m    106\u001b[0m \u001b[1;33m\u001b[0m\u001b[0m\n\u001b[0;32m    107\u001b[0m \u001b[1;33m\u001b[0m\u001b[0m\n",
      "\u001b[1;32m~\\lflPython-github\\MeasurementScripts\\Quasiparticles\\HMM_Analysis\\AlazarPowerSweepData.py\u001b[0m in \u001b[0;36mget_QP_means_from_IQ\u001b[1;34m(self, avgTime)\u001b[0m\n\u001b[0;32m     91\u001b[0m \u001b[1;33m\u001b[0m\u001b[0m\n\u001b[0;32m     92\u001b[0m         \u001b[0mcreate_IQ_plot\u001b[0m\u001b[1;33m(\u001b[0m\u001b[0mdata\u001b[0m\u001b[1;33m)\u001b[0m\u001b[1;33m\u001b[0m\u001b[1;33m\u001b[0m\u001b[0m\n\u001b[1;32m---> 93\u001b[1;33m         \u001b[0mmeans\u001b[0m \u001b[1;33m=\u001b[0m \u001b[0mplt\u001b[0m\u001b[1;33m.\u001b[0m\u001b[0mginput\u001b[0m\u001b[1;33m(\u001b[0m\u001b[0mn\u001b[0m \u001b[1;33m=\u001b[0m \u001b[0mself\u001b[0m\u001b[1;33m.\u001b[0m\u001b[0mnumModes\u001b[0m\u001b[1;33m)\u001b[0m\u001b[1;33m\u001b[0m\u001b[1;33m\u001b[0m\u001b[0m\n\u001b[0m\u001b[0;32m     94\u001b[0m         \u001b[0mplt\u001b[0m\u001b[1;33m.\u001b[0m\u001b[0mclose\u001b[0m\u001b[1;33m(\u001b[0m\u001b[1;33m)\u001b[0m\u001b[1;33m\u001b[0m\u001b[1;33m\u001b[0m\u001b[0m\n\u001b[0;32m     95\u001b[0m         \u001b[1;32mreturn\u001b[0m \u001b[0mmeans\u001b[0m\u001b[1;33m\u001b[0m\u001b[1;33m\u001b[0m\u001b[0m\n",
      "\u001b[1;32mC:\\ProgramData\\Anaconda3\\lib\\site-packages\\matplotlib\\pyplot.py\u001b[0m in \u001b[0;36mginput\u001b[1;34m(n, timeout, show_clicks, mouse_add, mouse_pop, mouse_stop)\u001b[0m\n\u001b[0;32m   2381\u001b[0m         \u001b[0mmouse_add\u001b[0m\u001b[1;33m=\u001b[0m\u001b[0mMouseButton\u001b[0m\u001b[1;33m.\u001b[0m\u001b[0mLEFT\u001b[0m\u001b[1;33m,\u001b[0m \u001b[0mmouse_pop\u001b[0m\u001b[1;33m=\u001b[0m\u001b[0mMouseButton\u001b[0m\u001b[1;33m.\u001b[0m\u001b[0mRIGHT\u001b[0m\u001b[1;33m,\u001b[0m\u001b[1;33m\u001b[0m\u001b[1;33m\u001b[0m\u001b[0m\n\u001b[0;32m   2382\u001b[0m         mouse_stop=MouseButton.MIDDLE):\n\u001b[1;32m-> 2383\u001b[1;33m     return gcf().ginput(\n\u001b[0m\u001b[0;32m   2384\u001b[0m         \u001b[0mn\u001b[0m\u001b[1;33m=\u001b[0m\u001b[0mn\u001b[0m\u001b[1;33m,\u001b[0m \u001b[0mtimeout\u001b[0m\u001b[1;33m=\u001b[0m\u001b[0mtimeout\u001b[0m\u001b[1;33m,\u001b[0m \u001b[0mshow_clicks\u001b[0m\u001b[1;33m=\u001b[0m\u001b[0mshow_clicks\u001b[0m\u001b[1;33m,\u001b[0m\u001b[1;33m\u001b[0m\u001b[1;33m\u001b[0m\u001b[0m\n\u001b[0;32m   2385\u001b[0m         \u001b[0mmouse_add\u001b[0m\u001b[1;33m=\u001b[0m\u001b[0mmouse_add\u001b[0m\u001b[1;33m,\u001b[0m \u001b[0mmouse_pop\u001b[0m\u001b[1;33m=\u001b[0m\u001b[0mmouse_pop\u001b[0m\u001b[1;33m,\u001b[0m\u001b[1;33m\u001b[0m\u001b[1;33m\u001b[0m\u001b[0m\n",
      "\u001b[1;32mC:\\ProgramData\\Anaconda3\\lib\\site-packages\\matplotlib\\figure.py\u001b[0m in \u001b[0;36mginput\u001b[1;34m(self, n, timeout, show_clicks, mouse_add, mouse_pop, mouse_stop)\u001b[0m\n\u001b[0;32m   2451\u001b[0m                                                   \u001b[0mmouse_pop\u001b[0m\u001b[1;33m=\u001b[0m\u001b[0mmouse_pop\u001b[0m\u001b[1;33m,\u001b[0m\u001b[1;33m\u001b[0m\u001b[1;33m\u001b[0m\u001b[0m\n\u001b[0;32m   2452\u001b[0m                                                   mouse_stop=mouse_stop)\n\u001b[1;32m-> 2453\u001b[1;33m         return blocking_mouse_input(n=n, timeout=timeout,\n\u001b[0m\u001b[0;32m   2454\u001b[0m                                     show_clicks=show_clicks)\n\u001b[0;32m   2455\u001b[0m \u001b[1;33m\u001b[0m\u001b[0m\n",
      "\u001b[1;32mC:\\ProgramData\\Anaconda3\\lib\\site-packages\\matplotlib\\blocking_input.py\u001b[0m in \u001b[0;36m__call__\u001b[1;34m(self, n, timeout, show_clicks)\u001b[0m\n\u001b[0;32m    265\u001b[0m         \u001b[0mself\u001b[0m\u001b[1;33m.\u001b[0m\u001b[0mclicks\u001b[0m \u001b[1;33m=\u001b[0m \u001b[1;33m[\u001b[0m\u001b[1;33m]\u001b[0m\u001b[1;33m\u001b[0m\u001b[1;33m\u001b[0m\u001b[0m\n\u001b[0;32m    266\u001b[0m         \u001b[0mself\u001b[0m\u001b[1;33m.\u001b[0m\u001b[0mmarks\u001b[0m \u001b[1;33m=\u001b[0m \u001b[1;33m[\u001b[0m\u001b[1;33m]\u001b[0m\u001b[1;33m\u001b[0m\u001b[1;33m\u001b[0m\u001b[0m\n\u001b[1;32m--> 267\u001b[1;33m         \u001b[0mBlockingInput\u001b[0m\u001b[1;33m.\u001b[0m\u001b[0m__call__\u001b[0m\u001b[1;33m(\u001b[0m\u001b[0mself\u001b[0m\u001b[1;33m,\u001b[0m \u001b[0mn\u001b[0m\u001b[1;33m=\u001b[0m\u001b[0mn\u001b[0m\u001b[1;33m,\u001b[0m \u001b[0mtimeout\u001b[0m\u001b[1;33m=\u001b[0m\u001b[0mtimeout\u001b[0m\u001b[1;33m)\u001b[0m\u001b[1;33m\u001b[0m\u001b[1;33m\u001b[0m\u001b[0m\n\u001b[0m\u001b[0;32m    268\u001b[0m         \u001b[1;32mreturn\u001b[0m \u001b[0mself\u001b[0m\u001b[1;33m.\u001b[0m\u001b[0mclicks\u001b[0m\u001b[1;33m\u001b[0m\u001b[1;33m\u001b[0m\u001b[0m\n\u001b[0;32m    269\u001b[0m \u001b[1;33m\u001b[0m\u001b[0m\n",
      "\u001b[1;32mC:\\ProgramData\\Anaconda3\\lib\\site-packages\\matplotlib\\blocking_input.py\u001b[0m in \u001b[0;36m__call__\u001b[1;34m(self, n, timeout)\u001b[0m\n\u001b[0;32m     91\u001b[0m         \u001b[1;32mtry\u001b[0m\u001b[1;33m:\u001b[0m\u001b[1;33m\u001b[0m\u001b[1;33m\u001b[0m\u001b[0m\n\u001b[0;32m     92\u001b[0m             \u001b[1;31m# Start event loop.\u001b[0m\u001b[1;33m\u001b[0m\u001b[1;33m\u001b[0m\u001b[1;33m\u001b[0m\u001b[0m\n\u001b[1;32m---> 93\u001b[1;33m             \u001b[0mself\u001b[0m\u001b[1;33m.\u001b[0m\u001b[0mfig\u001b[0m\u001b[1;33m.\u001b[0m\u001b[0mcanvas\u001b[0m\u001b[1;33m.\u001b[0m\u001b[0mstart_event_loop\u001b[0m\u001b[1;33m(\u001b[0m\u001b[0mtimeout\u001b[0m\u001b[1;33m=\u001b[0m\u001b[0mtimeout\u001b[0m\u001b[1;33m)\u001b[0m\u001b[1;33m\u001b[0m\u001b[1;33m\u001b[0m\u001b[0m\n\u001b[0m\u001b[0;32m     94\u001b[0m         \u001b[1;32mfinally\u001b[0m\u001b[1;33m:\u001b[0m  \u001b[1;31m# Run even on exception like ctrl-c.\u001b[0m\u001b[1;33m\u001b[0m\u001b[1;33m\u001b[0m\u001b[0m\n\u001b[0;32m     95\u001b[0m             \u001b[1;31m# Disconnect the callbacks.\u001b[0m\u001b[1;33m\u001b[0m\u001b[1;33m\u001b[0m\u001b[1;33m\u001b[0m\u001b[0m\n",
      "\u001b[1;32mC:\\ProgramData\\Anaconda3\\lib\\site-packages\\matplotlib\\backends\\backend_qt5.py\u001b[0m in \u001b[0;36mstart_event_loop\u001b[1;34m(self, timeout)\u001b[0m\n\u001b[0;32m    432\u001b[0m             timer = QtCore.QTimer.singleShot(int(timeout * 1000),\n\u001b[0;32m    433\u001b[0m                                              event_loop.quit)\n\u001b[1;32m--> 434\u001b[1;33m         \u001b[0mevent_loop\u001b[0m\u001b[1;33m.\u001b[0m\u001b[0mexec_\u001b[0m\u001b[1;33m(\u001b[0m\u001b[1;33m)\u001b[0m\u001b[1;33m\u001b[0m\u001b[1;33m\u001b[0m\u001b[0m\n\u001b[0m\u001b[0;32m    435\u001b[0m \u001b[1;33m\u001b[0m\u001b[0m\n\u001b[0;32m    436\u001b[0m     \u001b[1;32mdef\u001b[0m \u001b[0mstop_event_loop\u001b[0m\u001b[1;33m(\u001b[0m\u001b[0mself\u001b[0m\u001b[1;33m,\u001b[0m \u001b[0mevent\u001b[0m\u001b[1;33m=\u001b[0m\u001b[1;32mNone\u001b[0m\u001b[1;33m)\u001b[0m\u001b[1;33m:\u001b[0m\u001b[1;33m\u001b[0m\u001b[1;33m\u001b[0m\u001b[0m\n",
      "\u001b[1;31mKeyboardInterrupt\u001b[0m: "
     ]
    }
   ],
   "source": [
    "for power_sweeps in flux_sweeps:\n",
    "    power_sweep_obj = AlazarPowerSweepData(power_sweeps,interactive,project_root=project_path)\n",
    "    power_sweep_obj.process_Alazar_Data(avgTime=2,plots=createPdf)\n",
    "    power_sweep_obj.start_HMM_fit(intTime=intTime, SNRmin= SNRmin, targetPower = target_device_power, numModes = numModes)"
   ]
  },
  {
   "cell_type": "code",
   "execution_count": 5,
   "metadata": {
    "ExecuteTime": {
     "end_time": "2022-10-13T19:34:06.404539Z",
     "start_time": "2022-10-13T19:34:06.386586Z"
    }
   },
   "outputs": [],
   "source": [
    "x = r'G:\\\\Shared drives\\\\Quasiparticles_2\\\\NBR07_Oct2022\\\\NBR07_AutoTune_Power-FluxSweep_10_7_2022\\\\500flux\\\\AnalysisResults\\\\guessedMeans\\\\QP_init_means_M2.pkl' "
   ]
  },
  {
   "cell_type": "code",
   "execution_count": 21,
   "metadata": {
    "ExecuteTime": {
     "end_time": "2022-10-13T19:37:15.544516Z",
     "start_time": "2022-10-13T19:37:15.531550Z"
    }
   },
   "outputs": [
    {
     "data": {
      "text/plain": [
       "['G:',\n",
       " '',\n",
       " 'Shared drives',\n",
       " '',\n",
       " 'Quasiparticles_2',\n",
       " '',\n",
       " 'NBR07_Oct2022',\n",
       " '',\n",
       " 'NBR07_AutoTune_Power-FluxSweep_10_7_2022',\n",
       " '',\n",
       " '500flux',\n",
       " '',\n",
       " '']"
      ]
     },
     "execution_count": 21,
     "metadata": {},
     "output_type": "execute_result"
    }
   ],
   "source": [
    "x.split(\"AnalysisResults\")[0].split(\"\\\\\")\n"
   ]
  },
  {
   "cell_type": "code",
   "execution_count": null,
   "metadata": {},
   "outputs": [],
   "source": []
  }
 ],
 "metadata": {
  "hide_input": false,
  "kernelspec": {
   "display_name": "Python 3",
   "language": "python",
   "name": "python3"
  },
  "language_info": {
   "codemirror_mode": {
    "name": "ipython",
    "version": 3
   },
   "file_extension": ".py",
   "mimetype": "text/x-python",
   "name": "python",
   "nbconvert_exporter": "python",
   "pygments_lexer": "ipython3",
   "version": "3.8.5"
  },
  "latex_envs": {
   "LaTeX_envs_menu_present": true,
   "autoclose": false,
   "autocomplete": true,
   "bibliofile": "biblio.bib",
   "cite_by": "apalike",
   "current_citInitial": 1,
   "eqLabelWithNumbers": true,
   "eqNumInitial": 1,
   "hotkeys": {
    "equation": "Ctrl-E",
    "itemize": "Ctrl-I"
   },
   "labels_anchors": false,
   "latex_user_defs": false,
   "report_style_numbering": false,
   "user_envs_cfg": false
  },
  "toc": {
   "base_numbering": 1,
   "nav_menu": {},
   "number_sections": true,
   "sideBar": true,
   "skip_h1_title": false,
   "title_cell": "Table of Contents",
   "title_sidebar": "Contents",
   "toc_cell": true,
   "toc_position": {
    "height": "calc(100% - 180px)",
    "left": "10px",
    "top": "150px",
    "width": "349.091px"
   },
   "toc_section_display": true,
   "toc_window_display": true
  },
  "varInspector": {
   "cols": {
    "lenName": 16,
    "lenType": 16,
    "lenVar": 40
   },
   "kernels_config": {
    "python": {
     "delete_cmd_postfix": "",
     "delete_cmd_prefix": "del ",
     "library": "var_list.py",
     "varRefreshCmd": "print(var_dic_list())"
    },
    "r": {
     "delete_cmd_postfix": ") ",
     "delete_cmd_prefix": "rm(",
     "library": "var_list.r",
     "varRefreshCmd": "cat(var_dic_list()) "
    }
   },
   "position": {
    "height": "368.835px",
    "left": "1251.45px",
    "right": "20px",
    "top": "107px",
    "width": "456.009px"
   },
   "types_to_exclude": [
    "module",
    "function",
    "builtin_function_or_method",
    "instance",
    "_Feature"
   ],
   "window_display": false
  }
 },
 "nbformat": 4,
 "nbformat_minor": 5
}
