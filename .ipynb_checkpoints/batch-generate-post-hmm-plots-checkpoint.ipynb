{
 "cells": [
  {
   "cell_type": "code",
   "execution_count": 1,
   "id": "6e7d1290",
   "metadata": {
    "ExecuteTime": {
     "end_time": "2022-10-26T02:11:11.961723Z",
     "start_time": "2022-10-26T02:11:11.955773Z"
    }
   },
   "outputs": [],
   "source": [
    "hdf5_file = r\"/Volumes/GoogleDrive/Shared drives/Quasiparticles_2/NBR07_Oct2022/test_power_sweep/powerSweep/AnalyisResults/FullDataset_T30.0_PHI0p47_.hdf5\""
   ]
  },
  {
   "cell_type": "code",
   "execution_count": 2,
   "id": "6e360c01",
   "metadata": {
    "ExecuteTime": {
     "end_time": "2022-10-26T02:11:13.043325Z",
     "start_time": "2022-10-26T02:11:12.335242Z"
    }
   },
   "outputs": [],
   "source": [
    "from HMM_helper_functions import *\n",
    "from HMM_plotter_functions import *"
   ]
  },
  {
   "cell_type": "code",
   "execution_count": 4,
   "id": "21a41118",
   "metadata": {
    "ExecuteTime": {
     "end_time": "2022-10-26T02:11:16.087352Z",
     "start_time": "2022-10-26T02:11:16.078765Z"
    }
   },
   "outputs": [],
   "source": [
    "numModes = 2"
   ]
  },
  {
   "cell_type": "code",
   "execution_count": 5,
   "id": "c6d161fd",
   "metadata": {
    "ExecuteTime": {
     "end_time": "2022-10-26T02:11:17.140282Z",
     "start_time": "2022-10-26T02:11:16.388220Z"
    }
   },
   "outputs": [
    {
     "ename": "NameError",
     "evalue": "name 'ks' is not defined",
     "output_type": "error",
     "traceback": [
      "\u001b[0;31m---------------------------------------------------------------------------\u001b[0m",
      "\u001b[0;31mNameError\u001b[0m                                 Traceback (most recent call last)",
      "Input \u001b[0;32mIn [5]\u001b[0m, in \u001b[0;36m<cell line: 1>\u001b[0;34m()\u001b[0m\n\u001b[0;32m----> 1\u001b[0m \u001b[43mcreate_HMM_QP_statistics_plots\u001b[49m\u001b[43m(\u001b[49m\u001b[43mhdf5_file\u001b[49m\u001b[43m,\u001b[49m\u001b[43m \u001b[49m\u001b[38;5;124;43m\"\u001b[39;49m\u001b[38;5;124;43mtest\u001b[39;49m\u001b[38;5;124;43m\"\u001b[39;49m\u001b[43m,\u001b[49m\u001b[43m \u001b[49m\u001b[43mnumModes\u001b[49m\u001b[43m)\u001b[49m\n",
      "File \u001b[0;32m~/LFL/HMM_Analysis/HMM_plotter_functions.py:43\u001b[0m, in \u001b[0;36mcreate_HMM_QP_statistics_plots\u001b[0;34m(hdf5_file, figpath, numModes)\u001b[0m\n\u001b[1;32m     41\u001b[0m \u001b[38;5;28;01mdef\u001b[39;00m \u001b[38;5;21mcreate_HMM_QP_statistics_plots\u001b[39m(hdf5_file, figpath, numModes):\n\u001b[1;32m     42\u001b[0m     hmm_func\u001b[38;5;241m.\u001b[39mset_plot_style()\n\u001b[0;32m---> 43\u001b[0m     \u001b[43mcreate_mean_occupation_plot\u001b[49m\u001b[43m(\u001b[49m\u001b[43mhdf5_file\u001b[49m\u001b[43m,\u001b[49m\u001b[43m \u001b[49m\u001b[43mfigpath\u001b[49m\u001b[43m)\u001b[49m\n\u001b[1;32m     44\u001b[0m     create_transition_probability_plot(hdf5_file, figpath, numModes)\n\u001b[1;32m     45\u001b[0m     create_transition_rate_plot(hdf5_file, figpath, numModes)\n",
      "File \u001b[0;32m~/LFL/HMM_Analysis/HMM_plotter_functions.py:54\u001b[0m, in \u001b[0;36mcreate_mean_occupation_plot\u001b[0;34m(hdf5_file, figpath)\u001b[0m\n\u001b[1;32m     52\u001b[0m Qmeans \u001b[38;5;241m=\u001b[39m []\n\u001b[1;32m     53\u001b[0m \u001b[38;5;28;01mwith\u001b[39;00m h5py\u001b[38;5;241m.\u001b[39mFile(hdf5_file,\u001b[38;5;124m'\u001b[39m\u001b[38;5;124mr\u001b[39m\u001b[38;5;124m'\u001b[39m) \u001b[38;5;28;01mas\u001b[39;00m fb:\n\u001b[0;32m---> 54\u001b[0m     f \u001b[38;5;241m=\u001b[39m fb[\u001b[43mks\u001b[49m]\n\u001b[1;32m     55\u001b[0m     \u001b[38;5;28;01mfor\u001b[39;00m key \u001b[38;5;129;01min\u001b[39;00m f:\n\u001b[1;32m     56\u001b[0m         LOp \u001b[38;5;241m=\u001b[39m f[key]\u001b[38;5;241m.\u001b[39mattrs\u001b[38;5;241m.\u001b[39mget(\u001b[38;5;124m'\u001b[39m\u001b[38;5;124mLOpower\u001b[39m\u001b[38;5;124m'\u001b[39m)\n",
      "\u001b[0;31mNameError\u001b[0m: name 'ks' is not defined"
     ]
    }
   ],
   "source": [
    "create_HMM_QP_statistics_plots(hdf5_file, \"test\", numModes)"
   ]
  },
  {
   "cell_type": "code",
   "execution_count": null,
   "id": "3505f329",
   "metadata": {
    "ExecuteTime": {
     "end_time": "2022-10-26T02:10:14.981275Z",
     "start_time": "2022-10-26T02:10:14.972973Z"
    }
   },
   "outputs": [],
   "source": [
    "set_plot_style()"
   ]
  },
  {
   "cell_type": "code",
   "execution_count": null,
   "id": "89491984",
   "metadata": {},
   "outputs": [],
   "source": []
  }
 ],
 "metadata": {
  "hide_input": false,
  "kernelspec": {
   "display_name": "Python 3 (ipykernel)",
   "language": "python",
   "name": "python3"
  },
  "language_info": {
   "codemirror_mode": {
    "name": "ipython",
    "version": 3
   },
   "file_extension": ".py",
   "mimetype": "text/x-python",
   "name": "python",
   "nbconvert_exporter": "python",
   "pygments_lexer": "ipython3",
   "version": "3.9.12"
  },
  "latex_envs": {
   "LaTeX_envs_menu_present": true,
   "autoclose": false,
   "autocomplete": true,
   "bibliofile": "biblio.bib",
   "cite_by": "apalike",
   "current_citInitial": 1,
   "eqLabelWithNumbers": true,
   "eqNumInitial": 1,
   "hotkeys": {
    "equation": "Ctrl-E",
    "itemize": "Ctrl-I"
   },
   "labels_anchors": false,
   "latex_user_defs": false,
   "report_style_numbering": false,
   "user_envs_cfg": false
  },
  "toc": {
   "base_numbering": 1,
   "nav_menu": {},
   "number_sections": true,
   "sideBar": false,
   "skip_h1_title": false,
   "title_cell": "Table of Contents",
   "title_sidebar": "Contents",
   "toc_cell": false,
   "toc_position": {},
   "toc_section_display": false,
   "toc_window_display": true
  },
  "varInspector": {
   "cols": {
    "lenName": 16,
    "lenType": 16,
    "lenVar": 40
   },
   "kernels_config": {
    "python": {
     "delete_cmd_postfix": "",
     "delete_cmd_prefix": "del ",
     "library": "var_list.py",
     "varRefreshCmd": "print(var_dic_list())"
    },
    "r": {
     "delete_cmd_postfix": ") ",
     "delete_cmd_prefix": "rm(",
     "library": "var_list.r",
     "varRefreshCmd": "cat(var_dic_list()) "
    }
   },
   "types_to_exclude": [
    "module",
    "function",
    "builtin_function_or_method",
    "instance",
    "_Feature"
   ],
   "window_display": false
  }
 },
 "nbformat": 4,
 "nbformat_minor": 5
}
