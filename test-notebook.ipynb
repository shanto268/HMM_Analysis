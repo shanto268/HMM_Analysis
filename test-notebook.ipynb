{
 "cells": [
  {
   "cell_type": "markdown",
   "id": "8eba0f45",
   "metadata": {},
   "source": [
    "# Generating Post-HMM Plots in Batch\n",
    "\n",
    "Valid till data of **October 2022**"
   ]
  },
  {
   "cell_type": "code",
   "execution_count": null,
   "id": "9ef29d3e",
   "metadata": {
    "ExecuteTime": {
     "end_time": "2022-10-26T22:02:35.709980Z",
     "start_time": "2022-10-26T22:02:35.033484Z"
    }
   },
   "outputs": [],
   "source": [
    "from HMM_helper_functions import *\n",
    "from HMM_plotter_functions import *"
   ]
  },
  {
   "cell_type": "code",
   "execution_count": null,
   "id": "fe61f89a",
   "metadata": {
    "ExecuteTime": {
     "end_time": "2022-10-26T22:02:36.166513Z",
     "start_time": "2022-10-26T22:02:35.723255Z"
    }
   },
   "outputs": [],
   "source": [
    "drive_base = r\"/Volumes/GoogleDrive/Shared drives/Quasiparticles_2/NBR07_Oct2022/\"\n",
    "hdf5_files = glob.glob(drive_base+\"*/*/*/*.hdf5\")\n",
    "num_modes = [int(hdf5_files[i].split(\"/\")[-1].split(\"M\")[-1].split(\"_\")[0]) for i in range(len(hdf5_files))]\n",
    "figpaths = [hdf5_file.split(\".\")[0].split(\"/F\")[0]+\"/Post_HMM_Figures\" for hdf5_file in hdf5_files]"
   ]
  },
  {
   "cell_type": "code",
   "execution_count": null,
   "id": "c78fdae1",
   "metadata": {
    "ExecuteTime": {
     "end_time": "2022-10-26T04:53:16.916342Z",
     "start_time": "2022-10-26T04:42:15.159182Z"
    }
   },
   "outputs": [],
   "source": [
    "for i,hdf5_file in enumerate(hdf5_files):\n",
    "    try:\n",
    "        #print(f\"Processing {hdf5_file} ...\")\n",
    "        create_HMM_QP_statistics_plots(hdf5_file, figpaths[i], num_modes[i])\n",
    "        print(\"=\"*10+f\" {i}/{len(hdf5_files)} Done \"+\"=\"*10)\n",
    "    except Exception as e:\n",
    "        print(f\"Problem with {hdf5_file}\")\n",
    "        print(e)"
   ]
  },
  {
   "cell_type": "code",
   "execution_count": null,
   "id": "48bf16c0",
   "metadata": {
    "ExecuteTime": {
     "end_time": "2022-10-26T22:02:42.619753Z",
     "start_time": "2022-10-26T22:02:36.912445Z"
    }
   },
   "outputs": [],
   "source": [
    "create_HMM_QP_statistics_plots(hdf5_files[3], \"test\", num_modes[3])"
   ]
  },
  {
   "cell_type": "code",
   "execution_count": null,
   "id": "d4007bd1",
   "metadata": {},
   "outputs": [],
   "source": []
  }
 ],
 "metadata": {
  "hide_input": false,
  "kernelspec": {
   "display_name": "Python 3 (ipykernel)",
   "language": "python",
   "name": "python3"
  },
  "language_info": {
   "codemirror_mode": {
    "name": "ipython",
    "version": 3
   },
   "file_extension": ".py",
   "mimetype": "text/x-python",
   "name": "python",
   "nbconvert_exporter": "python",
   "pygments_lexer": "ipython3",
   "version": "3.9.12"
  },
  "latex_envs": {
   "LaTeX_envs_menu_present": true,
   "autoclose": false,
   "autocomplete": true,
   "bibliofile": "biblio.bib",
   "cite_by": "apalike",
   "current_citInitial": 1,
   "eqLabelWithNumbers": true,
   "eqNumInitial": 1,
   "hotkeys": {
    "equation": "Ctrl-E",
    "itemize": "Ctrl-I"
   },
   "labels_anchors": false,
   "latex_user_defs": false,
   "report_style_numbering": false,
   "user_envs_cfg": false
  },
  "toc": {
   "base_numbering": 1,
   "nav_menu": {},
   "number_sections": true,
   "sideBar": true,
   "skip_h1_title": false,
   "title_cell": "Table of Contents",
   "title_sidebar": "Contents",
   "toc_cell": false,
   "toc_position": {
    "height": "100px",
    "left": "10px",
    "top": "150px",
    "width": "165px"
   },
   "toc_section_display": true,
   "toc_window_display": false
  },
  "varInspector": {
   "cols": {
    "lenName": 16,
    "lenType": 16,
    "lenVar": 40
   },
   "kernels_config": {
    "python": {
     "delete_cmd_postfix": "",
     "delete_cmd_prefix": "del ",
     "library": "var_list.py",
     "varRefreshCmd": "print(var_dic_list())"
    },
    "r": {
     "delete_cmd_postfix": ") ",
     "delete_cmd_prefix": "rm(",
     "library": "var_list.r",
     "varRefreshCmd": "cat(var_dic_list()) "
    }
   },
   "types_to_exclude": [
    "module",
    "function",
    "builtin_function_or_method",
    "instance",
    "_Feature"
   ],
   "window_display": false
  }
 },
 "nbformat": 4,
 "nbformat_minor": 5
}
