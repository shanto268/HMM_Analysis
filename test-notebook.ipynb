{
 "cells": [
  {
   "cell_type": "markdown",
   "id": "1a232b23",
   "metadata": {},
   "source": [
    "# Generating Batch Plots"
   ]
  },
  {
   "cell_type": "code",
   "execution_count": 1,
   "id": "5ee00259",
   "metadata": {
    "ExecuteTime": {
     "end_time": "2022-10-26T04:42:12.998484Z",
     "start_time": "2022-10-26T04:42:12.269711Z"
    }
   },
   "outputs": [],
   "source": [
    "from HMM_helper_functions import *\n",
    "from HMM_plotter_functions import *"
   ]
  },
  {
   "cell_type": "code",
   "execution_count": 2,
   "id": "69349941",
   "metadata": {
    "ExecuteTime": {
     "end_time": "2022-10-26T04:42:13.375945Z",
     "start_time": "2022-10-26T04:42:13.036898Z"
    }
   },
   "outputs": [],
   "source": [
    "drive_base = r\"/Volumes/GoogleDrive/Shared drives/Quasiparticles_2/NBR07_Oct2022/\"\n",
    "hdf5_files = glob.glob(drive_base+\"*/*/*/*.hdf5\")\n",
    "num_modes = [int(hdf5_files[i].split(\"/\")[-1].split(\"M\")[-1].split(\"_\")[0]) for i in range(len(hdf5_files))]\n",
    "figpaths = [hdf5_file.split(\".\")[0].split(\"/F\")[0]+\"/Post_HMM_Figures\" for hdf5_file in hdf5_files]"
   ]
  },
  {
   "cell_type": "code",
   "execution_count": null,
   "id": "01bcbe6f",
   "metadata": {
    "ExecuteTime": {
     "start_time": "2022-10-26T04:42:15.151Z"
    }
   },
   "outputs": [
    {
     "name": "stderr",
     "output_type": "stream",
     "text": [
      "/Users/shanto/LFL/HMM_Analysis/HMM_plotter_functions.py:19: UserWarning: Matplotlib is currently using agg, which is a non-GUI backend, so cannot show the figure.\n",
      "  plt.show()\n"
     ]
    },
    {
     "name": "stdout",
     "output_type": "stream",
     "text": [
      "========== 0/45 Done ==========\n"
     ]
    },
    {
     "name": "stderr",
     "output_type": "stream",
     "text": [
      "/Users/shanto/LFL/HMM_Analysis/HMM_plotter_functions.py:19: UserWarning: Matplotlib is currently using agg, which is a non-GUI backend, so cannot show the figure.\n",
      "  plt.show()\n",
      "/Users/shanto/LFL/HMM_Analysis/HMM_plotter_functions.py:19: UserWarning: Matplotlib is currently using agg, which is a non-GUI backend, so cannot show the figure.\n",
      "  plt.show()\n"
     ]
    },
    {
     "name": "stdout",
     "output_type": "stream",
     "text": [
      "========== 1/45 Done ==========\n"
     ]
    },
    {
     "name": "stderr",
     "output_type": "stream",
     "text": [
      "/Users/shanto/LFL/HMM_Analysis/HMM_plotter_functions.py:19: UserWarning: Matplotlib is currently using agg, which is a non-GUI backend, so cannot show the figure.\n",
      "  plt.show()\n"
     ]
    },
    {
     "name": "stdout",
     "output_type": "stream",
     "text": [
      "========== 2/45 Done ==========\n",
      "========== 3/45 Done ==========\n"
     ]
    },
    {
     "name": "stderr",
     "output_type": "stream",
     "text": [
      "/Users/shanto/LFL/HMM_Analysis/HMM_plotter_functions.py:176: UserWarning: constrained_layout not applied because axes sizes collapsed to zero.  Try making figure larger or axes decorations smaller.\n",
      "  plt.savefig(figname, bbox_inches='tight')\n",
      "/Users/shanto/LFL/HMM_Analysis/HMM_plotter_functions.py:176: UserWarning: constrained_layout not applied because axes sizes collapsed to zero.  Try making figure larger or axes decorations smaller.\n",
      "  plt.savefig(figname, bbox_inches='tight')\n",
      "/Users/shanto/LFL/HMM_Analysis/HMM_plotter_functions.py:19: UserWarning: Matplotlib is currently using agg, which is a non-GUI backend, so cannot show the figure.\n",
      "  plt.show()\n",
      "/Users/shanto/LFL/HMM_Analysis/HMM_plotter_functions.py:19: UserWarning: Matplotlib is currently using agg, which is a non-GUI backend, so cannot show the figure.\n",
      "  plt.show()\n"
     ]
    },
    {
     "name": "stdout",
     "output_type": "stream",
     "text": [
      "========== 4/45 Done ==========\n"
     ]
    },
    {
     "name": "stderr",
     "output_type": "stream",
     "text": [
      "/Users/shanto/LFL/HMM_Analysis/HMM_plotter_functions.py:19: UserWarning: Matplotlib is currently using agg, which is a non-GUI backend, so cannot show the figure.\n",
      "  plt.show()\n"
     ]
    },
    {
     "name": "stdout",
     "output_type": "stream",
     "text": [
      "========== 5/45 Done ==========\n"
     ]
    },
    {
     "name": "stderr",
     "output_type": "stream",
     "text": [
      "/Users/shanto/LFL/HMM_Analysis/HMM_plotter_functions.py:176: UserWarning: constrained_layout not applied because axes sizes collapsed to zero.  Try making figure larger or axes decorations smaller.\n",
      "  plt.savefig(figname, bbox_inches='tight')\n",
      "/Users/shanto/LFL/HMM_Analysis/HMM_plotter_functions.py:19: UserWarning: Matplotlib is currently using agg, which is a non-GUI backend, so cannot show the figure.\n",
      "  plt.show()\n",
      "/Users/shanto/LFL/HMM_Analysis/HMM_plotter_functions.py:19: UserWarning: Matplotlib is currently using agg, which is a non-GUI backend, so cannot show the figure.\n",
      "  plt.show()\n"
     ]
    },
    {
     "name": "stdout",
     "output_type": "stream",
     "text": [
      "========== 6/45 Done ==========\n"
     ]
    },
    {
     "name": "stderr",
     "output_type": "stream",
     "text": [
      "/Users/shanto/LFL/HMM_Analysis/HMM_plotter_functions.py:19: UserWarning: Matplotlib is currently using agg, which is a non-GUI backend, so cannot show the figure.\n",
      "  plt.show()\n"
     ]
    },
    {
     "name": "stdout",
     "output_type": "stream",
     "text": [
      "========== 7/45 Done ==========\n"
     ]
    },
    {
     "name": "stderr",
     "output_type": "stream",
     "text": [
      "/Users/shanto/LFL/HMM_Analysis/HMM_plotter_functions.py:19: UserWarning: Matplotlib is currently using agg, which is a non-GUI backend, so cannot show the figure.\n",
      "  plt.show()\n"
     ]
    },
    {
     "name": "stdout",
     "output_type": "stream",
     "text": [
      "========== 8/45 Done ==========\n"
     ]
    },
    {
     "name": "stderr",
     "output_type": "stream",
     "text": [
      "/Users/shanto/LFL/HMM_Analysis/HMM_plotter_functions.py:176: UserWarning: constrained_layout not applied because axes sizes collapsed to zero.  Try making figure larger or axes decorations smaller.\n",
      "  plt.savefig(figname, bbox_inches='tight')\n",
      "/Users/shanto/LFL/HMM_Analysis/HMM_plotter_functions.py:176: UserWarning: constrained_layout not applied because axes sizes collapsed to zero.  Try making figure larger or axes decorations smaller.\n",
      "  plt.savefig(figname, bbox_inches='tight')\n",
      "/Users/shanto/LFL/HMM_Analysis/HMM_plotter_functions.py:19: UserWarning: Matplotlib is currently using agg, which is a non-GUI backend, so cannot show the figure.\n",
      "  plt.show()\n"
     ]
    },
    {
     "name": "stdout",
     "output_type": "stream",
     "text": [
      "========== 9/45 Done ==========\n"
     ]
    },
    {
     "name": "stderr",
     "output_type": "stream",
     "text": [
      "/Users/shanto/LFL/HMM_Analysis/HMM_plotter_functions.py:19: UserWarning: Matplotlib is currently using agg, which is a non-GUI backend, so cannot show the figure.\n",
      "  plt.show()\n"
     ]
    },
    {
     "name": "stdout",
     "output_type": "stream",
     "text": [
      "========== 10/45 Done ==========\n"
     ]
    },
    {
     "name": "stderr",
     "output_type": "stream",
     "text": [
      "/Users/shanto/LFL/HMM_Analysis/HMM_plotter_functions.py:176: UserWarning: constrained_layout not applied because axes sizes collapsed to zero.  Try making figure larger or axes decorations smaller.\n",
      "  plt.savefig(figname, bbox_inches='tight')\n",
      "/Users/shanto/LFL/HMM_Analysis/HMM_plotter_functions.py:176: UserWarning: constrained_layout not applied because axes sizes collapsed to zero.  Try making figure larger or axes decorations smaller.\n",
      "  plt.savefig(figname, bbox_inches='tight')\n",
      "/Users/shanto/LFL/HMM_Analysis/HMM_plotter_functions.py:19: UserWarning: Matplotlib is currently using agg, which is a non-GUI backend, so cannot show the figure.\n",
      "  plt.show()\n"
     ]
    },
    {
     "name": "stdout",
     "output_type": "stream",
     "text": [
      "========== 11/45 Done ==========\n"
     ]
    },
    {
     "name": "stderr",
     "output_type": "stream",
     "text": [
      "/Users/shanto/LFL/HMM_Analysis/HMM_plotter_functions.py:176: UserWarning: constrained_layout not applied because axes sizes collapsed to zero.  Try making figure larger or axes decorations smaller.\n",
      "  plt.savefig(figname, bbox_inches='tight')\n",
      "/Users/shanto/LFL/HMM_Analysis/HMM_plotter_functions.py:19: UserWarning: Matplotlib is currently using agg, which is a non-GUI backend, so cannot show the figure.\n",
      "  plt.show()\n"
     ]
    },
    {
     "name": "stdout",
     "output_type": "stream",
     "text": [
      "========== 12/45 Done ==========\n"
     ]
    },
    {
     "name": "stderr",
     "output_type": "stream",
     "text": [
      "/Users/shanto/LFL/HMM_Analysis/HMM_plotter_functions.py:19: UserWarning: Matplotlib is currently using agg, which is a non-GUI backend, so cannot show the figure.\n",
      "  plt.show()\n"
     ]
    },
    {
     "name": "stdout",
     "output_type": "stream",
     "text": [
      "========== 13/45 Done ==========\n"
     ]
    },
    {
     "name": "stderr",
     "output_type": "stream",
     "text": [
      "/Users/shanto/LFL/HMM_Analysis/HMM_plotter_functions.py:176: UserWarning: constrained_layout not applied because axes sizes collapsed to zero.  Try making figure larger or axes decorations smaller.\n",
      "  plt.savefig(figname, bbox_inches='tight')\n",
      "/Users/shanto/LFL/HMM_Analysis/HMM_plotter_functions.py:19: UserWarning: Matplotlib is currently using agg, which is a non-GUI backend, so cannot show the figure.\n",
      "  plt.show()\n"
     ]
    }
   ],
   "source": [
    "for i,hdf5_file in enumerate(hdf5_files):\n",
    "    try:\n",
    "        #print(f\"Processing {hdf5_file} ...\")\n",
    "        create_HMM_QP_statistics_plots(hdf5_file, figpaths[i], num_modes[i])\n",
    "        print(\"=\"*10+f\" {i}/{len(hdf5_files)} Done \"+\"=\"*10)\n",
    "    except Exception as e:\n",
    "        print(f\"Problem with {hdf5_file}\")\n",
    "        print(e)"
   ]
  },
  {
   "cell_type": "code",
   "execution_count": null,
   "id": "370e054a",
   "metadata": {},
   "outputs": [],
   "source": []
  }
 ],
 "metadata": {
  "hide_input": false,
  "kernelspec": {
   "display_name": "Python 3 (ipykernel)",
   "language": "python",
   "name": "python3"
  },
  "language_info": {
   "codemirror_mode": {
    "name": "ipython",
    "version": 3
   },
   "file_extension": ".py",
   "mimetype": "text/x-python",
   "name": "python",
   "nbconvert_exporter": "python",
   "pygments_lexer": "ipython3",
   "version": "3.9.12"
  },
  "latex_envs": {
   "LaTeX_envs_menu_present": true,
   "autoclose": false,
   "autocomplete": true,
   "bibliofile": "biblio.bib",
   "cite_by": "apalike",
   "current_citInitial": 1,
   "eqLabelWithNumbers": true,
   "eqNumInitial": 1,
   "hotkeys": {
    "equation": "Ctrl-E",
    "itemize": "Ctrl-I"
   },
   "labels_anchors": false,
   "latex_user_defs": false,
   "report_style_numbering": false,
   "user_envs_cfg": false
  },
  "toc": {
   "base_numbering": 1,
   "nav_menu": {},
   "number_sections": true,
   "sideBar": true,
   "skip_h1_title": false,
   "title_cell": "Table of Contents",
   "title_sidebar": "Contents",
   "toc_cell": false,
   "toc_position": {
    "height": "100px",
    "left": "10px",
    "top": "150px",
    "width": "165px"
   },
   "toc_section_display": true,
   "toc_window_display": false
  },
  "varInspector": {
   "cols": {
    "lenName": 16,
    "lenType": 16,
    "lenVar": 40
   },
   "kernels_config": {
    "python": {
     "delete_cmd_postfix": "",
     "delete_cmd_prefix": "del ",
     "library": "var_list.py",
     "varRefreshCmd": "print(var_dic_list())"
    },
    "r": {
     "delete_cmd_postfix": ") ",
     "delete_cmd_prefix": "rm(",
     "library": "var_list.r",
     "varRefreshCmd": "cat(var_dic_list()) "
    }
   },
   "types_to_exclude": [
    "module",
    "function",
    "builtin_function_or_method",
    "instance",
    "_Feature"
   ],
   "window_display": false
  }
 },
 "nbformat": 4,
 "nbformat_minor": 5
}
