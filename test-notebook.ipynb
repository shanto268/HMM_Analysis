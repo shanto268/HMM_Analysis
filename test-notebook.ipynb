{
 "cells": [
  {
   "cell_type": "code",
   "execution_count": 1,
   "id": "e023b07c",
   "metadata": {
    "ExecuteTime": {
     "end_time": "2022-10-26T03:16:56.299073Z",
     "start_time": "2022-10-26T03:16:55.577240Z"
    }
   },
   "outputs": [],
   "source": [
    "from HMM_helper_functions import *\n",
    "from HMM_plotter_functions import *"
   ]
  },
  {
   "cell_type": "code",
   "execution_count": 2,
   "id": "0b9d0028",
   "metadata": {
    "ExecuteTime": {
     "end_time": "2022-10-26T03:16:56.327738Z",
     "start_time": "2022-10-26T03:16:56.320207Z"
    }
   },
   "outputs": [],
   "source": [
    "hdf5_file = r\"/Volumes/GoogleDrive/Shared drives/Quasiparticles_2/NBR07_Oct2022/Power_Sweep_Alazar_Card_TWPA_JPA_On_No_Final_Amplifier_Higher_fd/powerSweep/AnalyisResults/FullDataset_2_modes.hdf5\"\n",
    "numModes = 2\n",
    "figpath = \"test\"\n",
    "\n",
    "fb = h5py.File(hdf5_file, \"r\")"
   ]
  },
  {
   "cell_type": "code",
   "execution_count": null,
   "id": "c3e3ebb2",
   "metadata": {
    "ExecuteTime": {
     "start_time": "2022-10-26T03:16:57.006Z"
    }
   },
   "outputs": [
    {
     "name": "stderr",
     "output_type": "stream",
     "text": [
      "/Users/shanto/LFL/HMM_Analysis/HMM_helper_functions.py:224: UserWarning: This figure was using a layout engine that is incompatible with subplots_adjust and/or tight_layout; not calling subplots_adjust.\n",
      "  plt.subplots_adjust(top=0.85)     # Add space at top\n"
     ]
    }
   ],
   "source": [
    "create_HMM_QP_statistics_plots(hdf5_file, figpath, numModes)"
   ]
  },
  {
   "cell_type": "code",
   "execution_count": null,
   "id": "46169881",
   "metadata": {},
   "outputs": [],
   "source": []
  }
 ],
 "metadata": {
  "hide_input": false,
  "kernelspec": {
   "display_name": "Python 3 (ipykernel)",
   "language": "python",
   "name": "python3"
  },
  "language_info": {
   "codemirror_mode": {
    "name": "ipython",
    "version": 3
   },
   "file_extension": ".py",
   "mimetype": "text/x-python",
   "name": "python",
   "nbconvert_exporter": "python",
   "pygments_lexer": "ipython3",
   "version": "3.9.12"
  },
  "latex_envs": {
   "LaTeX_envs_menu_present": true,
   "autoclose": false,
   "autocomplete": true,
   "bibliofile": "biblio.bib",
   "cite_by": "apalike",
   "current_citInitial": 1,
   "eqLabelWithNumbers": true,
   "eqNumInitial": 1,
   "hotkeys": {
    "equation": "Ctrl-E",
    "itemize": "Ctrl-I"
   },
   "labels_anchors": false,
   "latex_user_defs": false,
   "report_style_numbering": false,
   "user_envs_cfg": false
  },
  "toc": {
   "base_numbering": 1,
   "nav_menu": {},
   "number_sections": true,
   "sideBar": true,
   "skip_h1_title": false,
   "title_cell": "Table of Contents",
   "title_sidebar": "Contents",
   "toc_cell": false,
   "toc_position": {
    "height": "100px",
    "left": "10px",
    "top": "150px",
    "width": "165px"
   },
   "toc_section_display": true,
   "toc_window_display": false
  },
  "varInspector": {
   "cols": {
    "lenName": 16,
    "lenType": 16,
    "lenVar": 40
   },
   "kernels_config": {
    "python": {
     "delete_cmd_postfix": "",
     "delete_cmd_prefix": "del ",
     "library": "var_list.py",
     "varRefreshCmd": "print(var_dic_list())"
    },
    "r": {
     "delete_cmd_postfix": ") ",
     "delete_cmd_prefix": "rm(",
     "library": "var_list.r",
     "varRefreshCmd": "cat(var_dic_list()) "
    }
   },
   "types_to_exclude": [
    "module",
    "function",
    "builtin_function_or_method",
    "instance",
    "_Feature"
   ],
   "window_display": false
  }
 },
 "nbformat": 4,
 "nbformat_minor": 5
}
