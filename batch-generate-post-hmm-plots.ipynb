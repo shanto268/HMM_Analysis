{
 "cells": [
  {
   "cell_type": "markdown",
   "metadata": {},
   "source": [
    "# Generating Post-HMM Plots in Batch\n",
    "\n",
    "Valid till data of **October 2022**"
   ]
  },
  {
   "cell_type": "code",
   "execution_count": 1,
   "metadata": {
    "ExecuteTime": {
     "end_time": "2022-10-26T23:42:16.610090Z",
     "start_time": "2022-10-26T23:42:15.340261Z"
    }
   },
   "outputs": [],
   "source": [
    "from HMM_helper_functions import *\n",
    "from HMM_plotter_functions import *"
   ]
  },
  {
   "cell_type": "code",
   "execution_count": 2,
   "metadata": {
    "ExecuteTime": {
     "end_time": "2022-10-26T23:42:17.682753Z",
     "start_time": "2022-10-26T23:42:16.948531Z"
    }
   },
   "outputs": [],
   "source": [
    "drive_base = r\"G:\\Shared drives\\Quasiparticles_2\\NBR07_Oct2022/\"\n",
    "hdf5_files = glob.glob(drive_base+\"*/*/*/*.hdf5\")\n",
    "num_modes = [int(hdf5_files[i].split(\"/\")[-1].split(\"M\")[-1].split(\"_\")[0]) for i in range(len(hdf5_files))]\n",
    "figpaths = [hdf5_file.split(\".\")[0].split(\"/F\")[0]+\"/Post_HMM_Figures\" for hdf5_file in hdf5_files]"
   ]
  },
  {
   "cell_type": "code",
   "execution_count": 3,
   "metadata": {
    "ExecuteTime": {
     "end_time": "2022-10-26T23:55:18.436934Z",
     "start_time": "2022-10-26T23:42:18.245611Z"
    }
   },
   "outputs": [
    {
     "name": "stdout",
     "output_type": "stream",
     "text": [
      "========== 0/43 Done ==========\n",
      "========== 1/43 Done ==========\n",
      "========== 2/43 Done ==========\n",
      "========== 3/43 Done ==========\n",
      "========== 4/43 Done ==========\n",
      "========== 5/43 Done ==========\n",
      "========== 6/43 Done ==========\n",
      "========== 7/43 Done ==========\n",
      "========== 8/43 Done ==========\n",
      "========== 9/43 Done ==========\n",
      "========== 10/43 Done ==========\n",
      "========== 11/43 Done ==========\n",
      "========== 12/43 Done ==========\n",
      "========== 13/43 Done ==========\n",
      "Issue with \"create_weighted_lifetime_distribution\" \n",
      "Error message index 0 is out of bounds for axis 0 with size 0\n",
      "========== 14/43 Done ==========\n",
      "========== 15/43 Done ==========\n",
      "========== 16/43 Done ==========\n",
      "========== 17/43 Done ==========\n",
      "Issue with \"create_lifetime_distribution\" \n",
      "Error message local variable 'nEst' referenced before assignment\n",
      "Issue with \"create_weighted_lifetime_distribution\" \n",
      "Error message local variable 'nEst' referenced before assignment\n",
      "========== 18/43 Done ==========\n",
      "========== 19/43 Done ==========\n",
      "Issue with \"create_lifetime_distribution\" \n",
      "Error message If mode is 'interp', window_length must be less than or equal to the size of x.\n",
      "Issue with \"create_weighted_lifetime_distribution\" \n",
      "Error message If mode is 'interp', window_length must be less than or equal to the size of x.\n",
      "========== 20/43 Done ==========\n",
      "========== 21/43 Done ==========\n",
      "Issue with \"create_weighted_lifetime_distribution\" \n",
      "Error message index 0 is out of bounds for axis 0 with size 0\n",
      "========== 22/43 Done ==========\n",
      "========== 23/43 Done ==========\n",
      "========== 24/43 Done ==========\n",
      "========== 25/43 Done ==========\n",
      "========== 26/43 Done ==========\n",
      "========== 27/43 Done ==========\n",
      "========== 28/43 Done ==========\n",
      "========== 29/43 Done ==========\n",
      "========== 30/43 Done ==========\n",
      "========== 31/43 Done ==========\n",
      "========== 32/43 Done ==========\n",
      "Issue with \"create_weighted_lifetime_distribution\" \n",
      "Error message index 0 is out of bounds for axis 0 with size 0\n",
      "========== 33/43 Done ==========\n",
      "========== 34/43 Done ==========\n",
      "========== 35/43 Done ==========\n",
      "========== 36/43 Done ==========\n",
      "========== 37/43 Done ==========\n",
      "========== 38/43 Done ==========\n",
      "========== 39/43 Done ==========\n",
      "========== 40/43 Done ==========\n",
      "========== 41/43 Done ==========\n",
      "========== 42/43 Done ==========\n"
     ]
    }
   ],
   "source": [
    "for i,hdf5_file in enumerate(hdf5_files):\n",
    "    try:\n",
    "        #print(f\"Processing {hdf5_file} ...\")\n",
    "        create_HMM_QP_statistics_plots(hdf5_file, figpaths[i], num_modes[i])\n",
    "        print(\"=\"*10+f\" {i}/{len(hdf5_files)} Done \"+\"=\"*10)\n",
    "    except Exception as e:\n",
    "        print(f\"Problem with {hdf5_file}\")\n",
    "        print(e)"
   ]
  },
  {
   "cell_type": "markdown",
   "metadata": {},
   "source": [
    "## Test on One Instance:"
   ]
  },
  {
   "cell_type": "code",
   "execution_count": null,
   "metadata": {
    "ExecuteTime": {
     "end_time": "2022-10-26T23:38:04.595030Z",
     "start_time": "2022-10-26T23:37:53.605233Z"
    }
   },
   "outputs": [],
   "source": [
    "create_HMM_QP_statistics_plots(hdf5_files[3], \"test\", num_modes[3])"
   ]
  },
  {
   "cell_type": "code",
   "execution_count": null,
   "metadata": {},
   "outputs": [],
   "source": []
  }
 ],
 "metadata": {
  "hide_input": false,
  "kernelspec": {
   "display_name": "Python 3",
   "language": "python",
   "name": "python3"
  },
  "language_info": {
   "codemirror_mode": {
    "name": "ipython",
    "version": 3
   },
   "file_extension": ".py",
   "mimetype": "text/x-python",
   "name": "python",
   "nbconvert_exporter": "python",
   "pygments_lexer": "ipython3",
   "version": "3.8.5"
  },
  "latex_envs": {
   "LaTeX_envs_menu_present": true,
   "autoclose": false,
   "autocomplete": true,
   "bibliofile": "biblio.bib",
   "cite_by": "apalike",
   "current_citInitial": 1,
   "eqLabelWithNumbers": true,
   "eqNumInitial": 1,
   "hotkeys": {
    "equation": "Ctrl-E",
    "itemize": "Ctrl-I"
   },
   "labels_anchors": false,
   "latex_user_defs": false,
   "report_style_numbering": false,
   "user_envs_cfg": false
  },
  "toc": {
   "base_numbering": 1,
   "nav_menu": {},
   "number_sections": true,
   "sideBar": true,
   "skip_h1_title": false,
   "title_cell": "Table of Contents",
   "title_sidebar": "Contents",
   "toc_cell": false,
   "toc_position": {
    "height": "100px",
    "left": "10px",
    "top": "150px",
    "width": "165px"
   },
   "toc_section_display": true,
   "toc_window_display": false
  },
  "varInspector": {
   "cols": {
    "lenName": 16,
    "lenType": 16,
    "lenVar": 40
   },
   "kernels_config": {
    "python": {
     "delete_cmd_postfix": "",
     "delete_cmd_prefix": "del ",
     "library": "var_list.py",
     "varRefreshCmd": "print(var_dic_list())"
    },
    "r": {
     "delete_cmd_postfix": ") ",
     "delete_cmd_prefix": "rm(",
     "library": "var_list.r",
     "varRefreshCmd": "cat(var_dic_list()) "
    }
   },
   "types_to_exclude": [
    "module",
    "function",
    "builtin_function_or_method",
    "instance",
    "_Feature"
   ],
   "window_display": false
  }
 },
 "nbformat": 4,
 "nbformat_minor": 5
}
